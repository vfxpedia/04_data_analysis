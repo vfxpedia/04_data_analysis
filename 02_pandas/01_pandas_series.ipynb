{
 "cells": [
  {
   "cell_type": "markdown",
   "id": "1822a519",
   "metadata": {},
   "source": [
    "---\n",
    "\n",
    "### pandas"
   ]
  },
  {
   "cell_type": "code",
   "execution_count": 1,
   "id": "aa348756",
   "metadata": {},
   "outputs": [
    {
     "name": "stdout",
     "output_type": "stream",
     "text": [
      "Package                   Version\n",
      "------------------------- --------------\n",
      "altair                    5.5.0\n",
      "anyio                     4.10.0\n",
      "argon2-cffi               25.1.0\n",
      "argon2-cffi-bindings      25.1.0\n",
      "arrow                     1.3.0\n",
      "asttokens                 3.0.0\n",
      "async-lru                 2.0.5\n",
      "attrs                     25.3.0\n",
      "babel                     2.17.0\n",
      "beautifulsoup4            4.13.4\n",
      "bleach                    6.2.0\n",
      "blinker                   1.9.0\n",
      "branca                    0.8.1\n",
      "cachetools                6.2.0\n",
      "certifi                   2025.8.3\n",
      "cffi                      1.17.1\n",
      "charset-normalizer        3.4.3\n",
      "click                     8.2.1\n",
      "colorama                  0.4.6\n",
      "comm                      0.2.3\n",
      "contourpy                 1.3.3\n",
      "cycler                    0.12.1\n",
      "debugpy                   1.8.16\n",
      "decorator                 5.2.1\n",
      "defusedxml                0.7.1\n",
      "et_xmlfile                2.0.0\n",
      "executing                 2.2.0\n",
      "fastjsonschema            2.21.2\n",
      "folium                    0.20.0\n",
      "fonttools                 4.59.1\n",
      "fqdn                      1.5.1\n",
      "gitdb                     4.0.12\n",
      "GitPython                 3.1.45\n",
      "greenlet                  3.2.4\n",
      "h11                       0.16.0\n",
      "httpcore                  1.0.9\n",
      "httpx                     0.28.1\n",
      "idna                      3.10\n",
      "ipykernel                 6.30.1\n",
      "ipython                   9.4.0\n",
      "ipython_pygments_lexers   1.1.1\n",
      "ipywidgets                8.1.7\n",
      "isoduration               20.11.0\n",
      "jedi                      0.19.2\n",
      "Jinja2                    3.1.6\n",
      "json5                     0.12.1\n",
      "jsonpointer               3.0.0\n",
      "jsonschema                4.25.0\n",
      "jsonschema-specifications 2025.4.1\n",
      "jupyter                   1.1.1\n",
      "jupyter_client            8.6.3\n",
      "jupyter-console           6.6.3\n",
      "jupyter_core              5.8.1\n",
      "jupyter-events            0.12.0\n",
      "jupyter-lsp               2.2.6\n",
      "jupyter_server            2.16.0\n",
      "jupyter_server_terminals  0.5.3\n",
      "jupyterlab                4.4.6\n",
      "jupyterlab_pygments       0.3.0\n",
      "jupyterlab_server         2.27.3\n",
      "jupyterlab_widgets        3.0.15\n",
      "kiwisolver                1.4.9\n",
      "lark                      1.2.2\n",
      "MarkupSafe                3.0.2\n",
      "matplotlib                3.10.5\n",
      "matplotlib-inline         0.1.7\n",
      "mistune                   3.1.3\n",
      "mysql-connector-python    9.4.0\n",
      "narwhals                  2.2.0\n",
      "nbclient                  0.10.2\n",
      "nbconvert                 7.16.6\n",
      "nbformat                  5.10.4\n",
      "nest-asyncio              1.6.0\n",
      "notebook                  7.4.5\n",
      "notebook_shim             0.2.4\n",
      "npm                       0.1.1\n",
      "numpy                     2.3.2\n",
      "openpyxl                  3.1.5\n",
      "optional-django           0.1.0\n",
      "outcome                   1.3.0.post0\n",
      "overrides                 7.7.0\n",
      "packaging                 25.0\n",
      "pandas                    2.3.2\n",
      "pandocfilters             1.5.1\n",
      "parso                     0.8.4\n",
      "pillow                    11.3.0\n",
      "pip                       25.1\n",
      "platformdirs              4.3.8\n",
      "plotly                    6.3.0\n",
      "prometheus_client         0.22.1\n",
      "prompt_toolkit            3.0.51\n",
      "protobuf                  6.32.0\n",
      "psutil                    7.0.0\n",
      "pure_eval                 0.2.3\n",
      "pyarrow                   21.0.0\n",
      "pycparser                 2.22\n",
      "pydeck                    0.9.1\n",
      "Pygments                  2.19.2\n",
      "PyMySQL                   1.1.2\n",
      "pyparsing                 3.2.3\n",
      "PySocks                   1.7.1\n",
      "python-dateutil           2.9.0.post0\n",
      "python-dotenv             1.1.1\n",
      "python-json-logger        3.3.0\n",
      "pytz                      2025.2\n",
      "pywin32                   311\n",
      "pywinpty                  3.0.0\n",
      "PyYAML                    6.0.2\n",
      "pyzmq                     27.0.1\n",
      "referencing               0.36.2\n",
      "requests                  2.32.4\n",
      "rfc3339-validator         0.1.4\n",
      "rfc3986-validator         0.1.1\n",
      "rfc3987-syntax            1.1.0\n",
      "rpds-py                   0.27.0\n",
      "selenium                  4.35.0\n",
      "Send2Trash                1.8.3\n",
      "setuptools                78.1.1\n",
      "six                       1.17.0\n",
      "smmap                     5.0.2\n",
      "sniffio                   1.3.1\n",
      "sortedcontainers          2.4.0\n",
      "soupsieve                 2.7\n",
      "SQLAlchemy                2.0.43\n",
      "stack-data                0.6.3\n",
      "streamlit                 1.48.1\n",
      "streamlit-folium          0.25.1\n",
      "tenacity                  9.1.2\n",
      "terminado                 0.18.1\n",
      "tinycss2                  1.4.0\n",
      "toml                      0.10.2\n",
      "tornado                   6.5.2\n",
      "traitlets                 5.14.3\n",
      "trio                      0.30.0\n",
      "trio-websocket            0.12.2\n",
      "types-python-dateutil     2.9.0.20250809\n",
      "typing_extensions         4.14.1\n",
      "tzdata                    2025.2\n",
      "uri-template              1.3.0\n",
      "urllib3                   2.5.0\n",
      "watchdog                  6.0.0\n",
      "wcwidth                   0.2.13\n",
      "webcolors                 24.11.1\n",
      "webencodings              0.5.1\n",
      "websocket-client          1.8.0\n",
      "wheel                     0.45.1\n",
      "widgetsnbextension        4.0.14\n",
      "wsproto                   1.2.0\n",
      "xyzservices               2025.4.0\n"
     ]
    }
   ],
   "source": [
    "!pip list"
   ]
  },
  {
   "cell_type": "code",
   "execution_count": null,
   "id": "431ec6d6",
   "metadata": {},
   "outputs": [],
   "source": [
    "# !pip install pandas"
   ]
  },
  {
   "cell_type": "code",
   "execution_count": 2,
   "id": "9449bc8f",
   "metadata": {},
   "outputs": [],
   "source": [
    "import numpy as np\n",
    "import pandas as pd"
   ]
  },
  {
   "cell_type": "code",
   "execution_count": 6,
   "id": "1aa676f7",
   "metadata": {},
   "outputs": [],
   "source": [
    "n= \"\\n-----------------------------------------------------------------------------\\n\""
   ]
  },
  {
   "cell_type": "markdown",
   "id": "22aa1be9",
   "metadata": {},
   "source": [
    "---\n",
    "#### Series 생성\n",
    "- index(label)을 통해 처리 가능한 1차원 배열"
   ]
  },
  {
   "cell_type": "code",
   "execution_count": null,
   "id": "488e91a9",
   "metadata": {},
   "outputs": [
    {
     "name": "stdout",
     "output_type": "stream",
     "text": [
      "0    NVDA\n",
      "1    MSFT\n",
      "2    TSLA\n",
      "3    AMZN\n",
      "4    GOOG\n",
      "5    META\n",
      "6    APPL\n",
      "dtype: object <class 'pandas.core.series.Series'> \n",
      "-----------------------------------------------------------------------------\n",
      "\n",
      "GOOG \n",
      "-----------------------------------------------------------------------------\n",
      "\n",
      "RangeIndex(start=0, stop=7, step=1) \n",
      "-----------------------------------------------------------------------------\n",
      "\n",
      "['NVDA' 'MSFT' 'TSLA' 'AMZN' 'GOOG' 'META' 'APPL'] \n",
      "-----------------------------------------------------------------------------\n",
      "\n",
      "0    NVDA\n",
      "1    MSFT\n",
      "2    TSLA\n",
      "3    AMZN\n",
      "4    GOOG\n",
      "5    META\n",
      "6    APPL\n",
      "Name: 미국 주식, dtype: object \n",
      "-----------------------------------------------------------------------------\n",
      "\n",
      "주식 종목\n",
      "0    NVDA\n",
      "1    MSFT\n",
      "2    TSLA\n",
      "3    AMZN\n",
      "4    GOOG\n",
      "5    META\n",
      "6    APPL\n",
      "Name: 미국 주식, dtype: object \n",
      "-----------------------------------------------------------------------------\n",
      "\n",
      "NVDA    NVDA\n",
      "MSFT    MSFT\n",
      "TSLA    TSLA\n",
      "AMZN    AMZN\n",
      "GOOG    GOOG\n",
      "META    META\n",
      "APPL    APPL\n",
      "Name: 미국 주식, dtype: object \n",
      "-----------------------------------------------------------------------------\n",
      "\n"
     ]
    }
   ],
   "source": [
    "# 1. 파이썬의 list 활용\n",
    "stocks = ['NVDA', 'MSFT', 'TSLA', 'AMZN', 'GOOG', 'META', 'APPL']\n",
    "stocks_series = pd.Series(stocks)\n",
    "print(stocks_series, type(stocks_series), n)\n",
    "print(stocks_series[4], n)\n",
    "print(stocks_series.index, n)\n",
    "print(stocks_series.values, n)\n",
    "\n",
    "stocks_series.name = '미국 주식'\n",
    "print(stocks_series, n)\n",
    "\n",
    "stocks_series.index.name = '주식 종목'\n",
    "print(stocks_series, n)\n",
    "\n",
    "stocks_series.index = ['NVDA', 'MSFT', 'TSLA', 'AMZN', 'GOOG', 'META', 'APPL']\n",
    "print(stocks_series, n)\n",
    "\n",
    "\n"
   ]
  },
  {
   "cell_type": "code",
   "execution_count": null,
   "id": "64b24a4c",
   "metadata": {},
   "outputs": [
    {
     "name": "stdout",
     "output_type": "stream",
     "text": [
      "a   -1.044803\n",
      "b   -0.567313\n",
      "c   -1.308896\n",
      "d    0.586942\n",
      "e    1.018823\n",
      "dtype: float64 \n",
      "-----------------------------------------------------------------------------\n",
      "\n",
      "-1.3088958362623957 \n",
      "-----------------------------------------------------------------------------\n",
      "\n",
      "-1.3088958362623957 -1.3088958362623957 \n",
      "-----------------------------------------------------------------------------\n",
      "\n",
      "-1.3088958362623957 -1.3088958362623957 \n",
      "-----------------------------------------------------------------------------\n",
      "\n",
      "-1.3088958362623957 \n",
      "-----------------------------------------------------------------------------\n",
      "\n",
      "-1.0448030188517974 \n",
      "-----------------------------------------------------------------------------\n",
      "\n",
      "a   -1.044803\n",
      "c   -1.308896\n",
      "dtype: float64 \n",
      "-----------------------------------------------------------------------------\n",
      "\n",
      "a   -1.044803\n",
      "b   -0.567313\n",
      "c   -1.308896\n",
      "dtype: float64 \n",
      "-----------------------------------------------------------------------------\n",
      "\n",
      "d    0.586942\n",
      "e    1.018823\n",
      "dtype: float64 \n",
      "-----------------------------------------------------------------------------\n",
      "\n",
      "Index(['a', 'b', 'c', 'd', 'e'], dtype='object') \n",
      "-----------------------------------------------------------------------------\n",
      "\n",
      "[-1.04480302 -0.56731278 -1.30889584  0.5869419   1.01882346] \n",
      "-----------------------------------------------------------------------------\n",
      "\n"
     ]
    },
    {
     "name": "stderr",
     "output_type": "stream",
     "text": [
      "C:\\Users\\Playdata\\AppData\\Local\\Temp\\ipykernel_23776\\2131801435.py:4: FutureWarning: Series.__getitem__ treating keys as positions is deprecated. In a future version, integer keys will always be treated as labels (consistent with DataFrame behavior). To access a value by position, use `ser.iloc[pos]`\n",
      "  print(nums_series[2], n)\n",
      "C:\\Users\\Playdata\\AppData\\Local\\Temp\\ipykernel_23776\\2131801435.py:5: FutureWarning: Series.__getitem__ treating keys as positions is deprecated. In a future version, integer keys will always be treated as labels (consistent with DataFrame behavior). To access a value by position, use `ser.iloc[pos]`\n",
      "  print(nums_series[2], nums_series['c'], n)\n"
     ]
    }
   ],
   "source": [
    "# ndarray 활용\n",
    "nums_series =pd.Series(np.random.randn(5), index=['a', 'b', 'c', 'd', 'e'])\n",
    "print(nums_series, n)\n",
    "print(nums_series[2], n)\n",
    "print(nums_series[2], nums_series['c'], n)\n",
    "print(nums_series.iloc[2], nums_series.loc['c'], n)\n",
    "# iloc(integer location) : 인덱스 번호로 접근\n",
    "# loc(label location) : 인덱스 이름으로 접근\n",
    "\n",
    "print(nums_series.iloc[2], n)\n",
    "print(nums_series['a'], n)\n",
    "print(nums_series[['a', 'c']], n)\n",
    "print(nums_series[:3], n)\n",
    "print(nums_series[nums_series > 0], n)\n",
    "print(nums_series.index, n)\n",
    "print(nums_series.values, n)\n",
    "\n"
   ]
  },
  {
   "cell_type": "code",
   "execution_count": 32,
   "id": "d73a7a19",
   "metadata": {},
   "outputs": [
    {
     "name": "stdout",
     "output_type": "stream",
     "text": [
      "a    10\n",
      "b    20\n",
      "c    30\n",
      "d    40\n",
      "e    50\n",
      "dtype: int64 \n",
      "-----------------------------------------------------------------------------\n",
      "\n",
      "알파벳\n",
      "A    10\n",
      "B    20\n",
      "C    30\n",
      "D    40\n",
      "E    50\n",
      "Name: dictionary로 만드는 Series, dtype: int64 \n",
      "-----------------------------------------------------------------------------\n",
      "\n"
     ]
    }
   ],
   "source": [
    "# 3. dictinonary 활용\n",
    "\n",
    "info = {\n",
    "    'a': 10,\n",
    "    'b': 20,\n",
    "    'c': 30,\n",
    "    'd': 40,\n",
    "    'e': 50\n",
    "}\n",
    "\n",
    "info_series = pd.Series(info)\n",
    "print(info_series, n)\n",
    "\n",
    "info_series.index = ['A', 'B', 'C', 'D', 'E']\n",
    "info_series.name = 'dictionary로 만드는 Series'\n",
    "info_series.index.name = '알파벳'\n",
    "print(info_series, n)\n",
    "\n",
    "\n"
   ]
  },
  {
   "cell_type": "code",
   "execution_count": null,
   "id": "c00fbc35",
   "metadata": {},
   "outputs": [
    {
     "name": "stdout",
     "output_type": "stream",
     "text": [
      "0    5.5\n",
      "dtype: float64 \n",
      "-----------------------------------------------------------------------------\n",
      "\n",
      "a    5.5\n",
      "b    5.5\n",
      "c    5.5\n",
      "d    5.5\n",
      "e    5.5\n",
      "dtype: float64 \n",
      "-----------------------------------------------------------------------------\n",
      "\n",
      "a    change dtype object\n",
      "b                    5.5\n",
      "c                    5.5\n",
      "d                    5.5\n",
      "e                    5.5\n",
      "dtype: object \n",
      "-----------------------------------------------------------------------------\n",
      "\n",
      "Series([], dtype: object) \n",
      "-----------------------------------------------------------------------------\n",
      "\n"
     ]
    },
    {
     "name": "stderr",
     "output_type": "stream",
     "text": [
      "C:\\Users\\Playdata\\AppData\\Local\\Temp\\ipykernel_23776\\3478665037.py:7: FutureWarning: Setting an item of incompatible dtype is deprecated and will raise an error in a future version of pandas. Value 'change dtype object' has dtype incompatible with float64, please explicitly cast to a compatible dtype first.\n",
      "  num_series['a'] = 'change dtype object'\n"
     ]
    }
   ],
   "source": [
    "# 4. scalar value로 만드는 Series\n",
    "num_series = pd.Series(5.5)\n",
    "print(num_series, n)\n",
    "num_series = pd.Series(5.5, index=['a', 'b', 'c', 'd', 'e'])\n",
    "print(num_series, n)\n",
    "\n",
    "num_series['a'] = 'change dtype object'\n",
    "print(num_series, n)\n",
    "\n",
    "# 5. 빈 Series 생성\n",
    "empty_series = pd.Series()\n",
    "print(empty_series, n)\n"
   ]
  },
  {
   "cell_type": "markdown",
   "id": "a0b3c04b",
   "metadata": {},
   "source": [
    "---\n",
    "##### Series 속성"
   ]
  },
  {
   "cell_type": "code",
   "execution_count": 37,
   "id": "16762771",
   "metadata": {},
   "outputs": [
    {
     "name": "stdout",
     "output_type": "stream",
     "text": [
      "영화 순서\n",
      "0     귀멸의 칼날\n",
      "1    살인자 리포트\n",
      "2        컨저링\n",
      "3      F1더무비\n",
      "4        좀비딸\n",
      "Name: 9월 9일 상영 영화 제목, dtype: object \n",
      "-----------------------------------------------------------------------------\n",
      "\n"
     ]
    }
   ],
   "source": [
    "movies = ['귀멸의 칼날', '살인자 리포트', '컨저링', 'F1더무비', '좀비딸']\n",
    "\n",
    "movies_series = pd.Series(movies)\n",
    "movies_series.name = '9월 9일 상영 영화 제목'\n",
    "movies_series.index.name = '영화 순서'\n",
    "print(movies_series, n)"
   ]
  },
  {
   "cell_type": "code",
   "execution_count": 38,
   "id": "da73b4b8",
   "metadata": {},
   "outputs": [
    {
     "name": "stdout",
     "output_type": "stream",
     "text": [
      "['귀멸의 칼날' '살인자 리포트' '컨저링' 'F1더무비' '좀비딸'] \n",
      "-----------------------------------------------------------------------------\n",
      "\n"
     ]
    },
    {
     "data": {
      "text/plain": [
       "array(['귀멸의 칼날', '살인자 리포트', '컨저링', 'F1더무비', '좀비딸'], dtype=object)"
      ]
     },
     "execution_count": 38,
     "metadata": {},
     "output_type": "execute_result"
    }
   ],
   "source": [
    "print(movies_series.values, n)\n",
    "movies_series.values"
   ]
  },
  {
   "cell_type": "code",
   "execution_count": 39,
   "id": "49d64a71",
   "metadata": {},
   "outputs": [
    {
     "name": "stdout",
     "output_type": "stream",
     "text": [
      "<NumpyExtensionArray>\n",
      "['귀멸의 칼날', '살인자 리포트', '컨저링', 'F1더무비', '좀비딸']\n",
      "Length: 5, dtype: object \n",
      "-----------------------------------------------------------------------------\n",
      "\n",
      "<class 'pandas.core.arrays.numpy_.NumpyExtensionArray'> \n",
      "-----------------------------------------------------------------------------\n",
      "\n"
     ]
    },
    {
     "data": {
      "text/plain": [
       "<NumpyExtensionArray>\n",
       "['귀멸의 칼날', '살인자 리포트', '컨저링', 'F1더무비', '좀비딸']\n",
       "Length: 5, dtype: object"
      ]
     },
     "execution_count": 39,
     "metadata": {},
     "output_type": "execute_result"
    }
   ],
   "source": [
    "print(movies_series.array, n)\n",
    "print(type(movies_series.array), n)\n",
    "movies_series.array"
   ]
  },
  {
   "cell_type": "code",
   "execution_count": 48,
   "id": "008debec",
   "metadata": {},
   "outputs": [
    {
     "name": "stdout",
     "output_type": "stream",
     "text": [
      "movies_series.index : RangeIndex(start=0, stop=5, step=1, name='영화 순서')\n",
      "movies_series.index.name : 영화 순서\n",
      "movies_series.name : 9월 9일 상영 영화 제목\n",
      "movies_series.dtype : object\n",
      "movies_series.shape : (5,)\n",
      "movies_series.ndim : 1\n"
     ]
    }
   ],
   "source": [
    "print(\"movies_series.index :\", movies_series.index) # movies_series.index\n",
    "print(\"movies_series.index.name :\", movies_series.index.name) # 영화 순서서\n",
    "print(\"movies_series.name :\", movies_series.name) # 9월 9일 상영 영화 제목\n",
    "print(\"movies_series.dtype :\", movies_series.dtype) # object\n",
    "print(\"movies_series.shape :\", movies_series.shape) # (5,)\n",
    "print(\"movies_series.ndim :\", movies_series.ndim) # ndim = 1"
   ]
  },
  {
   "cell_type": "code",
   "execution_count": 52,
   "id": "9144c375",
   "metadata": {},
   "outputs": [
    {
     "name": "stdout",
     "output_type": "stream",
     "text": [
      "1st     귀멸의 칼날\n",
      "2nd    살인자 리포트\n",
      "3rd        컨저링\n",
      "4th      F1더무비\n",
      "5th        좀비딸\n",
      "Name: 9월 9일 상영 영화 제목, dtype: object \n",
      "-----------------------------------------------------------------------------\n",
      " [['귀멸의 칼날' '살인자 리포트' '컨저링' 'F1더무비' '좀비딸']] \n",
      "-----------------------------------------------------------------------------\n",
      "\n"
     ]
    }
   ],
   "source": [
    "np.expand_dims(movies_series, axis=0)\n",
    "print(movies_series, n, np.expand_dims(movies_series, axis=0), n)"
   ]
  },
  {
   "cell_type": "code",
   "execution_count": 49,
   "id": "0240b444",
   "metadata": {},
   "outputs": [
    {
     "name": "stdout",
     "output_type": "stream",
     "text": [
      "1st     귀멸의 칼날\n",
      "2nd    살인자 리포트\n",
      "3rd        컨저링\n",
      "4th      F1더무비\n",
      "5th        좀비딸\n",
      "Name: 9월 9일 상영 영화 제목, dtype: object \n",
      "-----------------------------------------------------------------------------\n",
      "\n"
     ]
    }
   ],
   "source": [
    "movies_series.index = ['1st', '2nd', '3rd', '4th', '5th']\n",
    "print(movies_series, n)"
   ]
  },
  {
   "cell_type": "code",
   "execution_count": 76,
   "id": "43241b2c",
   "metadata": {},
   "outputs": [
    {
     "name": "stdout",
     "output_type": "stream",
     "text": [
      "movies_series.is_unique : True \n",
      "-----------------------------------------------------------------------------\n",
      "\n",
      "movies_series.value_counts() : 9월 9일 상영 영화 제목\n",
      "귀멸의 칼날     1\n",
      "살인자 리포트    1\n",
      "컨저링        1\n",
      "F1더무비      1\n",
      "좀비딸        1\n",
      "Name: count, dtype: int64 \n",
      "-----------------------------------------------------------------------------\n",
      "\n",
      "movies_series.value_counts().index : Index(['귀멸의 칼날', '살인자 리포트', '컨저링', 'F1더무비', '좀비딸'], dtype='object', name='9월 9일 상영 영화 제목') \n",
      "-----------------------------------------------------------------------------\n",
      "\n",
      "movies_series.value_counts().values : [1 1 1 1 1] \n",
      "-----------------------------------------------------------------------------\n",
      "\n",
      "movies_series.value_counts().index.tolist() : ['귀멸의 칼날', '살인자 리포트', '컨저링', 'F1더무비', '좀비딸'] \n",
      "-----------------------------------------------------------------------------\n",
      "\n",
      "movies_series.value_counts().values.tolist() : [1, 1, 1, 1, 1] \n",
      "-----------------------------------------------------------------------------\n",
      "\n"
     ]
    }
   ],
   "source": [
    "# 시리즈의 값이 모두 고유한 값인지 여부 (True: 중복 값이 없음/ False: 중복 값이 있음)\n",
    "print(\"movies_series.is_unique :\", movies_series.is_unique, n)\n",
    "print(\"movies_series.value_counts() :\", movies_series.value_counts(), n)\n",
    "print(\"movies_series.value_counts().index :\", movies_series.value_counts().index, n)\n",
    "print(\"movies_series.value_counts().values :\", movies_series.value_counts().values, n)\n",
    "print(\"movies_series.value_counts().index.tolist() :\", movies_series.value_counts().index.tolist(), n)\n",
    "print(\"movies_series.value_counts().values.tolist() :\", movies_series.value_counts().values.tolist(), n)\n"
   ]
  },
  {
   "cell_type": "code",
   "execution_count": 62,
   "id": "a82243e3",
   "metadata": {},
   "outputs": [
    {
     "name": "stdout",
     "output_type": "stream",
     "text": [
      "dtype : object\n",
      "shape : (5,)\n",
      "ndim : 1\n",
      "size : 5\n",
      "nbytes : 40\n",
      "memory_usage : 252\n"
     ]
    }
   ],
   "source": [
    "print(\"dtype :\", movies_series.dtype)\n",
    "print(\"shape :\", movies_series.shape)\n",
    "print(\"ndim :\", movies_series.ndim)\n",
    "print(\"size :\", movies_series.size)\n",
    "print(\"nbytes :\", movies_series.nbytes)\n",
    "print(\"memory_usage :\", movies_series.memory_usage())"
   ]
  },
  {
   "cell_type": "markdown",
   "id": "7e22be17",
   "metadata": {},
   "source": [
    "---\n",
    "##### Series 메서드"
   ]
  },
  {
   "cell_type": "code",
   "execution_count": 94,
   "id": "c7d290b6",
   "metadata": {},
   "outputs": [
    {
     "name": "stdout",
     "output_type": "stream",
     "text": [
      "0    2025\n",
      "1       9\n",
      "2       9\n",
      "3      12\n",
      "4      35\n",
      "dtype: int64 \n",
      "-----------------------------------------------------------------------------\n",
      "\n",
      "sum : 2090 \n",
      "-----------------------------------------------------------------------------\n",
      "\n",
      "product : 68890500 \n",
      "-----------------------------------------------------------------------------\n",
      "\n",
      "mean : 418.0 \n",
      "-----------------------------------------------------------------------------\n",
      "\n",
      "median : 12.0 \n",
      "-----------------------------------------------------------------------------\n",
      "\n",
      "mode : 0    9\n",
      "dtype: int64 \n",
      "-----------------------------------------------------------------------------\n",
      "\n",
      "std : 898.4063668518829 \n",
      "-----------------------------------------------------------------------------\n",
      "\n",
      "var : 807134.0 \n",
      "-----------------------------------------------------------------------------\n",
      "\n"
     ]
    }
   ],
   "source": [
    "nums_series = pd.Series([2025, 9, 9, 12, 35])\n",
    "print(nums_series, n)\n",
    "print(\"sum :\", nums_series.sum(), n) # 합계\n",
    "print(\"product :\", nums_series.product(), n) # 곱\n",
    "print(\"mean :\", nums_series.mean(), n) # 평균\n",
    "print(\"median :\", nums_series.median(), n) # 중간값\n",
    "print(\"mode :\", nums_series.mode(), n) # 최빈값\n",
    "print(\"std :\", nums_series.std(), n) # 표준편차\n",
    "print(\"var :\", nums_series.var(), n) # 분산"
   ]
  },
  {
   "cell_type": "code",
   "execution_count": null,
   "id": "858e9932",
   "metadata": {},
   "outputs": [
    {
     "name": "stdout",
     "output_type": "stream",
     "text": [
      "0    2025\n",
      "1       9\n",
      "2       9\n",
      "3      12\n",
      "4      35\n",
      "dtype: int64 \n",
      "-----------------------------------------------------------------------------\n",
      "\n",
      "0    2025\n",
      "dtype: int64 \n",
      "-----------------------------------------------------------------------------\n",
      "\n",
      "nums_series.describe() : count       5.000000\n",
      "mean      418.000000\n",
      "std       898.406367\n",
      "min         9.000000\n",
      "25%         9.000000\n",
      "50%        12.000000\n",
      "75%        35.000000\n",
      "max      2025.000000\n",
      "dtype: float64 \n",
      "-----------------------------------------------------------------------------\n",
      "\n",
      "nums_series.tail(2) : \n",
      " 3    12\n",
      "4    35\n",
      "dtype: int64 \n",
      "-----------------------------------------------------------------------------\n",
      "\n"
     ]
    }
   ],
   "source": [
    "print(nums_series, n)\n",
    "print(nums_series.head(1),n) # head(n) : 처음 n개의 데이터 출력, 기본값 5\n",
    "print(\"nums_series.describe() :\", nums_series.describe(), n)\n",
    "# describe() : 기본 통계 정보 제공\n",
    "# count : 데이터 개수\n",
    "# mean : 평균\n",
    "# std : 표준편차\n",
    "# min : 최소값\n",
    "# 25% : 1사분위수\n",
    "print(\"nums_series.tail(2) :\", \"\\n\", nums_series.tail(2), n)\n",
    "# tail(n) : 마지막 n개의 데이터 출력, 기본값 5"
   ]
  },
  {
   "cell_type": "code",
   "execution_count": null,
   "id": "d6258a11",
   "metadata": {},
   "outputs": [
    {
     "name": "stdout",
     "output_type": "stream",
     "text": [
      "<class 'pandas.core.series.Series'>\n",
      "RangeIndex: 5 entries, 0 to 4\n",
      "Series name: None\n",
      "Non-Null Count  Dtype\n",
      "--------------  -----\n",
      "5 non-null      int64\n",
      "dtypes: int64(1)\n",
      "memory usage: 172.0 bytes\n",
      "nums_series.info() : \n",
      " None \n",
      "-----------------------------------------------------------------------------\n",
      "\n",
      "nums_series.describe() : \n",
      " count       5.000000\n",
      "mean      418.000000\n",
      "std       898.406367\n",
      "min         9.000000\n",
      "25%         9.000000\n",
      "50%        12.000000\n",
      "75%        35.000000\n",
      "max      2025.000000\n",
      "dtype: float64 \n",
      "-----------------------------------------------------------------------------\n",
      "\n",
      "nums_series.isnull() : \n",
      " 0    False\n",
      "1    False\n",
      "2    False\n",
      "3    False\n",
      "4    False\n",
      "dtype: bool \n",
      "-----------------------------------------------------------------------------\n",
      "\n",
      "nums_series.notnull() : \n",
      " 0    True\n",
      "1    True\n",
      "2    True\n",
      "3    True\n",
      "4    True\n",
      "dtype: bool \n",
      "-----------------------------------------------------------------------------\n",
      "\n",
      "nums_series.isna() : \n",
      " 0    False\n",
      "1    False\n",
      "2    False\n",
      "3    False\n",
      "4    False\n",
      "dtype: bool \n",
      "-----------------------------------------------------------------------------\n",
      "\n",
      "nums_series.notna() : \n",
      " 0    True\n",
      "1    True\n",
      "2    True\n",
      "3    True\n",
      "4    True\n",
      "dtype: bool \n",
      "-----------------------------------------------------------------------------\n",
      "\n"
     ]
    }
   ],
   "source": [
    "print(\"nums_series.info() :\", \"\\n\", nums_series.info(), n) # Series의 메타데이터 정보 제공\n",
    "# info() : 데이터 타입, 메모리 사용량, 데이터 개수 등 정보 제공\n",
    "# ! -> Non-Null 여부 확인, 자료형 등 확인인\n",
    "\n",
    "print(\"nums_series.describe() :\", \"\\n\", nums_series.describe(), n)\n",
    "# describe() : 기본 통계 정보 제공\n",
    "# ! -> 데이터 타입, 메모리 사용량, 데이터 개수 등 정보 제공\n",
    "\n",
    "print(\"nums_series.isnull() :\", \"\\n\", nums_series.isnull(), n)\n",
    "# isnull() : 데이터가 누락되었는지 여부 확인\n",
    "print(\"nums_series.notnull() :\", \"\\n\", nums_series.notnull(), n)\n",
    "# notnull() : 데이터가 누락되지 않았는지 여부 확인, 결측값이 있는지 여부 확인\n",
    "print(\"nums_series.isna() :\", \"\\n\", nums_series.isna(), n)\n",
    "# isna() : 데이터가 결측값인지 여부 확인\n",
    "print(\"nums_series.notna() :\", \"\\n\", nums_series.notna(), n)\n",
    "# notna() : 데이터가 결측값이 아닌지 여부 확인\n",
    "\n",
    "\n"
   ]
  },
  {
   "cell_type": "code",
   "execution_count": null,
   "id": "db5c6752",
   "metadata": {},
   "outputs": [],
   "source": [
    "# min : 최소값, 0사분위수\n",
    "# 25% : 1사분위수\n",
    "# 50% : 2사분위수(중간값)\n",
    "# 75% : 3사분위수\n",
    "# max : 최대값, 4사분위수"
   ]
  },
  {
   "cell_type": "code",
   "execution_count": 95,
   "id": "e9d64ea5",
   "metadata": {},
   "outputs": [
    {
     "name": "stdout",
     "output_type": "stream",
     "text": [
      "nums_series.iloc[1] : 9 \n",
      "-----------------------------------------------------------------------------\n",
      "\n",
      "nums_series.loc[1] : 9 \n",
      "-----------------------------------------------------------------------------\n",
      "\n",
      "a    2025\n",
      "b       9\n",
      "c       9\n",
      "d      12\n",
      "e      35\n",
      "dtype: int64 \n",
      "-----------------------------------------------------------------------------\n",
      "\n",
      "년    2025\n",
      "월       9\n",
      "일       9\n",
      "시      12\n",
      "분      35\n",
      "dtype: int64 \n",
      "-----------------------------------------------------------------------------\n",
      "\n"
     ]
    }
   ],
   "source": [
    "print(\"nums_series.iloc[1] :\", nums_series.iloc[1], n)\n",
    "print(\"nums_series.loc[1] :\", nums_series.loc[1], n)\n",
    "\n",
    "nums_series.index = list('abcde') # ['a', 'b', 'c', 'd', 'e']\n",
    "print(nums_series, n)\n",
    "nums_series.index = ['년', '월', '일', '시', '분']\n",
    "print(nums_series, n)"
   ]
  },
  {
   "cell_type": "markdown",
   "id": "fda9fed2",
   "metadata": {},
   "source": [
    "---\n",
    "##### S&P 500 종목 데이터 활용"
   ]
  },
  {
   "cell_type": "code",
   "execution_count": null,
   "id": "70aeb165",
   "metadata": {},
   "outputs": [],
   "source": [
    "# 미국 상위 500개 기업 종목 데이터\n",
    "# 1차원 데이터 = Series"
   ]
  },
  {
   "cell_type": "code",
   "execution_count": 109,
   "id": "8bdc2e6c",
   "metadata": {},
   "outputs": [
    {
     "name": "stdout",
     "output_type": "stream",
     "text": [
      "<class 'pandas.core.frame.DataFrame'>\n",
      "RangeIndex: 2159 entries, 0 to 2158\n",
      "Data columns (total 1 columns):\n",
      " #   Column  Non-Null Count  Dtype  \n",
      "---  ------  --------------  -----  \n",
      " 0   sp500   2159 non-null   float64\n",
      "dtypes: float64(1)\n",
      "memory usage: 17.0 KB\n",
      "<class 'pandas.core.frame.DataFrame'> \n",
      "-----------------------------------------------------------------------------\n",
      "\n",
      "<class 'pandas.core.series.Series'> \n",
      "-----------------------------------------------------------------------------\n",
      "\n",
      "0       1295.500000\n",
      "1       1289.089966\n",
      "2       1293.670044\n",
      "3       1308.040039\n",
      "4       1314.500000\n",
      "           ...     \n",
      "2154    3327.770020\n",
      "2155    3349.159912\n",
      "2156    3351.280029\n",
      "2157    3360.469971\n",
      "2158    3333.689941\n",
      "Name: sp500, Length: 2159, dtype: float64 \n",
      "-----------------------------------------------------------------------------\n",
      "\n"
     ]
    }
   ],
   "source": [
    "sp_500_df =pd.read_csv('./data/S_P500_Prices.csv') # . -> 현재 디렉토리, .. -> 상위 디렉토리\n",
    "sp_500_df.info()\n",
    "print(type(sp_500_df),n)\n",
    "sp_500_series = sp_500_df.squeeze()\n",
    "print(type(sp_500_series), n)\n",
    "print(sp_500_series, n)"
   ]
  },
  {
   "cell_type": "code",
   "execution_count": 110,
   "id": "283f1f0a",
   "metadata": {},
   "outputs": [
    {
     "data": {
      "text/plain": [
       "count    2159.000000\n",
       "mean     2218.749554\n",
       "std       537.321727\n",
       "min      1278.040039\n",
       "25%      1847.984985\n",
       "50%      2106.629883\n",
       "75%      2705.810059\n",
       "max      3386.149902\n",
       "Name: sp500, dtype: float64"
      ]
     },
     "execution_count": 110,
     "metadata": {},
     "output_type": "execute_result"
    }
   ],
   "source": [
    "sp_500_series.describe()"
   ]
  },
  {
   "cell_type": "code",
   "execution_count": 112,
   "id": "4df410e0",
   "metadata": {},
   "outputs": [
    {
     "name": "stdout",
     "output_type": "stream",
     "text": [
      "sp_500_series 형태 : (2159,) \n",
      "-----------------------------------------------------------------------------\n",
      "\n",
      "sp_500_series 요소의 개수 : 2159 \n",
      "-----------------------------------------------------------------------------\n",
      "\n",
      "sp_500_series 깊이 : 1 \n",
      "-----------------------------------------------------------------------------\n",
      "\n"
     ]
    }
   ],
   "source": [
    "# 형태, 요소의 개수, 깊이\n",
    "print(\"sp_500_series 형태 :\", sp_500_series.shape, n)\n",
    "print(\"sp_500_series 요소의 개수 :\", sp_500_series.size, n)\n",
    "print(\"sp_500_series 깊이 :\", sp_500_series.ndim, n)"
   ]
  },
  {
   "cell_type": "code",
   "execution_count": 113,
   "id": "9e3a0794",
   "metadata": {},
   "outputs": [
    {
     "name": "stdout",
     "output_type": "stream",
     "text": [
      "sp_500_series 갯수 : 2159 \n",
      "-----------------------------------------------------------------------------\n",
      "\n",
      "sp_500_series 최소값 : 1278.040039 \n",
      "-----------------------------------------------------------------------------\n",
      "\n",
      "sp_500_series 중위값 : 2106.629883 \n",
      "-----------------------------------------------------------------------------\n",
      "\n",
      "sp_500_series 평균값 : 2218.7495540592868 \n",
      "-----------------------------------------------------------------------------\n",
      "\n",
      "sp_500_series 표준 편차값 : 537.3217268874763 \n",
      "-----------------------------------------------------------------------------\n",
      "\n",
      "sp_500_series 분산값 : 288714.6381853397 \n",
      "-----------------------------------------------------------------------------\n",
      "\n"
     ]
    }
   ],
   "source": [
    "# 갯수, 최소값, 중위값, 평균값, 표준 편차값, 분산값\n",
    "print(\"sp_500_series 갯수 :\", sp_500_series.count(), n)\n",
    "print(\"sp_500_series 최소값 :\", sp_500_series.min(), n)\n",
    "print(\"sp_500_series 중위값 :\", sp_500_series.median(), n)\n",
    "print(\"sp_500_series 평균값 :\", sp_500_series.mean(), n)\n",
    "print(\"sp_500_series 표준 편차값 :\", sp_500_series.std(), n)\n",
    "print(\"sp_500_series 분산값 :\", sp_500_series.var(), n)\n"
   ]
  },
  {
   "cell_type": "code",
   "execution_count": 129,
   "id": "b73b3dd2",
   "metadata": {},
   "outputs": [
    {
     "name": "stdout",
     "output_type": "stream",
     "text": [
      "sp_500_series 인덱스 50의 값 :\n",
      " 1416.51001 \n",
      "-----------------------------------------------------------------------------\n",
      "\n",
      "sp_500_series 인덱스 100~200 값 : \n",
      " 100    1315.130005\n",
      "101    1314.989990\n",
      "102    1325.660034\n",
      "103    1308.930054\n",
      "104    1324.180054\n",
      "          ...     \n",
      "196    1433.819946\n",
      "197    1413.109985\n",
      "198    1408.750000\n",
      "199    1412.969971\n",
      "200    1411.939941\n",
      "Name: sp500, Length: 101, dtype: float64 \n",
      "-----------------------------------------------------------------------------\n",
      "\n"
     ]
    }
   ],
   "source": [
    "# 인덱스 번호로 인덱싱 및 슬라이싱 : 인덱스 50의 값 가져오기, 인덱스 100~200 값 가져오기\n",
    "print(\"sp_500_series 인덱스 50의 값 :\\n\", sp_500_series.iloc[50], n)\n",
    "print(\"sp_500_series 인덱스 100~200 값 : \\n\", sp_500_series.iloc[100:201], n)"
   ]
  },
  {
   "cell_type": "code",
   "execution_count": 130,
   "id": "961ead2f",
   "metadata": {},
   "outputs": [
    {
     "name": "stdout",
     "output_type": "stream",
     "text": [
      "sp_500_series 인덱스 1000, 2000 값 :\n",
      " 1000    2016.709961\n",
      "2000    3223.379883\n",
      "Name: sp500, dtype: float64 \n",
      "-----------------------------------------------------------------------------\n",
      "\n"
     ]
    }
   ],
   "source": [
    "# fancy indexing 1000, 2000 값 가져오기\n",
    "indicies = [1000, 2000]\n",
    "print(\"sp_500_series 인덱스 1000, 2000 값 :\\n\", sp_500_series[indicies], n)\n",
    "# print(\"sp_500_series 인덱스 1000 값 :\", sp_500_series[1000], n)"
   ]
  },
  {
   "cell_type": "code",
   "execution_count": 131,
   "id": "9de7a724",
   "metadata": {},
   "outputs": [
    {
     "name": "stdout",
     "output_type": "stream",
     "text": [
      "sp_500_series 3000 보다 큰 수 :\n",
      " 1885    3013.770020\n",
      "1886    3014.300049\n",
      "1887    3004.040039\n",
      "1892    3005.469971\n",
      "1893    3019.560059\n",
      "           ...     \n",
      "2154    3327.770020\n",
      "2155    3349.159912\n",
      "2156    3351.280029\n",
      "2157    3360.469971\n",
      "2158    3333.689941\n",
      "Name: sp500, Length: 160, dtype: float64 \n",
      "-----------------------------------------------------------------------------\n",
      "\n",
      "sp_500_series 3000 보다 큰 수 :\n",
      " 1885    3013.770020\n",
      "1886    3014.300049\n",
      "1887    3004.040039\n",
      "1892    3005.469971\n",
      "1893    3019.560059\n",
      "           ...     \n",
      "2154    3327.770020\n",
      "2155    3349.159912\n",
      "2156    3351.280029\n",
      "2157    3360.469971\n",
      "2158    3333.689941\n",
      "Name: sp500, Length: 160, dtype: float64 \n",
      "-----------------------------------------------------------------------------\n",
      "\n"
     ]
    }
   ],
   "source": [
    "# boolean indexing (3000 보다 큰 수만 가져오기져오기)\n",
    "print(\"sp_500_series 3000 보다 큰 수 :\\n\", sp_500_series[sp_500_series > 3000], n)\n",
    "print(\"sp_500_series 3000 보다 큰 수 :\\n\", sp_500_series.iloc[sp_500_series.values > 3000], n)"
   ]
  },
  {
   "cell_type": "code",
   "execution_count": 139,
   "id": "6b078efe",
   "metadata": {},
   "outputs": [
    {
     "name": "stdout",
     "output_type": "stream",
     "text": [
      "index in Series : True\n",
      "value in Series : False\n",
      "index in Series : False\n",
      "value in Series : True\n"
     ]
    }
   ],
   "source": [
    "print(\"index in Series :\", 2000 in sp_500_series) # False\n",
    "print(\"value in Series :\", 3013.770020 in sp_500_series) # False 기본적으로 index 값으로 비교\n",
    "\n",
    "print(\"index in Series :\", 3013.770020 in sp_500_series.index) # True\n",
    "print(\"value in Series :\", 3013.770020 in sp_500_series.values) # True \n",
    "\n",
    "\n",
    "# !.values를 붙이지 않으면 기본 값은 index 값으로 비교\n"
   ]
  },
  {
   "cell_type": "code",
   "execution_count": 145,
   "id": "ba104c52",
   "metadata": {},
   "outputs": [
    {
     "name": "stdout",
     "output_type": "stream",
     "text": [
      "97      1278.040039\n",
      "98      1278.180054\n",
      "99      1285.500000\n",
      "1       1289.089966\n",
      "2       1293.670044\n",
      "           ...     \n",
      "2038    3373.229980\n",
      "2034    3373.939941\n",
      "2033    3379.449951\n",
      "2035    3380.159912\n",
      "2037    3386.149902\n",
      "Name: sp500, Length: 2159, dtype: float64 \n",
      "-----------------------------------------------------------------------------\n",
      "\n",
      "97      1278.040039\n",
      "98      1278.180054\n",
      "99      1285.500000\n",
      "1       1289.089966\n",
      "2       1293.670044\n",
      "           ...     \n",
      "2038    3373.229980\n",
      "2034    3373.939941\n",
      "2033    3379.449951\n",
      "2035    3380.159912\n",
      "2037    3386.149902\n",
      "Name: sp500, Length: 2159, dtype: float64 \n",
      "-----------------------------------------------------------------------------\n",
      "\n",
      "0       1295.500000\n",
      "1       1289.089966\n",
      "2       1293.670044\n",
      "3       1308.040039\n",
      "4       1314.500000\n",
      "           ...     \n",
      "2154    3327.770020\n",
      "2155    3349.159912\n",
      "2156    3351.280029\n",
      "2157    3360.469971\n",
      "2158    3333.689941\n",
      "Name: sp500, Length: 2159, dtype: float64 \n",
      "-----------------------------------------------------------------------------\n",
      "\n",
      "97      1278.040039\n",
      "98      1278.180054\n",
      "99      1285.500000\n",
      "1       1289.089966\n",
      "2       1293.670044\n",
      "           ...     \n",
      "2038    3373.229980\n",
      "2034    3373.939941\n",
      "2033    3379.449951\n",
      "2035    3380.159912\n",
      "2037    3386.149902\n",
      "Name: sp500, Length: 2159, dtype: float64 \n",
      "-----------------------------------------------------------------------------\n",
      "\n"
     ]
    }
   ],
   "source": [
    "# 정렬\n",
    "print(sp_500_series.sort_values(), n)\n",
    "print(sp_500_series.sort_values(ascending=True), n)\n",
    "print(sp_500_series, n) # 원본 데이터 변경 없음 inplace 영향을 받지 않는다.\n",
    "sp_500_series_sorted = sp_500_series.sort_values()\n",
    "# print(sp_500_series.sort_values(ascending=True, inplace=True), n)\n",
    "print(sp_500_series_sorted, n) # \n",
    "\n",
    "\n",
    "\n"
   ]
  }
 ],
 "metadata": {
  "kernelspec": {
   "display_name": "pystudy_env",
   "language": "python",
   "name": "python3"
  },
  "language_info": {
   "codemirror_mode": {
    "name": "ipython",
    "version": 3
   },
   "file_extension": ".py",
   "mimetype": "text/x-python",
   "name": "python",
   "nbconvert_exporter": "python",
   "pygments_lexer": "ipython3",
   "version": "3.12.11"
  }
 },
 "nbformat": 4,
 "nbformat_minor": 5
}
