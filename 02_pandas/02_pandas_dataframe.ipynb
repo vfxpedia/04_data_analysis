{
 "cells": [
  {
   "cell_type": "markdown",
   "id": "7a2566f8",
   "metadata": {},
   "source": [
    "### Pandas - DataFrame\n",
    "- 2차원 행렬(표), Series를 묶어낸 자료형"
   ]
  },
  {
   "cell_type": "code",
   "execution_count": 1,
   "id": "0e2c3836",
   "metadata": {},
   "outputs": [],
   "source": [
    "import numpy as np\n",
    "import pandas as pd"
   ]
  },
  {
   "cell_type": "code",
   "execution_count": 6,
   "id": "29203787",
   "metadata": {},
   "outputs": [],
   "source": [
    "n= \"\\n-----------------------------------------------------------------------------\\n\""
   ]
  },
  {
   "cell_type": "markdown",
   "id": "25a5d787",
   "metadata": {},
   "source": [
    "---\n",
    "##### DataFrame 생성"
   ]
  },
  {
   "cell_type": "code",
   "execution_count": 26,
   "id": "0c4d18a1",
   "metadata": {},
   "outputs": [
    {
     "name": "stdout",
     "output_type": "stream",
     "text": [
      "[[ 0.07569998  1.08737817  1.68894689  1.10363164  0.4917402 ]\n",
      " [-0.24008279  0.34696157  0.4279221  -1.69533205 -1.36421004]] \n",
      "-----------------------------------------------------------------------------\n",
      "\n",
      "          0         1         2         3        4\n",
      "0  0.075700  1.087378  1.688947  1.103632  0.49174\n",
      "1 -0.240083  0.346962  0.427922 -1.695332 -1.36421 \n",
      "-----------------------------------------------------------------------------\n",
      "\n",
      "RangeIndex(start=0, stop=5, step=1) \n",
      "-----------------------------------------------------------------------------\n",
      "\n",
      "[[ 0.07569998  1.08737817  1.68894689  1.10363164  0.4917402 ]\n",
      " [-0.24008279  0.34696157  0.4279221  -1.69533205 -1.36421004]] \n",
      "-----------------------------------------------------------------------------\n",
      "\n",
      "<class 'numpy.ndarray'> \n",
      "-----------------------------------------------------------------------------\n",
      "\n",
      "df.values.shape : (2, 5) \n",
      "-----------------------------------------------------------------------------\n",
      "\n",
      "          가         나         다         라        마\n",
      "ㄱ  0.075700  1.087378  1.688947  1.103632  0.49174\n",
      "ㄴ -0.240083  0.346962  0.427922 -1.695332 -1.36421 \n",
      "-----------------------------------------------------------------------------\n",
      "\n",
      "Index(['ㄱ', 'ㄴ'], dtype='object') \n",
      "-----------------------------------------------------------------------------\n",
      "\n",
      "          A         B         C         D        E\n",
      "a  0.075700  1.087378  1.688947  1.103632  0.49174\n",
      "b -0.240083  0.346962  0.427922 -1.695332 -1.36421 \n",
      "-----------------------------------------------------------------------------\n",
      "\n",
      "Index(['a', 'b'], dtype='object') \n",
      "-----------------------------------------------------------------------------\n",
      "\n"
     ]
    }
   ],
   "source": [
    "# 3. 2차원 ndarray 활용\n",
    "arr = np.random.randn(2, 5)\n",
    "print(arr, n)\n",
    "df = pd.DataFrame(arr)\n",
    "print(df, n)\n",
    "print(df.columns, n)\n",
    "print(df.values, n)\n",
    "print(type(df.values), n)\n",
    "print(\"df.values.shape :\", df.values.shape, n)\n",
    "df = pd.DataFrame(arr, index=['ㄱ','ㄴ'], columns=['가','나','다','라','마'])\n",
    "print(df, n)\n",
    "print(df.index, n)\n",
    "df.columns = ['A', 'B', 'C', 'D', 'E']\n",
    "df.index = ['a', 'b']\n",
    "print(df, n)\n",
    "print(df.index, n)\n",
    "\n",
    "\n",
    "\n",
    "\n"
   ]
  },
  {
   "cell_type": "code",
   "execution_count": 45,
   "id": "7b802887",
   "metadata": {},
   "outputs": [
    {
     "name": "stdout",
     "output_type": "stream",
     "text": [
      "   one two  three  four\n",
      "0    1   가   1.23  True\n",
      "1    2   나   2.34  True\n",
      "2    3   다   3.45  True\n",
      "3    4   라   4.56  True\n",
      "4    5   마   5.67  True \n",
      "-----------------------------------------------------------------------------\n",
      "\n",
      "0    1\n",
      "1    2\n",
      "2    3\n",
      "3    4\n",
      "4    5\n",
      "Name: one, dtype: int64 \n",
      "-----------------------------------------------------------------------------\n",
      "\n"
     ]
    }
   ],
   "source": [
    "# 1. dictionary-list 활용\n",
    "data = {\n",
    "    'one' : [1, 2, 3, 4, 5],\n",
    "    'two' : ['가','나','다','라','마'],\n",
    "    'three' : [1.23, 2.34, 3.45, 4.56, 5.67],\n",
    "    'four' : True # True 는 Scalar로 저장되어 모든 행에 적용됨\n",
    "}\n",
    "\n",
    "df = pd.DataFrame(data)\n",
    "print(df, n)\n",
    "print(df['one'], n)\n",
    "# 'four' 컬럼의 값이 [True]로 리스트에 1개만 들어가 있어서, 나머지 컬럼들과 길이가 맞지 않아 에러가 발생합니다.\n",
    "# DataFrame을 생성할 때 각 컬럼의 데이터 길이가 동일해야 합니다.\n",
    "# 만약 'four' 컬럼을 모든 행에 True로 채우고 싶다면, [True] 대신 True(스칼라 값)로 지정하면 됩니다.\n",
    "# 예시:\n",
    "# data = {\n",
    "#     'one' : [1, 2, 3, 4, 5],\n",
    "#     'two' : ['가','나','다','라','마'],\n",
    "#     'three' : [1.23, 2.34, 3.45, 4.56, 5.67],\n",
    "#     'four' : True # 이렇게 하면 모든 행에 True가 들어감\n",
    "# }\n",
    "\n",
    "\n",
    "\n",
    "\n",
    "\n"
   ]
  },
  {
   "cell_type": "code",
   "execution_count": 52,
   "id": "9c0efc1b",
   "metadata": {},
   "outputs": [
    {
     "name": "stdout",
     "output_type": "stream",
     "text": [
      "     a  b  c\n",
      "0  1.0  2  3\n",
      "1  5.0  4  6\n",
      "2  NaN  8  9 \n",
      "-----------------------------------------------------------------------------\n",
      "\n",
      "0    1.0\n",
      "1    5.0\n",
      "2    NaN\n",
      "Name: a, dtype: float64 \n",
      "-----------------------------------------------------------------------------\n",
      "\n",
      "0    1.0\n",
      "1    5.0\n",
      "2    NaN\n",
      "Name: a, dtype: float64 \n",
      "-----------------------------------------------------------------------------\n",
      "\n",
      "     a  c\n",
      "0  1.0  3\n",
      "1  5.0  6\n",
      "2  NaN  9 \n",
      "-----------------------------------------------------------------------------\n",
      "\n",
      "Index(['토끼', '사자', '호랑이'], dtype='object') \n",
      "-----------------------------------------------------------------------------\n",
      "\n",
      "     협동심  친밀도  존재감\n",
      "토끼   1.0    2    3\n",
      "사자   5.0    4    6\n",
      "호랑이  NaN    8    9\n"
     ]
    }
   ],
   "source": [
    "# 2. list-dictionary 활용\n",
    "\n",
    "data = [\n",
    "    {'a' : 1, 'b' : 2, 'c' : 3},\n",
    "    {'b' : 4, 'a' : 5, 'c' : 6},\n",
    "    {'b' : 8, 'c' : 9} # a 키가 없는 경우 누락됨 NaN 처리, Not a Number\n",
    "]\n",
    "df = pd.DataFrame(data)\n",
    "print(df, n)\n",
    "\n",
    "print(df['a'], n)\n",
    "print(df.a, n)\n",
    "print(df.loc[:, ['a', 'c']], n)\n",
    "\n",
    "df.index = ['토끼', '사자', '호랑이']\n",
    "print(df.index, n)\n",
    "df.columns = ['협동심', '친밀도', '존재감']\n",
    "print(df)"
   ]
  },
  {
   "cell_type": "code",
   "execution_count": 57,
   "id": "ba3cad54",
   "metadata": {},
   "outputs": [
    {
     "name": "stdout",
     "output_type": "stream",
     "text": [
      "     협동심  친밀도  존재감\n",
      "토끼   1.0    2    3\n",
      "사자   5.0    4    6\n",
      "호랑이  NaN    8    9 \n",
      "-----------------------------------------------------------------------------\n",
      "\n",
      "협동심    1.0\n",
      "친밀도    2.0\n",
      "존재감    3.0\n",
      "Name: 토끼, dtype: float64 \n",
      "-----------------------------------------------------------------------------\n",
      "\n"
     ]
    }
   ],
   "source": [
    "print(df,n)\n",
    "print(df.loc['토끼'], n)"
   ]
  },
  {
   "cell_type": "code",
   "execution_count": 69,
   "id": "c4a9ece2",
   "metadata": {},
   "outputs": [
    {
     "name": "stdout",
     "output_type": "stream",
     "text": [
      "   이름  위치 성별\n",
      "1  민정  독산  F\n",
      "2  도연  신림  F\n",
      "3  진형  군포  M\n",
      "4  흥재  광명  M \n",
      "-----------------------------------------------------------------------------\n",
      " (4, 3) \n",
      "-----------------------------------------------------------------------------\n",
      "\n",
      "이름    민정\n",
      "위치    독산\n",
      "성별     F\n",
      "Name: 1, dtype: object \n",
      "-----------------------------------------------------------------------------\n",
      "\n",
      "   이름  위치 성별\n",
      "1  민정  독산  F\n",
      "2  도연  신림  F \n",
      "-----------------------------------------------------------------------------\n",
      "\n",
      "   이름  위치 성별\n",
      "2  도연  신림  F \n",
      "-----------------------------------------------------------------------------\n",
      "\n"
     ]
    }
   ],
   "source": [
    "data = {\n",
    "    '이름' : ['민정', '도연', '진형', '흥재'],\n",
    "    '위치' : ['독산', '신림', '군포', '광명'],\n",
    "    '성별' : ['F', 'F', 'M', 'M']\n",
    "}\n",
    "df = pd.DataFrame(data, index=[1, 2, 3, 4])\n",
    "print(df, n, df.shape, n)\n",
    "print(df.loc[1], n)\n",
    "print(df.loc[1:2], n)\n",
    "print(df.iloc[1:2], n)\n",
    "\n"
   ]
  },
  {
   "cell_type": "code",
   "execution_count": null,
   "id": "a7e26d1b",
   "metadata": {},
   "outputs": [
    {
     "name": "stdout",
     "output_type": "stream",
     "text": [
      "     1   2   3   4\n",
      "이름  민정  도연  진형  흥재\n",
      "위치  독산  신림  군포  광명\n",
      "성별   F   F   M   M \n",
      "-----------------------------------------------------------------------------\n",
      "\n"
     ]
    }
   ],
   "source": [
    "# 전치행렬 (행과 열을 바꿈) -> .T 전치행렬도 속성으로 가지고 있다.\n",
    "df = df.T\n",
    "print(df, n)"
   ]
  },
  {
   "cell_type": "markdown",
   "id": "ed0a75fb",
   "metadata": {},
   "source": [
    "##### DataFrame 속성"
   ]
  },
  {
   "cell_type": "code",
   "execution_count": 78,
   "id": "296ba1ce",
   "metadata": {},
   "outputs": [
    {
     "name": "stdout",
     "output_type": "stream",
     "text": [
      "Index([1, 2, 3, 4], dtype='int64') \n",
      "-----------------------------------------------------------------------------\n",
      "\n",
      "Index(['이름', '위치', '성별'], dtype='object') \n",
      "-----------------------------------------------------------------------------\n",
      "\n",
      "[['민정' '독산' 'F']\n",
      " ['도연' '신림' 'F']\n",
      " ['진형' '군포' 'M']\n",
      " ['흥재' '광명' 'M']] \n",
      "-----------------------------------------------------------------------------\n",
      " <class 'numpy.ndarray'> \n",
      "-----------------------------------------------------------------------------\n",
      "\n",
      "(4, 3) \n",
      "-----------------------------------------------------------------------------\n",
      "\n",
      "2 \n",
      "-----------------------------------------------------------------------------\n",
      "\n",
      "12 \n",
      "-----------------------------------------------------------------------------\n",
      "\n",
      "이름    object\n",
      "위치    object\n",
      "성별    object\n",
      "dtype: object \n",
      "-----------------------------------------------------------------------------\n",
      "\n"
     ]
    }
   ],
   "source": [
    "print(df.index, n)\n",
    "print(df.columns, n)\n",
    "print(df.values, n, type(df.values), n)\n",
    "print(df.shape, n)\n",
    "print(df.ndim, n)\n",
    "print(df.size, n)\n",
    "print(df.dtypes, n)"
   ]
  },
  {
   "cell_type": "code",
   "execution_count": 79,
   "id": "4666f55a",
   "metadata": {},
   "outputs": [
    {
     "name": "stdout",
     "output_type": "stream",
     "text": [
      "2    신림\n",
      "3    군포\n",
      "Name: 위치, dtype: object \n",
      "-----------------------------------------------------------------------------\n",
      "\n"
     ]
    }
   ],
   "source": [
    "# 신림, 군포 출력하기\n",
    "print(df.loc[2:3, '위치'], n) "
   ]
  },
  {
   "cell_type": "markdown",
   "id": "24b90132",
   "metadata": {},
   "source": [
    "---\n",
    "##### DataFrame 메서드"
   ]
  },
  {
   "cell_type": "code",
   "execution_count": 83,
   "id": "5c663a81",
   "metadata": {},
   "outputs": [
    {
     "data": {
      "text/html": [
       "<div>\n",
       "<style scoped>\n",
       "    .dataframe tbody tr th:only-of-type {\n",
       "        vertical-align: middle;\n",
       "    }\n",
       "\n",
       "    .dataframe tbody tr th {\n",
       "        vertical-align: top;\n",
       "    }\n",
       "\n",
       "    .dataframe thead th {\n",
       "        text-align: right;\n",
       "    }\n",
       "</style>\n",
       "<table border=\"1\" class=\"dataframe\">\n",
       "  <thead>\n",
       "    <tr style=\"text-align: right;\">\n",
       "      <th></th>\n",
       "      <th>Client ID</th>\n",
       "      <th>Client Name</th>\n",
       "      <th>Net worth [$]</th>\n",
       "      <th>Years with bank</th>\n",
       "    </tr>\n",
       "  </thead>\n",
       "  <tbody>\n",
       "    <tr>\n",
       "      <th>0</th>\n",
       "      <td>1</td>\n",
       "      <td>Aly</td>\n",
       "      <td>35000</td>\n",
       "      <td>4</td>\n",
       "    </tr>\n",
       "    <tr>\n",
       "      <th>1</th>\n",
       "      <td>2</td>\n",
       "      <td>Steve</td>\n",
       "      <td>3000</td>\n",
       "      <td>7</td>\n",
       "    </tr>\n",
       "    <tr>\n",
       "      <th>2</th>\n",
       "      <td>3</td>\n",
       "      <td>Nicole</td>\n",
       "      <td>100000</td>\n",
       "      <td>10</td>\n",
       "    </tr>\n",
       "    <tr>\n",
       "      <th>3</th>\n",
       "      <td>4</td>\n",
       "      <td>Morris</td>\n",
       "      <td>2000</td>\n",
       "      <td>15</td>\n",
       "    </tr>\n",
       "  </tbody>\n",
       "</table>\n",
       "</div>"
      ],
      "text/plain": [
       "   Client ID Client Name  Net worth [$]  Years with bank\n",
       "0          1         Aly          35000                4\n",
       "1          2       Steve           3000                7\n",
       "2          3      Nicole         100000               10\n",
       "3          4      Morris           2000               15"
      ]
     },
     "execution_count": 83,
     "metadata": {},
     "output_type": "execute_result"
    }
   ],
   "source": [
    "bank_client_df = pd.DataFrame({\n",
    "    'Client ID': [1, 2, 3, 4],\n",
    "    'Client Name': ['Aly', 'Steve', 'Nicole', 'Morris'],\n",
    "    'Net worth [$]': [35000, 3000, 100000, 2000],\n",
    "    'Years with bank': [4, 7, 10, 15]\n",
    "})\n",
    "\n",
    "bank_client_df"
   ]
  },
  {
   "cell_type": "code",
   "execution_count": 87,
   "id": "45af4ac8",
   "metadata": {},
   "outputs": [
    {
     "name": "stdout",
     "output_type": "stream",
     "text": [
      "   Client ID Client Name  Net worth [$]  Years with bank\n",
      "0          1         Aly          35000                4\n",
      "1          2       Steve           3000                7 \n",
      "-----------------------------------------------------------------------------\n",
      "\n",
      "   Client ID Client Name  Net worth [$]  Years with bank\n",
      "2          3      Nicole         100000               10\n",
      "3          4      Morris           2000               15 \n",
      "-----------------------------------------------------------------------------\n",
      "\n"
     ]
    }
   ],
   "source": [
    "print(bank_client_df.head(2), n)\n",
    "print(bank_client_df.tail(2), n)"
   ]
  },
  {
   "cell_type": "code",
   "execution_count": 88,
   "id": "eaea342c",
   "metadata": {},
   "outputs": [
    {
     "name": "stdout",
     "output_type": "stream",
     "text": [
      "<class 'pandas.core.frame.DataFrame'>\n",
      "RangeIndex: 4 entries, 0 to 3\n",
      "Data columns (total 4 columns):\n",
      " #   Column           Non-Null Count  Dtype \n",
      "---  ------           --------------  ----- \n",
      " 0   Client ID        4 non-null      int64 \n",
      " 1   Client Name      4 non-null      object\n",
      " 2   Net worth [$]    4 non-null      int64 \n",
      " 3   Years with bank  4 non-null      int64 \n",
      "dtypes: int64(3), object(1)\n",
      "memory usage: 260.0+ bytes\n",
      "None \n",
      "-----------------------------------------------------------------------------\n",
      "\n"
     ]
    }
   ],
   "source": [
    "print(bank_client_df.info(), n)"
   ]
  },
  {
   "cell_type": "code",
   "execution_count": 89,
   "id": "370f3246",
   "metadata": {},
   "outputs": [
    {
     "name": "stdout",
     "output_type": "stream",
     "text": [
      "       Client ID  Net worth [$]  Years with bank\n",
      "count   4.000000       4.000000         4.000000\n",
      "mean    2.500000   35000.000000         9.000000\n",
      "std     1.290994   45963.753836         4.690416\n",
      "min     1.000000    2000.000000         4.000000\n",
      "25%     1.750000    2750.000000         6.250000\n",
      "50%     2.500000   19000.000000         8.500000\n",
      "75%     3.250000   51250.000000        11.250000\n",
      "max     4.000000  100000.000000        15.000000 \n",
      "-----------------------------------------------------------------------------\n",
      "\n"
     ]
    }
   ],
   "source": [
    "print(bank_client_df.describe(), n)"
   ]
  },
  {
   "cell_type": "code",
   "execution_count": 90,
   "id": "8b6b3cda",
   "metadata": {},
   "outputs": [
    {
     "name": "stdout",
     "output_type": "stream",
     "text": [
      "        Client ID Client Name  Net worth [$]  Years with bank\n",
      "count    4.000000           4       4.000000         4.000000\n",
      "unique        NaN           4            NaN              NaN\n",
      "top           NaN         Aly            NaN              NaN\n",
      "freq          NaN           1            NaN              NaN\n",
      "mean     2.500000         NaN   35000.000000         9.000000\n",
      "std      1.290994         NaN   45963.753836         4.690416\n",
      "min      1.000000         NaN    2000.000000         4.000000\n",
      "25%      1.750000         NaN    2750.000000         6.250000\n",
      "50%      2.500000         NaN   19000.000000         8.500000\n",
      "75%      3.250000         NaN   51250.000000        11.250000\n",
      "max      4.000000         NaN  100000.000000        15.000000 \n",
      "-----------------------------------------------------------------------------\n",
      "\n",
      "       Client Name\n",
      "count            4\n",
      "unique           4\n",
      "top            Aly\n",
      "freq             1 \n",
      "-----------------------------------------------------------------------------\n",
      "\n",
      "       Client ID  Net worth [$]  Years with bank\n",
      "count   4.000000       4.000000         4.000000\n",
      "mean    2.500000   35000.000000         9.000000\n",
      "std     1.290994   45963.753836         4.690416\n",
      "min     1.000000    2000.000000         4.000000\n",
      "25%     1.750000    2750.000000         6.250000\n",
      "50%     2.500000   19000.000000         8.500000\n",
      "75%     3.250000   51250.000000        11.250000\n",
      "max     4.000000  100000.000000        15.000000 \n",
      "-----------------------------------------------------------------------------\n",
      "\n"
     ]
    }
   ],
   "source": [
    "\n",
    "print(bank_client_df.describe(include='all'), n)\n",
    "print(bank_client_df.describe(include='object'), n)\n",
    "print(bank_client_df.describe(include='number'), n)"
   ]
  },
  {
   "cell_type": "code",
   "execution_count": 98,
   "id": "b1432d1d",
   "metadata": {},
   "outputs": [
    {
     "name": "stdout",
     "output_type": "stream",
     "text": [
      "   Client ID Client Name  Net worth [$]  Years with bank\n",
      "0          1         Aly          35000                4\n",
      "1          2       Steve           3000                7\n",
      "2          3      Nicole         100000               10\n",
      "3          4      Morris           2000               15 \n",
      "-----------------------------------------------------------------------------\n",
      "\n",
      "Client ID              2\n",
      "Client Name        Steve\n",
      "Net worth [$]       3000\n",
      "Years with bank        7\n",
      "Name: 1, dtype: object \n",
      "-----------------------------------------------------------------------------\n",
      " <class 'pandas.core.series.Series'>\n",
      "1 Index(['Client ID', 'Client Name', 'Net worth [$]', 'Years with bank'], dtype='object') \n",
      "-----------------------------------------------------------------------------\n",
      "\n",
      "[np.int64(2) 'Steve' np.int64(3000) np.int64(7)] (4,) \n",
      "-----------------------------------------------------------------------------\n",
      "\n"
     ]
    }
   ],
   "source": [
    "# indexing / slicing\n",
    "# iloc 인덱스 - 행/열 순서로 조회\n",
    "# loc 인덱스 - 행/열 이름으로 조회\n",
    "\n",
    "print(bank_client_df, n)\n",
    "print(bank_client_df.iloc[1], n, type(bank_client_df.iloc[1]))\n",
    "print((bank_client_df.iloc[1].name), (bank_client_df.iloc[1].index), n)\n",
    "print((bank_client_df.iloc[1].values),(bank_client_df.iloc[1]).shape ,n)"
   ]
  },
  {
   "cell_type": "code",
   "execution_count": 101,
   "id": "549cd891",
   "metadata": {},
   "outputs": [
    {
     "name": "stdout",
     "output_type": "stream",
     "text": [
      "   Client ID Client Name  Net worth [$]  Years with bank\n",
      "1          2       Steve           3000                7\n",
      "2          3      Nicole         100000               10 \n",
      "-----------------------------------------------------------------------------\n",
      " <class 'pandas.core.frame.DataFrame'> \n",
      "-----------------------------------------------------------------------------\n",
      "\n",
      "  Client Name  Net worth [$]\n",
      "0         Aly          35000\n",
      "1       Steve           3000\n",
      "2      Nicole         100000\n",
      "3      Morris           2000 \n",
      "-----------------------------------------------------------------------------\n",
      "\n",
      "  Client Name  Net worth [$]\n",
      "1       Steve           3000\n",
      "2      Nicole         100000 \n",
      "-----------------------------------------------------------------------------\n",
      "\n"
     ]
    }
   ],
   "source": [
    "print(bank_client_df.iloc[1:3], n, type(bank_client_df.iloc[1:3]), n)\n",
    "print(bank_client_df.iloc[:, 1:3], n)\n",
    "print(bank_client_df.iloc[1:3, 1:3], n)"
   ]
  },
  {
   "cell_type": "code",
   "execution_count": 103,
   "id": "cfd671f5",
   "metadata": {},
   "outputs": [
    {
     "name": "stdout",
     "output_type": "stream",
     "text": [
      "   Client ID Client Name  Net worth [$]  Years with bank\n",
      "0          1         Aly          35000                4\n",
      "2          3      Nicole         100000               10 \n",
      "-----------------------------------------------------------------------------\n",
      " <class 'pandas.core.frame.DataFrame'> \n",
      "-----------------------------------------------------------------------------\n",
      "\n"
     ]
    }
   ],
   "source": [
    "# fancy indexing\n",
    "\n",
    "print(bank_client_df.iloc[[0, 2]], n, type(bank_client_df.iloc[[0, 2]]), n)"
   ]
  },
  {
   "cell_type": "code",
   "execution_count": 110,
   "id": "0ff9e1b7",
   "metadata": {},
   "outputs": [
    {
     "name": "stdout",
     "output_type": "stream",
     "text": [
      "   Client ID Client Name  Net worth [$]  Years with bank\n",
      "0          1         Aly          35000                4\n",
      "1          2       Steve           3000                7\n",
      "2          3      Nicole         100000               10\n",
      "3          4      Morris           2000               15 \n",
      "-----------------------------------------------------------------------------\n",
      "\n",
      "Client ID               3\n",
      "Client Name        Nicole\n",
      "Net worth [$]      100000\n",
      "Years with bank        10\n",
      "Name: 2, dtype: object \n",
      "-----------------------------------------------------------------------------\n",
      "\n",
      "<class 'pandas.core.series.Series'> \n",
      "-----------------------------------------------------------------------------\n",
      "\n",
      "   Client ID Client Name  Net worth [$]  Years with bank\n",
      "2          3      Nicole         100000               10 \n",
      "-----------------------------------------------------------------------------\n",
      "\n",
      "<class 'pandas.core.frame.DataFrame'> \n",
      "-----------------------------------------------------------------------------\n",
      "\n",
      "(1, 4) \n",
      "-----------------------------------------------------------------------------\n",
      "\n",
      "   Client ID Client Name  Net worth [$]  Years with bank\n",
      "2          3      Nicole         100000               10\n",
      "0          1         Aly          35000                4 \n",
      "-----------------------------------------------------------------------------\n",
      "\n",
      "<class 'pandas.core.frame.DataFrame'> \n",
      "-----------------------------------------------------------------------------\n",
      "\n",
      "(2, 4) \n",
      "-----------------------------------------------------------------------------\n",
      "\n"
     ]
    }
   ],
   "source": [
    "# fancy indexing을 통한 조회는 결과가 1개여도 DataFrame 타입으로 반환\n",
    "# - Series를 반환한다는 것은 차원을 축소(제거)하는 것\n",
    "# - DataFrame을 반환한다는 것은 차원을 유지하는 것것\n",
    "\n",
    "print(bank_client_df, n)\n",
    "print(bank_client_df.iloc[2], n) # 2행 조회\n",
    "print(type(bank_client_df.iloc[2]), n) # 1차원 -> type : Series\n",
    "print(bank_client_df.iloc[[2]], n) # 2행 조회\n",
    "print(type(bank_client_df.iloc[[2]]), n) # [[]] 2차원 -> type : DataFrame\n",
    "print((bank_client_df.iloc[[2]]).shape, n) # 2차원 -> shape : (1, 4)\n",
    "\n",
    "\n",
    "print(bank_client_df.iloc[[2, 0]], n)\n",
    "print(type(bank_client_df.iloc[[2, 0]]), n) # 2행, 0행 조회, 2행, 0행 조회 결과가 DataFrame 형태로 출력됨\n",
    "print((bank_client_df.iloc[[2, 0]]).shape, n) # 2차원 -> shape : (2, 4)\n",
    "\n"
   ]
  },
  {
   "cell_type": "code",
   "execution_count": 111,
   "id": "9c2fff8c",
   "metadata": {},
   "outputs": [
    {
     "data": {
      "text/plain": [
       "'Aly'"
      ]
     },
     "execution_count": 111,
     "metadata": {},
     "output_type": "execute_result"
    }
   ],
   "source": [
    "# 2차원 indexing / slicing\n",
    "bank_client_df.iloc[0, 1]"
   ]
  },
  {
   "cell_type": "code",
   "execution_count": null,
   "id": "bb88ddc8",
   "metadata": {},
   "outputs": [
    {
     "data": {
      "text/plain": [
       "(0      Aly\n",
       " 1    Steve\n",
       " Name: Client Name, dtype: object,\n",
       " pandas.core.series.Series)"
      ]
     },
     "execution_count": 118,
     "metadata": {},
     "output_type": "execute_result"
    }
   ],
   "source": [
    "bank_client_df.iloc[:2, 1], type(bank_client_df.iloc[:2, 1])\n",
    "# 2차원 데이터 조회시 슬라이싱과 인덱싱을 혼용해서 사용할 수 있음 -> 차원 축소\n",
    "# 인덱싱을 통해서 값을 꺼내오는 경우는 차원 축소 **중요**\n",
    "# 슬라이싱을 통해서 값을 꺼내오는 경우는 차원 유지"
   ]
  },
  {
   "cell_type": "code",
   "execution_count": null,
   "id": "b50cea9c",
   "metadata": {},
   "outputs": [
    {
     "data": {
      "text/plain": [
       "(   Net worth [$]  Years with bank\n",
       " 0          35000                4\n",
       " 1           3000                7,\n",
       " pandas.core.frame.DataFrame)"
      ]
     },
     "execution_count": 119,
     "metadata": {},
     "output_type": "execute_result"
    }
   ],
   "source": [
    "bank_client_df.iloc[:2, 2:], type(bank_client_df.iloc[:2, 2:])\n",
    "# 슬라이싱을 통해서 값을 꺼내오는 경우는 차원 유지 **중요**"
   ]
  },
  {
   "cell_type": "code",
   "execution_count": 124,
   "id": "14c1d570",
   "metadata": {},
   "outputs": [
    {
     "name": "stdout",
     "output_type": "stream",
     "text": [
      "         Client ID Client Name  Net worth [$]  Years with bank\n",
      "client1          1         Aly          35000                4\n",
      "client2          2       Steve           3000                7\n",
      "client3          3      Nicole         100000               10\n",
      "client4          4      Morris           2000               15 \n",
      "-----------------------------------------------------------------------------\n",
      "\n",
      "<pandas.core.indexing._LocIndexer object at 0x000001F33708FAC0> \n",
      "-----------------------------------------------------------------------------\n",
      "\n",
      "Client ID               3\n",
      "Client Name        Nicole\n",
      "Net worth [$]      100000\n",
      "Years with bank        10\n",
      "Name: client3, dtype: object \n",
      "-----------------------------------------------------------------------------\n",
      " <class 'pandas.core.series.Series'> \n",
      "-----------------------------------------------------------------------------\n",
      "\n",
      "Aly \n",
      "-----------------------------------------------------------------------------\n",
      "\n"
     ]
    }
   ],
   "source": [
    "bank_client_df.index = ['client1', 'client2', 'client3', 'client4']\n",
    "print(bank_client_df, n) # ! 인덱스 변경 후 조회, loc 사용 시 인덱스 이름으로 조회\n",
    "\n",
    "print(bank_client_df.loc, n)\n",
    "print(bank_client_df.loc['client3'], n, type(bank_client_df.loc['client3']), n)\n",
    "print(bank_client_df.loc['client1', 'Client Name'], n)"
   ]
  },
  {
   "cell_type": "code",
   "execution_count": 126,
   "id": "84f8688e",
   "metadata": {},
   "outputs": [
    {
     "data": {
      "text/html": [
       "<div>\n",
       "<style scoped>\n",
       "    .dataframe tbody tr th:only-of-type {\n",
       "        vertical-align: middle;\n",
       "    }\n",
       "\n",
       "    .dataframe tbody tr th {\n",
       "        vertical-align: top;\n",
       "    }\n",
       "\n",
       "    .dataframe thead th {\n",
       "        text-align: right;\n",
       "    }\n",
       "</style>\n",
       "<table border=\"1\" class=\"dataframe\">\n",
       "  <thead>\n",
       "    <tr style=\"text-align: right;\">\n",
       "      <th></th>\n",
       "      <th>Client ID</th>\n",
       "      <th>Client Name</th>\n",
       "      <th>Net worth [$]</th>\n",
       "      <th>Years with bank</th>\n",
       "    </tr>\n",
       "  </thead>\n",
       "  <tbody>\n",
       "    <tr>\n",
       "      <th>client2</th>\n",
       "      <td>2</td>\n",
       "      <td>Steve</td>\n",
       "      <td>3000</td>\n",
       "      <td>7</td>\n",
       "    </tr>\n",
       "    <tr>\n",
       "      <th>client3</th>\n",
       "      <td>3</td>\n",
       "      <td>Nicole</td>\n",
       "      <td>100000</td>\n",
       "      <td>10</td>\n",
       "    </tr>\n",
       "    <tr>\n",
       "      <th>client4</th>\n",
       "      <td>4</td>\n",
       "      <td>Morris</td>\n",
       "      <td>2000</td>\n",
       "      <td>15</td>\n",
       "    </tr>\n",
       "  </tbody>\n",
       "</table>\n",
       "</div>"
      ],
      "text/plain": [
       "         Client ID Client Name  Net worth [$]  Years with bank\n",
       "client2          2       Steve           3000                7\n",
       "client3          3      Nicole         100000               10\n",
       "client4          4      Morris           2000               15"
      ]
     },
     "execution_count": 126,
     "metadata": {},
     "output_type": "execute_result"
    }
   ],
   "source": [
    "bank_client_df.loc['client2':'client4']"
   ]
  },
  {
   "cell_type": "code",
   "execution_count": 128,
   "id": "3ac33ed0",
   "metadata": {},
   "outputs": [
    {
     "data": {
      "text/html": [
       "<div>\n",
       "<style scoped>\n",
       "    .dataframe tbody tr th:only-of-type {\n",
       "        vertical-align: middle;\n",
       "    }\n",
       "\n",
       "    .dataframe tbody tr th {\n",
       "        vertical-align: top;\n",
       "    }\n",
       "\n",
       "    .dataframe thead th {\n",
       "        text-align: right;\n",
       "    }\n",
       "</style>\n",
       "<table border=\"1\" class=\"dataframe\">\n",
       "  <thead>\n",
       "    <tr style=\"text-align: right;\">\n",
       "      <th></th>\n",
       "      <th>Client ID</th>\n",
       "      <th>Client Name</th>\n",
       "      <th>Net worth [$]</th>\n",
       "      <th>Years with bank</th>\n",
       "    </tr>\n",
       "  </thead>\n",
       "  <tbody>\n",
       "    <tr>\n",
       "      <th>client2</th>\n",
       "      <td>2</td>\n",
       "      <td>Steve</td>\n",
       "      <td>3000</td>\n",
       "      <td>7</td>\n",
       "    </tr>\n",
       "    <tr>\n",
       "      <th>client4</th>\n",
       "      <td>4</td>\n",
       "      <td>Morris</td>\n",
       "      <td>2000</td>\n",
       "      <td>15</td>\n",
       "    </tr>\n",
       "  </tbody>\n",
       "</table>\n",
       "</div>"
      ],
      "text/plain": [
       "         Client ID Client Name  Net worth [$]  Years with bank\n",
       "client2          2       Steve           3000                7\n",
       "client4          4      Morris           2000               15"
      ]
     },
     "execution_count": 128,
     "metadata": {},
     "output_type": "execute_result"
    }
   ],
   "source": [
    "bank_client_df.loc['client2':'client4':2]\n",
    "# offset 조회\n",
    "\n",
    "# iloc 인덱싱과 loc 인덱싱의 차이점 [a:b:c]\n",
    "# 범위의 차이점\n",
    "# iloc 인덱싱은 범위 조회 시 끝 값을 포함하지 않음\n",
    "# loc 인덱싱은 범위 조회 시 끝 값을 포함함"
   ]
  },
  {
   "cell_type": "code",
   "execution_count": null,
   "id": "bfb7059d",
   "metadata": {},
   "outputs": [
    {
     "data": {
      "text/plain": [
       "(client2     Steve\n",
       " client4    Morris\n",
       " Name: Client Name, dtype: object,\n",
       " '\\n-----------------------------------------------------------------------------\\n',\n",
       " pandas.core.series.Series)"
      ]
     },
     "execution_count": 132,
     "metadata": {},
     "output_type": "execute_result"
    }
   ],
   "source": [
    "bank_client_df.loc['client2':'client4':2, 'Client Name'], n, type(bank_client_df.loc['client2':'client4':2, 'Client Name']) "
   ]
  },
  {
   "cell_type": "code",
   "execution_count": 136,
   "id": "8cdc248c",
   "metadata": {},
   "outputs": [
    {
     "name": "stdout",
     "output_type": "stream",
     "text": [
      "        Client Name  Net worth [$]\n",
      "client2       Steve           3000\n",
      "client3      Nicole         100000\n",
      "client4      Morris           2000\n",
      "<class 'pandas.core.frame.DataFrame'>\n"
     ]
    }
   ],
   "source": [
    "print(bank_client_df.loc['client2':'client4', 'Client Name':'Net worth [$]'])\n",
    "print(type(bank_client_df.loc['client2':'client4', 'Client Name':'Net worth [$]']))"
   ]
  },
  {
   "cell_type": "code",
   "execution_count": 137,
   "id": "4f10c737",
   "metadata": {},
   "outputs": [
    {
     "data": {
      "text/html": [
       "<div>\n",
       "<style scoped>\n",
       "    .dataframe tbody tr th:only-of-type {\n",
       "        vertical-align: middle;\n",
       "    }\n",
       "\n",
       "    .dataframe tbody tr th {\n",
       "        vertical-align: top;\n",
       "    }\n",
       "\n",
       "    .dataframe thead th {\n",
       "        text-align: right;\n",
       "    }\n",
       "</style>\n",
       "<table border=\"1\" class=\"dataframe\">\n",
       "  <thead>\n",
       "    <tr style=\"text-align: right;\">\n",
       "      <th></th>\n",
       "      <th>Client Name</th>\n",
       "      <th>Net worth [$]</th>\n",
       "    </tr>\n",
       "  </thead>\n",
       "  <tbody>\n",
       "    <tr>\n",
       "      <th>client2</th>\n",
       "      <td>Steve</td>\n",
       "      <td>3000</td>\n",
       "    </tr>\n",
       "    <tr>\n",
       "      <th>client4</th>\n",
       "      <td>Morris</td>\n",
       "      <td>2000</td>\n",
       "    </tr>\n",
       "  </tbody>\n",
       "</table>\n",
       "</div>"
      ],
      "text/plain": [
       "        Client Name  Net worth [$]\n",
       "client2       Steve           3000\n",
       "client4      Morris           2000"
      ]
     },
     "execution_count": 137,
     "metadata": {},
     "output_type": "execute_result"
    }
   ],
   "source": [
    "bank_client_df.loc['client2':'client4':2, 'Client Name':'Net worth [$]']"
   ]
  },
  {
   "cell_type": "code",
   "execution_count": 138,
   "id": "bb885a92",
   "metadata": {},
   "outputs": [
    {
     "data": {
      "text/html": [
       "<div>\n",
       "<style scoped>\n",
       "    .dataframe tbody tr th:only-of-type {\n",
       "        vertical-align: middle;\n",
       "    }\n",
       "\n",
       "    .dataframe tbody tr th {\n",
       "        vertical-align: top;\n",
       "    }\n",
       "\n",
       "    .dataframe thead th {\n",
       "        text-align: right;\n",
       "    }\n",
       "</style>\n",
       "<table border=\"1\" class=\"dataframe\">\n",
       "  <thead>\n",
       "    <tr style=\"text-align: right;\">\n",
       "      <th></th>\n",
       "      <th>Client Name</th>\n",
       "      <th>Years with bank</th>\n",
       "    </tr>\n",
       "  </thead>\n",
       "  <tbody>\n",
       "    <tr>\n",
       "      <th>client2</th>\n",
       "      <td>Steve</td>\n",
       "      <td>7</td>\n",
       "    </tr>\n",
       "    <tr>\n",
       "      <th>client4</th>\n",
       "      <td>Morris</td>\n",
       "      <td>15</td>\n",
       "    </tr>\n",
       "  </tbody>\n",
       "</table>\n",
       "</div>"
      ],
      "text/plain": [
       "        Client Name  Years with bank\n",
       "client2       Steve                7\n",
       "client4      Morris               15"
      ]
     },
     "execution_count": 138,
     "metadata": {},
     "output_type": "execute_result"
    }
   ],
   "source": [
    "bank_client_df.loc['client2':'client4':2, ['Client Name', 'Years with bank']]\n",
    "# fancy indexing 사용해서 조회"
   ]
  },
  {
   "cell_type": "code",
   "execution_count": 145,
   "id": "c4053374",
   "metadata": {},
   "outputs": [
    {
     "data": {
      "text/html": [
       "<div>\n",
       "<style scoped>\n",
       "    .dataframe tbody tr th:only-of-type {\n",
       "        vertical-align: middle;\n",
       "    }\n",
       "\n",
       "    .dataframe tbody tr th {\n",
       "        vertical-align: top;\n",
       "    }\n",
       "\n",
       "    .dataframe thead th {\n",
       "        text-align: right;\n",
       "    }\n",
       "</style>\n",
       "<table border=\"1\" class=\"dataframe\">\n",
       "  <thead>\n",
       "    <tr style=\"text-align: right;\">\n",
       "      <th></th>\n",
       "      <th>Client ID</th>\n",
       "      <th>Client Name</th>\n",
       "      <th>Net worth [$]</th>\n",
       "      <th>Years with bank</th>\n",
       "    </tr>\n",
       "  </thead>\n",
       "  <tbody>\n",
       "    <tr>\n",
       "      <th>client1</th>\n",
       "      <td>1</td>\n",
       "      <td>Aly</td>\n",
       "      <td>35000</td>\n",
       "      <td>4</td>\n",
       "    </tr>\n",
       "    <tr>\n",
       "      <th>client2</th>\n",
       "      <td>2</td>\n",
       "      <td>Steve</td>\n",
       "      <td>3000</td>\n",
       "      <td>7</td>\n",
       "    </tr>\n",
       "    <tr>\n",
       "      <th>client3</th>\n",
       "      <td>3</td>\n",
       "      <td>Nicole</td>\n",
       "      <td>100000</td>\n",
       "      <td>10</td>\n",
       "    </tr>\n",
       "    <tr>\n",
       "      <th>client4</th>\n",
       "      <td>4</td>\n",
       "      <td>Morris</td>\n",
       "      <td>2000</td>\n",
       "      <td>15</td>\n",
       "    </tr>\n",
       "  </tbody>\n",
       "</table>\n",
       "</div>"
      ],
      "text/plain": [
       "         Client ID Client Name  Net worth [$]  Years with bank\n",
       "client1          1         Aly          35000                4\n",
       "client2          2       Steve           3000                7\n",
       "client3          3      Nicole         100000               10\n",
       "client4          4      Morris           2000               15"
      ]
     },
     "execution_count": 145,
     "metadata": {},
     "output_type": "execute_result"
    }
   ],
   "source": [
    "bank_client_df"
   ]
  },
  {
   "cell_type": "code",
   "execution_count": 147,
   "id": "92c7dcdb",
   "metadata": {},
   "outputs": [
    {
     "data": {
      "text/plain": [
       "Client ID              2\n",
       "Client Name        Steve\n",
       "Net worth [$]       3000\n",
       "Years with bank        7\n",
       "Name: client2, dtype: object"
      ]
     },
     "execution_count": 147,
     "metadata": {},
     "output_type": "execute_result"
    }
   ],
   "source": [
    "bank_client_df.loc['client2']"
   ]
  },
  {
   "cell_type": "code",
   "execution_count": 151,
   "id": "5d0c5dd7",
   "metadata": {},
   "outputs": [
    {
     "data": {
      "text/plain": [
       "client1       Aly\n",
       "client2     Steve\n",
       "client3    Nicole\n",
       "client4    Morris\n",
       "Name: Client Name, dtype: object"
      ]
     },
     "execution_count": 151,
     "metadata": {},
     "output_type": "execute_result"
    }
   ],
   "source": [
    "bank_client_df['Client Name']"
   ]
  },
  {
   "cell_type": "code",
   "execution_count": 150,
   "id": "bfe0e5b3",
   "metadata": {},
   "outputs": [
    {
     "data": {
      "text/html": [
       "<div>\n",
       "<style scoped>\n",
       "    .dataframe tbody tr th:only-of-type {\n",
       "        vertical-align: middle;\n",
       "    }\n",
       "\n",
       "    .dataframe tbody tr th {\n",
       "        vertical-align: top;\n",
       "    }\n",
       "\n",
       "    .dataframe thead th {\n",
       "        text-align: right;\n",
       "    }\n",
       "</style>\n",
       "<table border=\"1\" class=\"dataframe\">\n",
       "  <thead>\n",
       "    <tr style=\"text-align: right;\">\n",
       "      <th></th>\n",
       "      <th>Client ID</th>\n",
       "      <th>Client Name</th>\n",
       "      <th>Net worth [$]</th>\n",
       "      <th>Years with bank</th>\n",
       "    </tr>\n",
       "  </thead>\n",
       "  <tbody>\n",
       "    <tr>\n",
       "      <th>client2</th>\n",
       "      <td>2</td>\n",
       "      <td>Steve</td>\n",
       "      <td>3000</td>\n",
       "      <td>7</td>\n",
       "    </tr>\n",
       "  </tbody>\n",
       "</table>\n",
       "</div>"
      ],
      "text/plain": [
       "         Client ID Client Name  Net worth [$]  Years with bank\n",
       "client2          2       Steve           3000                7"
      ]
     },
     "execution_count": 150,
     "metadata": {},
     "output_type": "execute_result"
    }
   ],
   "source": [
    "# 이름이 Steve인 고객 정보 출력\n",
    "bank_client_df.loc[bank_client_df['Client Name'] == 'Steve'] # DataFrame **중요**\n",
    "# print(bank_client_df.loc[bank_client_df['Client Name'] == 'Steve'], n)\n",
    "# print(type(bank_client_df.loc[bank_client_df['Client Name'] == 'Steve']), n)"
   ]
  },
  {
   "cell_type": "code",
   "execution_count": 143,
   "id": "cd93e689",
   "metadata": {},
   "outputs": [
    {
     "data": {
      "text/plain": [
       "client1       Aly\n",
       "client2     Steve\n",
       "client3    Nicole\n",
       "client4    Morris\n",
       "Name: Client Name, dtype: object"
      ]
     },
     "execution_count": 143,
     "metadata": {},
     "output_type": "execute_result"
    }
   ],
   "source": [
    "bank_client_df['Client Name']"
   ]
  },
  {
   "cell_type": "code",
   "execution_count": 141,
   "id": "2c67a6df",
   "metadata": {},
   "outputs": [
    {
     "data": {
      "text/plain": [
       "client1       Aly\n",
       "client2     Steve\n",
       "client3    Nicole\n",
       "client4    Morris\n",
       "Name: Client Name, dtype: object"
      ]
     },
     "execution_count": 141,
     "metadata": {},
     "output_type": "execute_result"
    }
   ],
   "source": [
    "# Client Name 만 출력\n",
    "bank_client_df.loc[:,'Client Name']"
   ]
  },
  {
   "cell_type": "code",
   "execution_count": 142,
   "id": "0fa742f2",
   "metadata": {},
   "outputs": [
    {
     "data": {
      "text/html": [
       "<div>\n",
       "<style scoped>\n",
       "    .dataframe tbody tr th:only-of-type {\n",
       "        vertical-align: middle;\n",
       "    }\n",
       "\n",
       "    .dataframe tbody tr th {\n",
       "        vertical-align: top;\n",
       "    }\n",
       "\n",
       "    .dataframe thead th {\n",
       "        text-align: right;\n",
       "    }\n",
       "</style>\n",
       "<table border=\"1\" class=\"dataframe\">\n",
       "  <thead>\n",
       "    <tr style=\"text-align: right;\">\n",
       "      <th></th>\n",
       "      <th>Client Name</th>\n",
       "      <th>Net worth [$]</th>\n",
       "    </tr>\n",
       "  </thead>\n",
       "  <tbody>\n",
       "    <tr>\n",
       "      <th>client1</th>\n",
       "      <td>Aly</td>\n",
       "      <td>35000</td>\n",
       "    </tr>\n",
       "    <tr>\n",
       "      <th>client2</th>\n",
       "      <td>Steve</td>\n",
       "      <td>3000</td>\n",
       "    </tr>\n",
       "    <tr>\n",
       "      <th>client3</th>\n",
       "      <td>Nicole</td>\n",
       "      <td>100000</td>\n",
       "    </tr>\n",
       "    <tr>\n",
       "      <th>client4</th>\n",
       "      <td>Morris</td>\n",
       "      <td>2000</td>\n",
       "    </tr>\n",
       "  </tbody>\n",
       "</table>\n",
       "</div>"
      ],
      "text/plain": [
       "        Client Name  Net worth [$]\n",
       "client1         Aly          35000\n",
       "client2       Steve           3000\n",
       "client3      Nicole         100000\n",
       "client4      Morris           2000"
      ]
     },
     "execution_count": 142,
     "metadata": {},
     "output_type": "execute_result"
    }
   ],
   "source": [
    "# Client Name과 Net worth [$] 출력\n",
    "bank_client_df.loc[:,['Client Name', 'Net worth [$]']]"
   ]
  },
  {
   "cell_type": "code",
   "execution_count": 153,
   "id": "206b037f",
   "metadata": {},
   "outputs": [
    {
     "data": {
      "text/html": [
       "<div>\n",
       "<style scoped>\n",
       "    .dataframe tbody tr th:only-of-type {\n",
       "        vertical-align: middle;\n",
       "    }\n",
       "\n",
       "    .dataframe tbody tr th {\n",
       "        vertical-align: top;\n",
       "    }\n",
       "\n",
       "    .dataframe thead th {\n",
       "        text-align: right;\n",
       "    }\n",
       "</style>\n",
       "<table border=\"1\" class=\"dataframe\">\n",
       "  <thead>\n",
       "    <tr style=\"text-align: right;\">\n",
       "      <th></th>\n",
       "      <th>Client Name</th>\n",
       "      <th>Net worth [$]</th>\n",
       "    </tr>\n",
       "  </thead>\n",
       "  <tbody>\n",
       "    <tr>\n",
       "      <th>client1</th>\n",
       "      <td>Aly</td>\n",
       "      <td>35000</td>\n",
       "    </tr>\n",
       "    <tr>\n",
       "      <th>client2</th>\n",
       "      <td>Steve</td>\n",
       "      <td>3000</td>\n",
       "    </tr>\n",
       "    <tr>\n",
       "      <th>client3</th>\n",
       "      <td>Nicole</td>\n",
       "      <td>100000</td>\n",
       "    </tr>\n",
       "    <tr>\n",
       "      <th>client4</th>\n",
       "      <td>Morris</td>\n",
       "      <td>2000</td>\n",
       "    </tr>\n",
       "  </tbody>\n",
       "</table>\n",
       "</div>"
      ],
      "text/plain": [
       "        Client Name  Net worth [$]\n",
       "client1         Aly          35000\n",
       "client2       Steve           3000\n",
       "client3      Nicole         100000\n",
       "client4      Morris           2000"
      ]
     },
     "execution_count": 153,
     "metadata": {},
     "output_type": "execute_result"
    }
   ],
   "source": [
    "# Client Name과 Net worth [$] 출력\n",
    "bank_client_df[['Client Name', 'Net worth [$]']]"
   ]
  },
  {
   "cell_type": "code",
   "execution_count": 165,
   "id": "b6410a72",
   "metadata": {},
   "outputs": [
    {
     "data": {
      "text/html": [
       "<div>\n",
       "<style scoped>\n",
       "    .dataframe tbody tr th:only-of-type {\n",
       "        vertical-align: middle;\n",
       "    }\n",
       "\n",
       "    .dataframe tbody tr th {\n",
       "        vertical-align: top;\n",
       "    }\n",
       "\n",
       "    .dataframe thead th {\n",
       "        text-align: right;\n",
       "    }\n",
       "</style>\n",
       "<table border=\"1\" class=\"dataframe\">\n",
       "  <thead>\n",
       "    <tr style=\"text-align: right;\">\n",
       "      <th></th>\n",
       "      <th>Client Name</th>\n",
       "      <th>Net worth [$]</th>\n",
       "    </tr>\n",
       "  </thead>\n",
       "  <tbody>\n",
       "    <tr>\n",
       "      <th>client1</th>\n",
       "      <td>Aly</td>\n",
       "      <td>35000</td>\n",
       "    </tr>\n",
       "    <tr>\n",
       "      <th>client2</th>\n",
       "      <td>Steve</td>\n",
       "      <td>3000</td>\n",
       "    </tr>\n",
       "    <tr>\n",
       "      <th>client3</th>\n",
       "      <td>Nicole</td>\n",
       "      <td>100000</td>\n",
       "    </tr>\n",
       "    <tr>\n",
       "      <th>client4</th>\n",
       "      <td>Morris</td>\n",
       "      <td>2000</td>\n",
       "    </tr>\n",
       "  </tbody>\n",
       "</table>\n",
       "</div>"
      ],
      "text/plain": [
       "        Client Name  Net worth [$]\n",
       "client1         Aly          35000\n",
       "client2       Steve           3000\n",
       "client3      Nicole         100000\n",
       "client4      Morris           2000"
      ]
     },
     "execution_count": 165,
     "metadata": {},
     "output_type": "execute_result"
    }
   ],
   "source": [
    "# filter 조회\n",
    "# bank_client_df.filter(like='client')\n",
    "bank_client_df.filter(items=['Client Name', 'Net worth [$]'])\n"
   ]
  },
  {
   "cell_type": "code",
   "execution_count": 167,
   "id": "f2120e90",
   "metadata": {},
   "outputs": [
    {
     "data": {
      "text/html": [
       "<div>\n",
       "<style scoped>\n",
       "    .dataframe tbody tr th:only-of-type {\n",
       "        vertical-align: middle;\n",
       "    }\n",
       "\n",
       "    .dataframe tbody tr th {\n",
       "        vertical-align: top;\n",
       "    }\n",
       "\n",
       "    .dataframe thead th {\n",
       "        text-align: right;\n",
       "    }\n",
       "</style>\n",
       "<table border=\"1\" class=\"dataframe\">\n",
       "  <thead>\n",
       "    <tr style=\"text-align: right;\">\n",
       "      <th></th>\n",
       "      <th>Client ID</th>\n",
       "      <th>Client Name</th>\n",
       "      <th>Net worth [$]</th>\n",
       "      <th>Years with bank</th>\n",
       "    </tr>\n",
       "  </thead>\n",
       "  <tbody>\n",
       "  </tbody>\n",
       "</table>\n",
       "</div>"
      ],
      "text/plain": [
       "Empty DataFrame\n",
       "Columns: [Client ID, Client Name, Net worth [$], Years with bank]\n",
       "Index: []"
      ]
     },
     "execution_count": 167,
     "metadata": {},
     "output_type": "execute_result"
    }
   ],
   "source": [
    "# fancy indexing 과 filter 조회 차이점\n",
    "\n",
    "bank_client_df.filter(like='$', axis=0)"
   ]
  },
  {
   "cell_type": "code",
   "execution_count": 168,
   "id": "5813d242",
   "metadata": {},
   "outputs": [
    {
     "data": {
      "text/html": [
       "<div>\n",
       "<style scoped>\n",
       "    .dataframe tbody tr th:only-of-type {\n",
       "        vertical-align: middle;\n",
       "    }\n",
       "\n",
       "    .dataframe tbody tr th {\n",
       "        vertical-align: top;\n",
       "    }\n",
       "\n",
       "    .dataframe thead th {\n",
       "        text-align: right;\n",
       "    }\n",
       "</style>\n",
       "<table border=\"1\" class=\"dataframe\">\n",
       "  <thead>\n",
       "    <tr style=\"text-align: right;\">\n",
       "      <th></th>\n",
       "      <th>Net worth [$]</th>\n",
       "    </tr>\n",
       "  </thead>\n",
       "  <tbody>\n",
       "    <tr>\n",
       "      <th>client1</th>\n",
       "      <td>35000</td>\n",
       "    </tr>\n",
       "    <tr>\n",
       "      <th>client2</th>\n",
       "      <td>3000</td>\n",
       "    </tr>\n",
       "    <tr>\n",
       "      <th>client3</th>\n",
       "      <td>100000</td>\n",
       "    </tr>\n",
       "    <tr>\n",
       "      <th>client4</th>\n",
       "      <td>2000</td>\n",
       "    </tr>\n",
       "  </tbody>\n",
       "</table>\n",
       "</div>"
      ],
      "text/plain": [
       "         Net worth [$]\n",
       "client1          35000\n",
       "client2           3000\n",
       "client3         100000\n",
       "client4           2000"
      ]
     },
     "execution_count": 168,
     "metadata": {},
     "output_type": "execute_result"
    }
   ],
   "source": [
    "# fancy indexing 과 filter 조회 차이점\n",
    "\n",
    "bank_client_df.filter(like='$', axis=1)"
   ]
  },
  {
   "cell_type": "code",
   "execution_count": null,
   "id": "43b52cf6",
   "metadata": {},
   "outputs": [
    {
     "data": {
      "text/html": [
       "<div>\n",
       "<style scoped>\n",
       "    .dataframe tbody tr th:only-of-type {\n",
       "        vertical-align: middle;\n",
       "    }\n",
       "\n",
       "    .dataframe tbody tr th {\n",
       "        vertical-align: top;\n",
       "    }\n",
       "\n",
       "    .dataframe thead th {\n",
       "        text-align: right;\n",
       "    }\n",
       "</style>\n",
       "<table border=\"1\" class=\"dataframe\">\n",
       "  <thead>\n",
       "    <tr style=\"text-align: right;\">\n",
       "      <th></th>\n",
       "      <th>Client ID</th>\n",
       "      <th>Client Name</th>\n",
       "      <th>Net worth [$]</th>\n",
       "      <th>Years with bank</th>\n",
       "    </tr>\n",
       "  </thead>\n",
       "  <tbody>\n",
       "    <tr>\n",
       "      <th>client4</th>\n",
       "      <td>4</td>\n",
       "      <td>Morris</td>\n",
       "      <td>2000</td>\n",
       "      <td>15</td>\n",
       "    </tr>\n",
       "  </tbody>\n",
       "</table>\n",
       "</div>"
      ],
      "text/plain": [
       "         Client ID Client Name  Net worth [$]  Years with bank\n",
       "client4          4      Morris           2000               15"
      ]
     },
     "execution_count": 175,
     "metadata": {},
     "output_type": "execute_result"
    }
   ],
   "source": [
    "# fancy indexing 과 filter 조회 차이점\n",
    "\n",
    "bank_client_df.filter(like='4', axis=0)\n",
    "# 'like' 인자에 정규표현식을 활용할 수 있습니다.\n",
    "# 예를 들어, '3' 또는 '4'를 포함하는 인덱스를 필터링하려면 아래와 같이 사용합니다.\n",
    "\n",
    "bank_client_df.filter(like='3', axis=0)  # '3'이 포함된 인덱스\n",
    "bank_client_df.filter(like='4', axis=0)  # '4'가 포함된 인덱스\n",
    "\n",
    "# 만약 '3' 또는 '4'를 모두 포함하고 싶다면, filter 대신 정규표현식과 boolean indexing을 활용하거나,\n",
    "# filter의 'regex' 인자를 사용할 수 있습니다.\n"
   ]
  },
  {
   "cell_type": "code",
   "execution_count": 176,
   "id": "d0e18566",
   "metadata": {},
   "outputs": [
    {
     "data": {
      "text/html": [
       "<div>\n",
       "<style scoped>\n",
       "    .dataframe tbody tr th:only-of-type {\n",
       "        vertical-align: middle;\n",
       "    }\n",
       "\n",
       "    .dataframe tbody tr th {\n",
       "        vertical-align: top;\n",
       "    }\n",
       "\n",
       "    .dataframe thead th {\n",
       "        text-align: right;\n",
       "    }\n",
       "</style>\n",
       "<table border=\"1\" class=\"dataframe\">\n",
       "  <thead>\n",
       "    <tr style=\"text-align: right;\">\n",
       "      <th></th>\n",
       "      <th>Client ID</th>\n",
       "      <th>Client Name</th>\n",
       "      <th>Net worth [$]</th>\n",
       "      <th>Years with bank</th>\n",
       "    </tr>\n",
       "  </thead>\n",
       "  <tbody>\n",
       "    <tr>\n",
       "      <th>client3</th>\n",
       "      <td>3</td>\n",
       "      <td>Nicole</td>\n",
       "      <td>100000</td>\n",
       "      <td>10</td>\n",
       "    </tr>\n",
       "    <tr>\n",
       "      <th>client4</th>\n",
       "      <td>4</td>\n",
       "      <td>Morris</td>\n",
       "      <td>2000</td>\n",
       "      <td>15</td>\n",
       "    </tr>\n",
       "  </tbody>\n",
       "</table>\n",
       "</div>"
      ],
      "text/plain": [
       "         Client ID Client Name  Net worth [$]  Years with bank\n",
       "client3          3      Nicole         100000               10\n",
       "client4          4      Morris           2000               15"
      ]
     },
     "execution_count": 176,
     "metadata": {},
     "output_type": "execute_result"
    }
   ],
   "source": [
    "# 정규표현식 사용 예시:\n",
    "bank_client_df.filter(regex='3|4', axis=0)\n",
    "\n",
    "# 위 코드는 인덱스에 '3' 또는 '4'가 포함된 행을 모두 반환합니다."
   ]
  },
  {
   "cell_type": "code",
   "execution_count": 4,
   "id": "4a56dc8d",
   "metadata": {},
   "outputs": [],
   "source": [
    "# 3. 2차원 ndarray 활용"
   ]
  },
  {
   "cell_type": "markdown",
   "id": "81878be2",
   "metadata": {},
   "source": [
    "---\n",
    "##### 행 추가 및 삭제"
   ]
  },
  {
   "cell_type": "code",
   "execution_count": 185,
   "id": "55a83c90",
   "metadata": {},
   "outputs": [
    {
     "data": {
      "text/html": [
       "<div>\n",
       "<style scoped>\n",
       "    .dataframe tbody tr th:only-of-type {\n",
       "        vertical-align: middle;\n",
       "    }\n",
       "\n",
       "    .dataframe tbody tr th {\n",
       "        vertical-align: top;\n",
       "    }\n",
       "\n",
       "    .dataframe thead th {\n",
       "        text-align: right;\n",
       "    }\n",
       "</style>\n",
       "<table border=\"1\" class=\"dataframe\">\n",
       "  <thead>\n",
       "    <tr style=\"text-align: right;\">\n",
       "      <th></th>\n",
       "      <th>name</th>\n",
       "      <th>midterm</th>\n",
       "      <th>final</th>\n",
       "    </tr>\n",
       "  </thead>\n",
       "  <tbody>\n",
       "    <tr>\n",
       "      <th>0</th>\n",
       "      <td>John</td>\n",
       "      <td>95</td>\n",
       "      <td>85</td>\n",
       "    </tr>\n",
       "    <tr>\n",
       "      <th>1</th>\n",
       "      <td>Jane</td>\n",
       "      <td>85</td>\n",
       "      <td>95</td>\n",
       "    </tr>\n",
       "    <tr>\n",
       "      <th>2</th>\n",
       "      <td>Jim</td>\n",
       "      <td>90</td>\n",
       "      <td>88</td>\n",
       "    </tr>\n",
       "    <tr>\n",
       "      <th>3</th>\n",
       "      <td>Jill</td>\n",
       "      <td>88</td>\n",
       "      <td>100</td>\n",
       "    </tr>\n",
       "  </tbody>\n",
       "</table>\n",
       "</div>"
      ],
      "text/plain": [
       "   name  midterm  final\n",
       "0  John       95     85\n",
       "1  Jane       85     95\n",
       "2   Jim       90     88\n",
       "3  Jill       88    100"
      ]
     },
     "execution_count": 185,
     "metadata": {},
     "output_type": "execute_result"
    }
   ],
   "source": [
    "students = [\n",
    "    {'name': 'John', 'midterm': 95, 'final': 85},\n",
    "    {'name': 'Jane', 'midterm': 85, 'final': 95},\n",
    "    {'name': 'Jim', 'midterm': 90, 'final': 88},\n",
    "    {'name': 'Jill', 'midterm': 88, 'final': 100}\n",
    "]\n",
    "\n",
    "df = pd.DataFrame(students)\n",
    "df"
   ]
  },
  {
   "cell_type": "code",
   "execution_count": 188,
   "id": "9105f4e3",
   "metadata": {},
   "outputs": [
    {
     "data": {
      "text/html": [
       "<div>\n",
       "<style scoped>\n",
       "    .dataframe tbody tr th:only-of-type {\n",
       "        vertical-align: middle;\n",
       "    }\n",
       "\n",
       "    .dataframe tbody tr th {\n",
       "        vertical-align: top;\n",
       "    }\n",
       "\n",
       "    .dataframe thead th {\n",
       "        text-align: right;\n",
       "    }\n",
       "</style>\n",
       "<table border=\"1\" class=\"dataframe\">\n",
       "  <thead>\n",
       "    <tr style=\"text-align: right;\">\n",
       "      <th></th>\n",
       "      <th>name</th>\n",
       "      <th>midterm</th>\n",
       "      <th>final</th>\n",
       "    </tr>\n",
       "  </thead>\n",
       "  <tbody>\n",
       "    <tr>\n",
       "      <th>0</th>\n",
       "      <td>John</td>\n",
       "      <td>95</td>\n",
       "      <td>85</td>\n",
       "    </tr>\n",
       "    <tr>\n",
       "      <th>1</th>\n",
       "      <td>Jane</td>\n",
       "      <td>85</td>\n",
       "      <td>95</td>\n",
       "    </tr>\n",
       "    <tr>\n",
       "      <th>2</th>\n",
       "      <td>Jim</td>\n",
       "      <td>90</td>\n",
       "      <td>88</td>\n",
       "    </tr>\n",
       "    <tr>\n",
       "      <th>3</th>\n",
       "      <td>Jill-fix</td>\n",
       "      <td>88</td>\n",
       "      <td>100</td>\n",
       "    </tr>\n",
       "    <tr>\n",
       "      <th>4</th>\n",
       "      <td>Park</td>\n",
       "      <td>82</td>\n",
       "      <td>87</td>\n",
       "    </tr>\n",
       "    <tr>\n",
       "      <th>5</th>\n",
       "      <td>Park</td>\n",
       "      <td>82</td>\n",
       "      <td>87</td>\n",
       "    </tr>\n",
       "    <tr>\n",
       "      <th>6</th>\n",
       "      <td>Park</td>\n",
       "      <td>82</td>\n",
       "      <td>87</td>\n",
       "    </tr>\n",
       "  </tbody>\n",
       "</table>\n",
       "</div>"
      ],
      "text/plain": [
       "       name  midterm  final\n",
       "0      John       95     85\n",
       "1      Jane       85     95\n",
       "2       Jim       90     88\n",
       "3  Jill-fix       88    100\n",
       "4      Park       82     87\n",
       "5      Park       82     87\n",
       "6      Park       82     87"
      ]
     },
     "execution_count": 188,
     "metadata": {},
     "output_type": "execute_result"
    }
   ],
   "source": [
    "# 1. loc 이용\n",
    "df.loc[3] = ['Jill-fix', 88, 100]\n",
    "df.loc[len(df)] = ['Park', 82, 87] # len(df) : 행의 개수 : 4\n",
    "df"
   ]
  },
  {
   "cell_type": "code",
   "execution_count": null,
   "id": "75961a8a",
   "metadata": {},
   "outputs": [
    {
     "data": {
      "text/html": [
       "<div>\n",
       "<style scoped>\n",
       "    .dataframe tbody tr th:only-of-type {\n",
       "        vertical-align: middle;\n",
       "    }\n",
       "\n",
       "    .dataframe tbody tr th {\n",
       "        vertical-align: top;\n",
       "    }\n",
       "\n",
       "    .dataframe thead th {\n",
       "        text-align: right;\n",
       "    }\n",
       "</style>\n",
       "<table border=\"1\" class=\"dataframe\">\n",
       "  <thead>\n",
       "    <tr style=\"text-align: right;\">\n",
       "      <th></th>\n",
       "      <th>name</th>\n",
       "      <th>midterm</th>\n",
       "      <th>final</th>\n",
       "    </tr>\n",
       "  </thead>\n",
       "  <tbody>\n",
       "    <tr>\n",
       "      <th>0</th>\n",
       "      <td>John</td>\n",
       "      <td>95</td>\n",
       "      <td>85</td>\n",
       "    </tr>\n",
       "    <tr>\n",
       "      <th>1</th>\n",
       "      <td>Jane</td>\n",
       "      <td>85</td>\n",
       "      <td>95</td>\n",
       "    </tr>\n",
       "    <tr>\n",
       "      <th>2</th>\n",
       "      <td>Jim</td>\n",
       "      <td>90</td>\n",
       "      <td>88</td>\n",
       "    </tr>\n",
       "    <tr>\n",
       "      <th>3</th>\n",
       "      <td>Jill</td>\n",
       "      <td>88</td>\n",
       "      <td>100</td>\n",
       "    </tr>\n",
       "  </tbody>\n",
       "</table>\n",
       "</div>"
      ],
      "text/plain": [
       "   name  midterm  final\n",
       "0  John       95     85\n",
       "1  Jane       85     95\n",
       "2   Jim       90     88\n",
       "3  Jill       88    100"
      ]
     },
     "execution_count": 197,
     "metadata": {},
     "output_type": "execute_result"
    }
   ],
   "source": [
    "students = [\n",
    "    {'name': 'John', 'midterm': 95, 'final': 85},\n",
    "    {'name': 'Jane', 'midterm': 85, 'final': 95},\n",
    "    {'name': 'Jim', 'midterm': 90, 'final': 88},\n",
    "    {'name': 'Jill', 'midterm': 88, 'final': 100}\n",
    "]\n",
    "\n",
    "df = pd.DataFrame(students)\n",
    "df"
   ]
  },
  {
   "cell_type": "code",
   "execution_count": null,
   "id": "55b3abf9",
   "metadata": {},
   "outputs": [
    {
     "ename": "TypeError",
     "evalue": "cannot concatenate object of type '<class 'list'>'; only Series and DataFrame objs are valid",
     "output_type": "error",
     "traceback": [
      "\u001b[31m---------------------------------------------------------------------------\u001b[39m",
      "\u001b[31mTypeError\u001b[39m                                 Traceback (most recent call last)",
      "\u001b[36mCell\u001b[39m\u001b[36m \u001b[39m\u001b[32mIn[191]\u001b[39m\u001b[32m, line 2\u001b[39m\n\u001b[32m      1\u001b[39m \u001b[38;5;66;03m# 2. pd.concat 이용\u001b[39;00m\n\u001b[32m----> \u001b[39m\u001b[32m2\u001b[39m df = \u001b[43mpd\u001b[49m\u001b[43m.\u001b[49m\u001b[43mconcat\u001b[49m\u001b[43m(\u001b[49m\u001b[43m[\u001b[49m\u001b[43mdf\u001b[49m\u001b[43m,\u001b[49m\u001b[43m \u001b[49m\u001b[43m[\u001b[49m\u001b[33;43m'\u001b[39;49m\u001b[33;43mApril\u001b[39;49m\u001b[33;43m'\u001b[39;49m\u001b[43m,\u001b[49m\u001b[43m \u001b[49m\u001b[32;43m82\u001b[39;49m\u001b[43m,\u001b[49m\u001b[43m \u001b[49m\u001b[32;43m87\u001b[39;49m\u001b[43m]\u001b[49m\u001b[43m]\u001b[49m\u001b[43m)\u001b[49m\n",
      "\u001b[36mFile \u001b[39m\u001b[32mc:\\Users\\Playdata\\anaconda3\\envs\\pystudy_env\\Lib\\site-packages\\pandas\\core\\reshape\\concat.py:382\u001b[39m, in \u001b[36mconcat\u001b[39m\u001b[34m(objs, axis, join, ignore_index, keys, levels, names, verify_integrity, sort, copy)\u001b[39m\n\u001b[32m    379\u001b[39m \u001b[38;5;28;01melif\u001b[39;00m copy \u001b[38;5;129;01mand\u001b[39;00m using_copy_on_write():\n\u001b[32m    380\u001b[39m     copy = \u001b[38;5;28;01mFalse\u001b[39;00m\n\u001b[32m--> \u001b[39m\u001b[32m382\u001b[39m op = \u001b[43m_Concatenator\u001b[49m\u001b[43m(\u001b[49m\n\u001b[32m    383\u001b[39m \u001b[43m    \u001b[49m\u001b[43mobjs\u001b[49m\u001b[43m,\u001b[49m\n\u001b[32m    384\u001b[39m \u001b[43m    \u001b[49m\u001b[43maxis\u001b[49m\u001b[43m=\u001b[49m\u001b[43maxis\u001b[49m\u001b[43m,\u001b[49m\n\u001b[32m    385\u001b[39m \u001b[43m    \u001b[49m\u001b[43mignore_index\u001b[49m\u001b[43m=\u001b[49m\u001b[43mignore_index\u001b[49m\u001b[43m,\u001b[49m\n\u001b[32m    386\u001b[39m \u001b[43m    \u001b[49m\u001b[43mjoin\u001b[49m\u001b[43m=\u001b[49m\u001b[43mjoin\u001b[49m\u001b[43m,\u001b[49m\n\u001b[32m    387\u001b[39m \u001b[43m    \u001b[49m\u001b[43mkeys\u001b[49m\u001b[43m=\u001b[49m\u001b[43mkeys\u001b[49m\u001b[43m,\u001b[49m\n\u001b[32m    388\u001b[39m \u001b[43m    \u001b[49m\u001b[43mlevels\u001b[49m\u001b[43m=\u001b[49m\u001b[43mlevels\u001b[49m\u001b[43m,\u001b[49m\n\u001b[32m    389\u001b[39m \u001b[43m    \u001b[49m\u001b[43mnames\u001b[49m\u001b[43m=\u001b[49m\u001b[43mnames\u001b[49m\u001b[43m,\u001b[49m\n\u001b[32m    390\u001b[39m \u001b[43m    \u001b[49m\u001b[43mverify_integrity\u001b[49m\u001b[43m=\u001b[49m\u001b[43mverify_integrity\u001b[49m\u001b[43m,\u001b[49m\n\u001b[32m    391\u001b[39m \u001b[43m    \u001b[49m\u001b[43mcopy\u001b[49m\u001b[43m=\u001b[49m\u001b[43mcopy\u001b[49m\u001b[43m,\u001b[49m\n\u001b[32m    392\u001b[39m \u001b[43m    \u001b[49m\u001b[43msort\u001b[49m\u001b[43m=\u001b[49m\u001b[43msort\u001b[49m\u001b[43m,\u001b[49m\n\u001b[32m    393\u001b[39m \u001b[43m\u001b[49m\u001b[43m)\u001b[49m\n\u001b[32m    395\u001b[39m \u001b[38;5;28;01mreturn\u001b[39;00m op.get_result()\n",
      "\u001b[36mFile \u001b[39m\u001b[32mc:\\Users\\Playdata\\anaconda3\\envs\\pystudy_env\\Lib\\site-packages\\pandas\\core\\reshape\\concat.py:448\u001b[39m, in \u001b[36m_Concatenator.__init__\u001b[39m\u001b[34m(self, objs, axis, join, keys, levels, names, ignore_index, verify_integrity, copy, sort)\u001b[39m\n\u001b[32m    445\u001b[39m objs, keys = \u001b[38;5;28mself\u001b[39m._clean_keys_and_objs(objs, keys)\n\u001b[32m    447\u001b[39m \u001b[38;5;66;03m# figure out what our result ndim is going to be\u001b[39;00m\n\u001b[32m--> \u001b[39m\u001b[32m448\u001b[39m ndims = \u001b[38;5;28;43mself\u001b[39;49m\u001b[43m.\u001b[49m\u001b[43m_get_ndims\u001b[49m\u001b[43m(\u001b[49m\u001b[43mobjs\u001b[49m\u001b[43m)\u001b[49m\n\u001b[32m    449\u001b[39m sample, objs = \u001b[38;5;28mself\u001b[39m._get_sample_object(objs, ndims, keys, names, levels)\n\u001b[32m    451\u001b[39m \u001b[38;5;66;03m# Standardize axis parameter to int\u001b[39;00m\n",
      "\u001b[36mFile \u001b[39m\u001b[32mc:\\Users\\Playdata\\anaconda3\\envs\\pystudy_env\\Lib\\site-packages\\pandas\\core\\reshape\\concat.py:489\u001b[39m, in \u001b[36m_Concatenator._get_ndims\u001b[39m\u001b[34m(self, objs)\u001b[39m\n\u001b[32m    484\u001b[39m     \u001b[38;5;28;01mif\u001b[39;00m \u001b[38;5;129;01mnot\u001b[39;00m \u001b[38;5;28misinstance\u001b[39m(obj, (ABCSeries, ABCDataFrame)):\n\u001b[32m    485\u001b[39m         msg = (\n\u001b[32m    486\u001b[39m             \u001b[33mf\u001b[39m\u001b[33m\"\u001b[39m\u001b[33mcannot concatenate object of type \u001b[39m\u001b[33m'\u001b[39m\u001b[38;5;132;01m{\u001b[39;00m\u001b[38;5;28mtype\u001b[39m(obj)\u001b[38;5;132;01m}\u001b[39;00m\u001b[33m'\u001b[39m\u001b[33m; \u001b[39m\u001b[33m\"\u001b[39m\n\u001b[32m    487\u001b[39m             \u001b[33m\"\u001b[39m\u001b[33monly Series and DataFrame objs are valid\u001b[39m\u001b[33m\"\u001b[39m\n\u001b[32m    488\u001b[39m         )\n\u001b[32m--> \u001b[39m\u001b[32m489\u001b[39m         \u001b[38;5;28;01mraise\u001b[39;00m \u001b[38;5;167;01mTypeError\u001b[39;00m(msg)\n\u001b[32m    491\u001b[39m     ndims.add(obj.ndim)\n\u001b[32m    492\u001b[39m \u001b[38;5;28;01mreturn\u001b[39;00m ndims\n",
      "\u001b[31mTypeError\u001b[39m: cannot concatenate object of type '<class 'list'>'; only Series and DataFrame objs are valid"
     ]
    }
   ],
   "source": [
    "# 2. pd.concat 이용\n",
    "df = pd.concat([df, ['April', 82, 87]])\n",
    "# cannot concatenate object of type '<class 'list'>'; only Series and DataFrame objs are valid"
   ]
  },
  {
   "cell_type": "code",
   "execution_count": null,
   "id": "2ed1dd33",
   "metadata": {},
   "outputs": [
    {
     "data": {
      "text/html": [
       "<div>\n",
       "<style scoped>\n",
       "    .dataframe tbody tr th:only-of-type {\n",
       "        vertical-align: middle;\n",
       "    }\n",
       "\n",
       "    .dataframe tbody tr th {\n",
       "        vertical-align: top;\n",
       "    }\n",
       "\n",
       "    .dataframe thead th {\n",
       "        text-align: right;\n",
       "    }\n",
       "</style>\n",
       "<table border=\"1\" class=\"dataframe\">\n",
       "  <thead>\n",
       "    <tr style=\"text-align: right;\">\n",
       "      <th></th>\n",
       "      <th>name</th>\n",
       "      <th>midterm</th>\n",
       "      <th>final</th>\n",
       "      <th>0</th>\n",
       "      <th>1</th>\n",
       "      <th>2</th>\n",
       "    </tr>\n",
       "  </thead>\n",
       "  <tbody>\n",
       "    <tr>\n",
       "      <th>0</th>\n",
       "      <td>John</td>\n",
       "      <td>95.0</td>\n",
       "      <td>85.0</td>\n",
       "      <td>NaN</td>\n",
       "      <td>NaN</td>\n",
       "      <td>NaN</td>\n",
       "    </tr>\n",
       "    <tr>\n",
       "      <th>1</th>\n",
       "      <td>Jane</td>\n",
       "      <td>85.0</td>\n",
       "      <td>95.0</td>\n",
       "      <td>NaN</td>\n",
       "      <td>NaN</td>\n",
       "      <td>NaN</td>\n",
       "    </tr>\n",
       "    <tr>\n",
       "      <th>2</th>\n",
       "      <td>Jim</td>\n",
       "      <td>90.0</td>\n",
       "      <td>88.0</td>\n",
       "      <td>NaN</td>\n",
       "      <td>NaN</td>\n",
       "      <td>NaN</td>\n",
       "    </tr>\n",
       "    <tr>\n",
       "      <th>3</th>\n",
       "      <td>Jill</td>\n",
       "      <td>88.0</td>\n",
       "      <td>100.0</td>\n",
       "      <td>NaN</td>\n",
       "      <td>NaN</td>\n",
       "      <td>NaN</td>\n",
       "    </tr>\n",
       "    <tr>\n",
       "      <th>0</th>\n",
       "      <td>NaN</td>\n",
       "      <td>NaN</td>\n",
       "      <td>NaN</td>\n",
       "      <td>April</td>\n",
       "      <td>82.0</td>\n",
       "      <td>87.0</td>\n",
       "    </tr>\n",
       "  </tbody>\n",
       "</table>\n",
       "</div>"
      ],
      "text/plain": [
       "   name  midterm  final      0     1     2\n",
       "0  John     95.0   85.0    NaN   NaN   NaN\n",
       "1  Jane     85.0   95.0    NaN   NaN   NaN\n",
       "2   Jim     90.0   88.0    NaN   NaN   NaN\n",
       "3  Jill     88.0  100.0    NaN   NaN   NaN\n",
       "0   NaN      NaN    NaN  April  82.0  87.0"
      ]
     },
     "execution_count": 195,
     "metadata": {},
     "output_type": "execute_result"
    }
   ],
   "source": [
    "# 2. pd.concat 이용\n",
    "add_student_df = pd.DataFrame([['April', 82, 87]])\n",
    "df = pd.concat([df, add_student_df])\n",
    "df\n",
    "# 병합을 하려고 concat 이용하면 오류 발생\n",
    "# 우리가 준 add_student_df 는 컬럼 이름이 없는 상태"
   ]
  },
  {
   "cell_type": "code",
   "execution_count": 200,
   "id": "c4816663",
   "metadata": {},
   "outputs": [
    {
     "data": {
      "text/html": [
       "<div>\n",
       "<style scoped>\n",
       "    .dataframe tbody tr th:only-of-type {\n",
       "        vertical-align: middle;\n",
       "    }\n",
       "\n",
       "    .dataframe tbody tr th {\n",
       "        vertical-align: top;\n",
       "    }\n",
       "\n",
       "    .dataframe thead th {\n",
       "        text-align: right;\n",
       "    }\n",
       "</style>\n",
       "<table border=\"1\" class=\"dataframe\">\n",
       "  <thead>\n",
       "    <tr style=\"text-align: right;\">\n",
       "      <th></th>\n",
       "      <th>name</th>\n",
       "      <th>midterm</th>\n",
       "      <th>final</th>\n",
       "    </tr>\n",
       "  </thead>\n",
       "  <tbody>\n",
       "    <tr>\n",
       "      <th>0</th>\n",
       "      <td>John</td>\n",
       "      <td>95</td>\n",
       "      <td>85</td>\n",
       "    </tr>\n",
       "    <tr>\n",
       "      <th>1</th>\n",
       "      <td>Jane</td>\n",
       "      <td>85</td>\n",
       "      <td>95</td>\n",
       "    </tr>\n",
       "    <tr>\n",
       "      <th>2</th>\n",
       "      <td>Jim</td>\n",
       "      <td>90</td>\n",
       "      <td>88</td>\n",
       "    </tr>\n",
       "    <tr>\n",
       "      <th>3</th>\n",
       "      <td>Jill</td>\n",
       "      <td>88</td>\n",
       "      <td>100</td>\n",
       "    </tr>\n",
       "  </tbody>\n",
       "</table>\n",
       "</div>"
      ],
      "text/plain": [
       "   name  midterm  final\n",
       "0  John       95     85\n",
       "1  Jane       85     95\n",
       "2   Jim       90     88\n",
       "3  Jill       88    100"
      ]
     },
     "execution_count": 200,
     "metadata": {},
     "output_type": "execute_result"
    }
   ],
   "source": [
    "students = [\n",
    "    {'name': 'John', 'midterm': 95, 'final': 85},\n",
    "    {'name': 'Jane', 'midterm': 85, 'final': 95},\n",
    "    {'name': 'Jim', 'midterm': 90, 'final': 88},\n",
    "    {'name': 'Jill', 'midterm': 88, 'final': 100}\n",
    "]\n",
    "\n",
    "df = pd.DataFrame(students)\n",
    "df"
   ]
  },
  {
   "cell_type": "code",
   "execution_count": 199,
   "id": "5e9ccec9",
   "metadata": {},
   "outputs": [
    {
     "data": {
      "text/html": [
       "<div>\n",
       "<style scoped>\n",
       "    .dataframe tbody tr th:only-of-type {\n",
       "        vertical-align: middle;\n",
       "    }\n",
       "\n",
       "    .dataframe tbody tr th {\n",
       "        vertical-align: top;\n",
       "    }\n",
       "\n",
       "    .dataframe thead th {\n",
       "        text-align: right;\n",
       "    }\n",
       "</style>\n",
       "<table border=\"1\" class=\"dataframe\">\n",
       "  <thead>\n",
       "    <tr style=\"text-align: right;\">\n",
       "      <th></th>\n",
       "      <th>name</th>\n",
       "      <th>midterm</th>\n",
       "      <th>final</th>\n",
       "    </tr>\n",
       "  </thead>\n",
       "  <tbody>\n",
       "    <tr>\n",
       "      <th>0</th>\n",
       "      <td>John</td>\n",
       "      <td>95</td>\n",
       "      <td>85</td>\n",
       "    </tr>\n",
       "    <tr>\n",
       "      <th>1</th>\n",
       "      <td>Jane</td>\n",
       "      <td>85</td>\n",
       "      <td>95</td>\n",
       "    </tr>\n",
       "    <tr>\n",
       "      <th>2</th>\n",
       "      <td>Jim</td>\n",
       "      <td>90</td>\n",
       "      <td>88</td>\n",
       "    </tr>\n",
       "    <tr>\n",
       "      <th>3</th>\n",
       "      <td>Jill</td>\n",
       "      <td>88</td>\n",
       "      <td>100</td>\n",
       "    </tr>\n",
       "    <tr>\n",
       "      <th>0</th>\n",
       "      <td>April</td>\n",
       "      <td>82</td>\n",
       "      <td>87</td>\n",
       "    </tr>\n",
       "    <tr>\n",
       "      <th>0</th>\n",
       "      <td>April</td>\n",
       "      <td>82</td>\n",
       "      <td>87</td>\n",
       "    </tr>\n",
       "  </tbody>\n",
       "</table>\n",
       "</div>"
      ],
      "text/plain": [
       "    name  midterm  final\n",
       "0   John       95     85\n",
       "1   Jane       85     95\n",
       "2    Jim       90     88\n",
       "3   Jill       88    100\n",
       "0  April       82     87\n",
       "0  April       82     87"
      ]
     },
     "execution_count": 199,
     "metadata": {},
     "output_type": "execute_result"
    }
   ],
   "source": [
    "# 2. pd.concat 이용\n",
    "add_student_df = pd.DataFrame([['April', 82, 87]], columns=['name', 'midterm', 'final'])\n",
    "df = pd.concat([df, add_student_df])\n",
    "df\n",
    "# 직접 columns에 넣어주자."
   ]
  },
  {
   "cell_type": "code",
   "execution_count": 201,
   "id": "432ff43b",
   "metadata": {},
   "outputs": [
    {
     "data": {
      "text/html": [
       "<div>\n",
       "<style scoped>\n",
       "    .dataframe tbody tr th:only-of-type {\n",
       "        vertical-align: middle;\n",
       "    }\n",
       "\n",
       "    .dataframe tbody tr th {\n",
       "        vertical-align: top;\n",
       "    }\n",
       "\n",
       "    .dataframe thead th {\n",
       "        text-align: right;\n",
       "    }\n",
       "</style>\n",
       "<table border=\"1\" class=\"dataframe\">\n",
       "  <thead>\n",
       "    <tr style=\"text-align: right;\">\n",
       "      <th></th>\n",
       "      <th>name</th>\n",
       "      <th>midterm</th>\n",
       "      <th>final</th>\n",
       "    </tr>\n",
       "  </thead>\n",
       "  <tbody>\n",
       "    <tr>\n",
       "      <th>0</th>\n",
       "      <td>John</td>\n",
       "      <td>95</td>\n",
       "      <td>85</td>\n",
       "    </tr>\n",
       "    <tr>\n",
       "      <th>1</th>\n",
       "      <td>Jane</td>\n",
       "      <td>85</td>\n",
       "      <td>95</td>\n",
       "    </tr>\n",
       "    <tr>\n",
       "      <th>2</th>\n",
       "      <td>Jim</td>\n",
       "      <td>90</td>\n",
       "      <td>88</td>\n",
       "    </tr>\n",
       "    <tr>\n",
       "      <th>3</th>\n",
       "      <td>Jill</td>\n",
       "      <td>88</td>\n",
       "      <td>100</td>\n",
       "    </tr>\n",
       "  </tbody>\n",
       "</table>\n",
       "</div>"
      ],
      "text/plain": [
       "   name  midterm  final\n",
       "0  John       95     85\n",
       "1  Jane       85     95\n",
       "2   Jim       90     88\n",
       "3  Jill       88    100"
      ]
     },
     "execution_count": 201,
     "metadata": {},
     "output_type": "execute_result"
    }
   ],
   "source": [
    "students = [\n",
    "    {'name': 'John', 'midterm': 95, 'final': 85},\n",
    "    {'name': 'Jane', 'midterm': 85, 'final': 95},\n",
    "    {'name': 'Jim', 'midterm': 90, 'final': 88},\n",
    "    {'name': 'Jill', 'midterm': 88, 'final': 100}\n",
    "]\n",
    "\n",
    "df = pd.DataFrame(students)\n",
    "df"
   ]
  },
  {
   "cell_type": "code",
   "execution_count": 202,
   "id": "32e83597",
   "metadata": {},
   "outputs": [
    {
     "data": {
      "text/html": [
       "<div>\n",
       "<style scoped>\n",
       "    .dataframe tbody tr th:only-of-type {\n",
       "        vertical-align: middle;\n",
       "    }\n",
       "\n",
       "    .dataframe tbody tr th {\n",
       "        vertical-align: top;\n",
       "    }\n",
       "\n",
       "    .dataframe thead th {\n",
       "        text-align: right;\n",
       "    }\n",
       "</style>\n",
       "<table border=\"1\" class=\"dataframe\">\n",
       "  <thead>\n",
       "    <tr style=\"text-align: right;\">\n",
       "      <th></th>\n",
       "      <th>name</th>\n",
       "      <th>midterm</th>\n",
       "      <th>final</th>\n",
       "    </tr>\n",
       "  </thead>\n",
       "  <tbody>\n",
       "    <tr>\n",
       "      <th>0</th>\n",
       "      <td>John</td>\n",
       "      <td>95</td>\n",
       "      <td>85</td>\n",
       "    </tr>\n",
       "    <tr>\n",
       "      <th>1</th>\n",
       "      <td>Jane</td>\n",
       "      <td>85</td>\n",
       "      <td>95</td>\n",
       "    </tr>\n",
       "    <tr>\n",
       "      <th>2</th>\n",
       "      <td>Jim</td>\n",
       "      <td>90</td>\n",
       "      <td>88</td>\n",
       "    </tr>\n",
       "    <tr>\n",
       "      <th>3</th>\n",
       "      <td>Jill</td>\n",
       "      <td>88</td>\n",
       "      <td>100</td>\n",
       "    </tr>\n",
       "    <tr>\n",
       "      <th>4</th>\n",
       "      <td>April</td>\n",
       "      <td>82</td>\n",
       "      <td>87</td>\n",
       "    </tr>\n",
       "  </tbody>\n",
       "</table>\n",
       "</div>"
      ],
      "text/plain": [
       "    name  midterm  final\n",
       "0   John       95     85\n",
       "1   Jane       85     95\n",
       "2    Jim       90     88\n",
       "3   Jill       88    100\n",
       "4  April       82     87"
      ]
     },
     "execution_count": 202,
     "metadata": {},
     "output_type": "execute_result"
    }
   ],
   "source": [
    "# 2. pd.concat 이용\n",
    "add_student_df = pd.DataFrame([['April', 82, 87]], columns=['name', 'midterm', 'final'])\n",
    "df = pd.concat([df, add_student_df], ignore_index=True)\n",
    "df\n",
    "# ! -> 직접 columns에 넣어주자. 인덱스가 문제 생겼으므로 \n",
    "# ! -> ignore_index=True 추가해서 인덱스를 새로 부여"
   ]
  },
  {
   "cell_type": "code",
   "execution_count": 203,
   "id": "9c262ba3",
   "metadata": {},
   "outputs": [
    {
     "ename": "AttributeError",
     "evalue": "'DataFrame' object has no attribute 'append'",
     "output_type": "error",
     "traceback": [
      "\u001b[31m---------------------------------------------------------------------------\u001b[39m",
      "\u001b[31mAttributeError\u001b[39m                            Traceback (most recent call last)",
      "\u001b[32m~\\AppData\\Local\\Temp\\ipykernel_7448\\643049271.py\u001b[39m in \u001b[36m?\u001b[39m\u001b[34m()\u001b[39m\n\u001b[32m      1\u001b[39m \u001b[38;5;66;03m# 2. append 이용\u001b[39;00m\n\u001b[32m----> \u001b[39m\u001b[32m2\u001b[39m df = df.append({\u001b[33m'name'\u001b[39m: \u001b[33m'Park'\u001b[39m, \u001b[33m'midterm'\u001b[39m: \u001b[32m82\u001b[39m, \u001b[33m'final'\u001b[39m: \u001b[32m87\u001b[39m}, ignore_index=\u001b[38;5;28;01mTrue\u001b[39;00m)\n\u001b[32m      3\u001b[39m df\n",
      "\u001b[32mc:\\Users\\Playdata\\anaconda3\\envs\\pystudy_env\\Lib\\site-packages\\pandas\\core\\generic.py\u001b[39m in \u001b[36m?\u001b[39m\u001b[34m(self, name)\u001b[39m\n\u001b[32m   6314\u001b[39m             \u001b[38;5;28;01mand\u001b[39;00m name \u001b[38;5;28;01mnot\u001b[39;00m \u001b[38;5;28;01min\u001b[39;00m self._accessors\n\u001b[32m   6315\u001b[39m             \u001b[38;5;28;01mand\u001b[39;00m self._info_axis._can_hold_identifiers_and_holds_name(name)\n\u001b[32m   6316\u001b[39m         ):\n\u001b[32m   6317\u001b[39m             \u001b[38;5;28;01mreturn\u001b[39;00m self[name]\n\u001b[32m-> \u001b[39m\u001b[32m6318\u001b[39m         \u001b[38;5;28;01mreturn\u001b[39;00m object.__getattribute__(self, name)\n",
      "\u001b[31mAttributeError\u001b[39m: 'DataFrame' object has no attribute 'append'"
     ]
    }
   ],
   "source": [
    "# 2. append 이용\n",
    "df = df.append({'name': 'Park', 'midterm': 82, 'final': 87}, ignore_index=True)\n",
    "df"
   ]
  }
 ],
 "metadata": {
  "kernelspec": {
   "display_name": "pystudy_env",
   "language": "python",
   "name": "python3"
  },
  "language_info": {
   "codemirror_mode": {
    "name": "ipython",
    "version": 3
   },
   "file_extension": ".py",
   "mimetype": "text/x-python",
   "name": "python",
   "nbconvert_exporter": "python",
   "pygments_lexer": "ipython3",
   "version": "3.12.11"
  }
 },
 "nbformat": 4,
 "nbformat_minor": 5
}
