{
 "cells": [
  {
   "cell_type": "markdown",
   "id": "158ea2e2",
   "metadata": {},
   "source": [
    "### ndarray 정렬\n"
   ]
  },
  {
   "cell_type": "code",
   "execution_count": 1,
   "id": "8060aa67",
   "metadata": {},
   "outputs": [],
   "source": [
    "import numpy as np"
   ]
  },
  {
   "cell_type": "code",
   "execution_count": null,
   "id": "84813ca9",
   "metadata": {},
   "outputs": [],
   "source": [
    "##### 1차원 ndarray 정렬"
   ]
  },
  {
   "cell_type": "code",
   "execution_count": 2,
   "id": "ae2525f0",
   "metadata": {},
   "outputs": [],
   "source": [
    "n = \"\\n------------------------------------------------------------------------\\n\""
   ]
  },
  {
   "cell_type": "code",
   "execution_count": 81,
   "id": "e1e08a06",
   "metadata": {},
   "outputs": [
    {
     "name": "stdout",
     "output_type": "stream",
     "text": [
      "[ 7  1  2  9  1  6  4  7 10  5] \n",
      "------------------------------------------------------------------------\n",
      "\n",
      "[ 1  1  2  4  5  6  7  7  9 10] \n",
      "------------------------------------------------------------------------\n",
      "\n",
      "[ 7  1  2  9  1  6  4  7 10  5]\n"
     ]
    }
   ],
   "source": [
    "arr = np.random.randint(1, 11, 10)\n",
    "print(arr, n)\n",
    "print(np.sort(arr), n)\n",
    "print(arr)"
   ]
  },
  {
   "cell_type": "code",
   "execution_count": 84,
   "id": "edb8c966",
   "metadata": {},
   "outputs": [
    {
     "name": "stdout",
     "output_type": "stream",
     "text": [
      "[ 1  1  2  4  5  6  7  7  9 10]\n",
      "[ 1  1  2  4  5  6  7  7  9 10] \n",
      "------------------------------------------------------------------------\n",
      "\n"
     ]
    }
   ],
   "source": [
    "# np.sort(arr) : 원본 배열을 변경하지 않고 정렬된 배열 반환\n",
    "\n",
    "print(np.sort(arr))\n",
    "arr = np.sort(arr)\n",
    "print(arr, n)"
   ]
  },
  {
   "cell_type": "code",
   "execution_count": 85,
   "id": "f42a102f",
   "metadata": {},
   "outputs": [
    {
     "name": "stdout",
     "output_type": "stream",
     "text": [
      "[10  9  7  7  6  5  4  2  1  1] \n",
      "------------------------------------------------------------------------\n",
      "\n"
     ]
    }
   ],
   "source": [
    "print(np.sort(arr)[::-1], n)"
   ]
  },
  {
   "cell_type": "markdown",
   "id": "41e9fc39",
   "metadata": {},
   "source": [
    "---\n",
    "##### 2차원 배열 정렬"
   ]
  },
  {
   "cell_type": "code",
   "execution_count": 113,
   "id": "09373088",
   "metadata": {},
   "outputs": [
    {
     "name": "stdout",
     "output_type": "stream",
     "text": [
      "[[9 0 8 4]\n",
      " [4 3 3 7]\n",
      " [9 9 1 3]] \n",
      "------------------------------------------------------------------------\n",
      "\n"
     ]
    }
   ],
   "source": [
    "arr = np.random.randint(10, size=(3, 4)) # 0 이상 10 미만의 정수 난수 생성 (3행 4열)\n",
    "# 반드시 size=(행, 열) 형식으로 지정, 키워드 인자 사용해서 끝나는 인자를 지정해야 함\n",
    "print(arr, n) "
   ]
  },
  {
   "cell_type": "code",
   "execution_count": null,
   "id": "215bc1e7",
   "metadata": {},
   "outputs": [
    {
     "name": "stdout",
     "output_type": "stream",
     "text": [
      "[[9 0 8 4]\n",
      " [4 3 3 7]\n",
      " [9 9 1 3]] \n",
      "------------------------------------------------------------------------\n",
      "\n",
      "[[0 4 8 9]\n",
      " [3 3 4 7]\n",
      " [1 3 9 9]] \n",
      "------------------------------------------------------------------------\n",
      "\n",
      "[[4 0 1 3]\n",
      " [9 3 3 4]\n",
      " [9 9 8 7]] \n",
      "------------------------------------------------------------------------\n",
      "\n",
      "[[0 4 8 9]\n",
      " [3 3 4 7]\n",
      " [1 3 9 9]] \n",
      "------------------------------------------------------------------------\n",
      "\n"
     ]
    }
   ],
   "source": [
    "print(arr, n)\n",
    "print(np.sort(arr), n) # 기본적으로 열 기준 정렬, axis=1\n",
    "print(np.sort(arr, axis=0), n) # 행 기준 정렬 (같은 열 안에서 정렬)\n",
    "print(np.sort(arr, axis=1), n) # 열 기준 정렬 (같은 행 안에서 정렬)"
   ]
  },
  {
   "cell_type": "code",
   "execution_count": 130,
   "id": "cdd8c80e",
   "metadata": {},
   "outputs": [
    {
     "name": "stdout",
     "output_type": "stream",
     "text": [
      "[0 1 3 3 3 4 4 7 8 9 9 9]\n",
      "(12,) \n",
      "------------------------------------------------------------------------\n",
      "\n"
     ]
    }
   ],
   "source": [
    "print(np.sort(arr, axis=None)) # axis=None : 축 무시 (행/열 구분없이 모든 값 정렬)\n",
    "print(np.sort(arr, axis=None).shape, n)"
   ]
  },
  {
   "cell_type": "markdown",
   "id": "4cfb36b8",
   "metadata": {},
   "source": [
    "- np.argsort()\n",
    "- 배열의 값을 정렬했을 때, 각 값의 원래 인덱스를 반환\n",
    "- 정렬할 때 어떤 순서로 값을 배치해야 하는지 알려주는 인덱스를 반환\n",
    "- 배열의 값을 정렬한 후, 정렬된 순서에 해당하는 인덱스를 반환환"
   ]
  },
  {
   "cell_type": "code",
   "execution_count": null,
   "id": "87193536",
   "metadata": {},
   "outputs": [
    {
     "name": "stdout",
     "output_type": "stream",
     "text": [
      "[100 200 300 400] \n",
      "------------------------------------------------------------------------\n",
      "\n",
      "[0 2 3 1] \n",
      "------------------------------------------------------------------------\n",
      "\n",
      "[100 200 300 400] \n",
      "------------------------------------------------------------------------\n",
      "\n"
     ]
    }
   ],
   "source": [
    "arr = np.array([100, 400, 200, 300]) # 0 : 100, 1 : 400, 2 : 200, 3 : 300\n",
    "print(np.sort(arr), n)\n",
    "print(np.argsort(arr), n) # 정렬된 배열의 인덱스 반환, 원본 배열의 순서 유지\n",
    "print(arr[np.argsort(arr)], n) # 정렬된 배열의 인덱스 반환, 원본 배열의 순서 유지\n",
    "# indices -> 팬시 인덱싱로 원본 배열 순서로 재배치"
   ]
  },
  {
   "cell_type": "code",
   "execution_count": 141,
   "id": "e01cd13c",
   "metadata": {},
   "outputs": [
    {
     "name": "stdout",
     "output_type": "stream",
     "text": [
      "[1000  900  870  670] \n",
      "------------------------------------------------------------------------\n",
      "\n",
      "[2 0 1 3] \n",
      "------------------------------------------------------------------------\n",
      "\n",
      "['제니' '리사' '로제' '지수'] \n",
      "------------------------------------------------------------------------\n",
      "\n",
      "['제니' '리사' '로제' '지수'] \n",
      "------------------------------------------------------------------------\n",
      "\n"
     ]
    }
   ],
   "source": [
    "names = np.array(['리사', '로제', '제니', '지수'])\n",
    "# 0 : 리사, 1 : 제니, 2 : 로제, 3 : 지수\n",
    "album_sales = np.array([900, 870, 1000, 670])\n",
    "\n",
    "# 두 배열을 병합하지 않고 앨범 판매량 순위 출력\n",
    "\n",
    "print(np.sort(album_sales)[::-1], n) # 앨범 판매량 정렬\n",
    "print(np.argsort(album_sales)[::-1], n) # 앨범 판매량 순위 인덱스 반환\n",
    "sales_desc = np.argsort(album_sales)[::-1]\n",
    "\n",
    "print(names[np.argsort(album_sales)[::-1]], n) # 앨범 판매량 순위 인덱스 반환\n",
    "print(names[sales_desc], n)"
   ]
  },
  {
   "cell_type": "code",
   "execution_count": null,
   "id": "43b13cbe",
   "metadata": {},
   "outputs": [
    {
     "name": "stdout",
     "output_type": "stream",
     "text": [
      "[[2025    9    8]\n",
      " [  17   30   40]] \n",
      "------------------------------------------------------------------------\n",
      "\n",
      "[[2 1 0]\n",
      " [0 1 2]] \n",
      "------------------------------------------------------------------------\n",
      "\n",
      "[[1 0 0]\n",
      " [0 1 1]] \n",
      "------------------------------------------------------------------------\n",
      "\n",
      "[[2 1 0]\n",
      " [0 1 2]] \n",
      "------------------------------------------------------------------------\n",
      "\n",
      "[2 1 3 4 5 0] \n",
      "------------------------------------------------------------------------\n",
      "\n"
     ]
    },
    {
     "ename": "IndexError",
     "evalue": "index 2 is out of bounds for axis 0 with size 2",
     "output_type": "error",
     "traceback": [
      "\u001b[31m---------------------------------------------------------------------------\u001b[39m",
      "\u001b[31mIndexError\u001b[39m                                Traceback (most recent call last)",
      "\u001b[36mCell\u001b[39m\u001b[36m \u001b[39m\u001b[32mIn[146]\u001b[39m\u001b[32m, line 10\u001b[39m\n\u001b[32m      7\u001b[39m \u001b[38;5;28mprint\u001b[39m(np.argsort(arr, axis=\u001b[38;5;28;01mNone\u001b[39;00m), n) \u001b[38;5;66;03m# 축 무시\u001b[39;00m\n\u001b[32m      9\u001b[39m now_time_arr = np.argsort(arr, axis=\u001b[38;5;28;01mNone\u001b[39;00m)\n\u001b[32m---> \u001b[39m\u001b[32m10\u001b[39m \u001b[38;5;28mprint\u001b[39m(\u001b[43marr\u001b[49m\u001b[43m[\u001b[49m\u001b[43mnow_time_arr\u001b[49m\u001b[43m]\u001b[49m, n)\n",
      "\u001b[31mIndexError\u001b[39m: index 2 is out of bounds for axis 0 with size 2"
     ]
    }
   ],
   "source": [
    "# 2차원 배열에서 argsort() 사용\n",
    "arr = np.array([[2025, 9, 8], [17, 30, 40]])\n",
    "print(arr, n)\n",
    "print(np.argsort(arr), n)\n",
    "print(np.argsort(arr, axis=0), n) # 행 기준 정렬\n",
    "print(np.argsort(arr, axis=1), n) # 열 기준 정렬\n",
    "print(np.argsort(arr, axis=None), n) # 축 무시\n"
   ]
  },
  {
   "cell_type": "code",
   "execution_count": null,
   "id": "04d2522b",
   "metadata": {},
   "outputs": [],
   "source": []
  }
 ],
 "metadata": {
  "kernelspec": {
   "display_name": "pystudy_env",
   "language": "python",
   "name": "python3"
  },
  "language_info": {
   "codemirror_mode": {
    "name": "ipython",
    "version": 3
   },
   "file_extension": ".py",
   "mimetype": "text/x-python",
   "name": "python",
   "nbconvert_exporter": "python",
   "pygments_lexer": "ipython3",
   "version": "3.12.11"
  }
 },
 "nbformat": 4,
 "nbformat_minor": 5
}
