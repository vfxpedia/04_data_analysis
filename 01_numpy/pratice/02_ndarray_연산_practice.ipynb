{
 "cells": [
  {
   "cell_type": "code",
   "execution_count": 2,
   "id": "e0da29d4",
   "metadata": {},
   "outputs": [],
   "source": [
    "import numpy as np"
   ]
  },
  {
   "cell_type": "code",
   "execution_count": 4,
   "id": "4b65bdb0",
   "metadata": {},
   "outputs": [],
   "source": [
    "n = \"\\n-----------------------------------------------\\n\""
   ]
  },
  {
   "cell_type": "markdown",
   "id": "3f879f0f",
   "metadata": {},
   "source": [
    "### **[실습] 데이터를 기반으로 배열 연산 수행**\n",
    "\n",
    "다음과 같은 과일 판매량 데이터가 있습니다. 각 과일의 1분기와 2분기 판매량이 주어졌을 때, NumPy 배열을 사용하여 아래 문제를 해결하세요.\n",
    "\n",
    "1. 1분기와 2분기의 과일별 총 판매량을 구하세요.\n",
    "2. 과일별 평균 판매량을 구하세요.\n",
    "\n",
    "- **데이터**:\n",
    "    - 1분기 판매량: `[200, 340, 150, 400]` (사과, 배, 오렌지, 바나나)\n",
    "    - 2분기 판매량: `[220, 300, 180, 420]` (사과, 배, 오렌지, 바나나)\n"
   ]
  },
  {
   "cell_type": "code",
   "execution_count": 7,
   "id": "5f57de57",
   "metadata": {},
   "outputs": [
    {
     "name": "stdout",
     "output_type": "stream",
     "text": [
      "1, 2분기 총 판매량 :  [420 640 330 820] \n",
      "-----------------------------------------------\n",
      "\n",
      "과일 별 평균 판매량 : [210 320 165 410] \n",
      "-----------------------------------------------\n",
      "\n"
     ]
    }
   ],
   "source": [
    "sales_q1 = np.array([200, 340, 150, 400])\n",
    "sales_q2 = np.array([220, 300, 180, 420])\n",
    "sales_total = np.add(sales_q1, sales_q2)\n",
    "sales_avg = np.divide(sales_total, 2) # 평균 판매량, float 타입으로 반환\n",
    "\n",
    "print(\"1, 2분기 총 판매량 : \", sales_total, n)\n",
    "print(\"과일 별 평균 판매량 :\", sales_avg.astype(int), n)\n"
   ]
  },
  {
   "cell_type": "markdown",
   "id": "f72ae176",
   "metadata": {},
   "source": [
    "### **[실습 1] 기본 산술 연산**\n",
    "\n",
    "\n",
    "다음 두 배열을 사용하여 각각의 요소별로 덧셈, 뺄셈, 곱셈, 나눗셈을 수행하세요.\n",
    "\n",
    "\n",
    "```python\n",
    "arr1 = np.array([10, 20, 30, 40])\n",
    "arr2 = np.array([1, 2, 3, 4])\n",
    "```"
   ]
  },
  {
   "cell_type": "code",
   "execution_count": null,
   "id": "9172a4e0",
   "metadata": {},
   "outputs": [
    {
     "name": "stdout",
     "output_type": "stream",
     "text": [
      "덧셈 :  [11 22 33 44] \n",
      "--------------------------------\n",
      "\n",
      "뺄셈 :  [ 9 18 27 36] \n",
      "--------------------------------\n",
      "\n",
      "곱셈 :  [ 10  40  90 160] \n",
      "--------------------------------\n",
      "\n",
      "나눗셈 :  [10. 10. 10. 10.] \n",
      "--------------------------------\n",
      "\n"
     ]
    }
   ],
   "source": [
    "arr1 = np.array([10, 20, 30, 40])\n",
    "arr2 = np.array([1, 2, 3, 4])\n",
    "\n",
    "arr_add = np.add(arr1, arr2)\n",
    "arr_sub = np.subtract(arr1, arr2)\n",
    "arr_mul = np.multiply(arr1, arr2)\n",
    "arr_div = np.divide(arr1, arr2)\n",
    "\n",
    "print(\"덧셈 : \", arr_add, n)\n",
    "print(\"뺄셈 : \", arr_sub, n)\n",
    "print(\"곱셈 : \", arr_mul, n)\n",
    "print(\"나눗셈 : \", arr_div, n)\n",
    "\n",
    "\n"
   ]
  },
  {
   "cell_type": "markdown",
   "id": "595722f5",
   "metadata": {},
   "source": [
    "### [**실습 2] Dot Product**\n",
    "\n",
    "다음 두 배열 간의 내적 연산을 수행하세요.\n",
    "\n",
    "```python\n",
    "arr1 = np.array([1, 2, 3])\n",
    "arr2 = np.array([4, 5, 6])\n",
    "```"
   ]
  },
  {
   "cell_type": "code",
   "execution_count": null,
   "id": "9f941944",
   "metadata": {},
   "outputs": [
    {
     "name": "stdout",
     "output_type": "stream",
     "text": [
      "32 \n",
      "-----------------------------------------------\n",
      "\n",
      "32 \n",
      "-----------------------------------------------\n",
      "\n",
      "32 \n",
      "-----------------------------------------------\n",
      "\n"
     ]
    }
   ],
   "source": [
    "arr1 = np.array([1, 2, 3]) # shape (3, )\n",
    "arr2 = np.array([4, 5, 6]) # shape (3, )\n",
    "# 1*4 + 2*5 + 3*6 = 4 + 10 + 18 = 32\n",
    "\n",
    "dot_product = np.dot(arr1, arr2)\n",
    "matmul = np.matmul(arr1, arr2)\n",
    "dot_product2 = arr1 @ arr2\n",
    "\n",
    "print(dot_product, n)\n",
    "print(matmul, n)\n",
    "print(dot_product2, n)\n"
   ]
  },
  {
   "cell_type": "markdown",
   "id": "811bf774",
   "metadata": {},
   "source": [
    "### [**실습 3] 브로드캐스팅**\n",
    "\n",
    "아래의 2차원 배열과 1차원 배열을 브로드캐스팅하여 더하세요.\n",
    "\n",
    "```python\n",
    "arr2d = np.array([[1, 2, 3], [4, 5, 6]])\n",
    "arr1d = np.array([10, 20, 30])\n",
    "```"
   ]
  },
  {
   "cell_type": "code",
   "execution_count": null,
   "id": "8765cfab",
   "metadata": {},
   "outputs": [],
   "source": [
    "arr2d = np.array([[1, 2, 3], [4, 5, 6]]) # shape (2, 3)\n",
    "arr1d = np.array([10, 20, 30]) # shape (3, ) -> (1, 3) -> (2, 3)\n",
    "#                [[10 20 30],\n",
    "#                 [10 20 30]]\n",
    "\n",
    "add_result = np.add(arr2d, arr1d)\n",
    "\n",
    "print(add_result, n) # [[11 22 33],\n",
    "                     #  [14 25 36]]\n",
    "\n",
    "# TTS, Audio Engineering, \n",
    "\n"
   ]
  }
 ],
 "metadata": {
  "kernelspec": {
   "display_name": "pystudy_env",
   "language": "python",
   "name": "python3"
  },
  "language_info": {
   "codemirror_mode": {
    "name": "ipython",
    "version": 3
   },
   "file_extension": ".py",
   "mimetype": "text/x-python",
   "name": "python",
   "nbconvert_exporter": "python",
   "pygments_lexer": "ipython3",
   "version": "3.12.11"
  }
 },
 "nbformat": 4,
 "nbformat_minor": 5
}
