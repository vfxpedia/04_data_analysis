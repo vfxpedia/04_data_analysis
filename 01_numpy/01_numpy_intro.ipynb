{
 "cells": [
  {
   "cell_type": "markdown",
   "id": "e73e0ed3",
   "metadata": {},
   "source": [
    "# Data Science\n",
    "- 방대한 양의 데이터를 수집, 분성, 시각화하여 유의미한 정보를 추출하는 것\n",
    "- 파이썬 패키지로는 numpy, pandas, matplotlib, seaborn 등이 주로 사용됨"
   ]
  },
  {
   "cell_type": "markdown",
   "id": "10223743",
   "metadata": {},
   "source": [
    "---"
   ]
  },
  {
   "cell_type": "markdown",
   "id": "7610eade",
   "metadata": {},
   "source": [
    "# Numpy\n",
    "- 대규모의 다차원 배열, 수치 연산을 지원하는 라이브러리리"
   ]
  },
  {
   "cell_type": "code",
   "execution_count": 26,
   "id": "aea50f83",
   "metadata": {},
   "outputs": [
    {
     "name": "stdout",
     "output_type": "stream",
     "text": [
      "Requirement already satisfied: numpy in c:\\users\\playdata\\anaconda3\\envs\\pystudy_env\\lib\\site-packages (2.3.2)\n"
     ]
    }
   ],
   "source": [
    "!pip install numpy"
   ]
  },
  {
   "cell_type": "code",
   "execution_count": 27,
   "id": "1b64d270",
   "metadata": {},
   "outputs": [
    {
     "name": "stdout",
     "output_type": "stream",
     "text": [
      "Package                   Version\n",
      "------------------------- --------------\n",
      "altair                    5.5.0\n",
      "anyio                     4.10.0\n",
      "argon2-cffi               25.1.0\n",
      "argon2-cffi-bindings      25.1.0\n",
      "arrow                     1.3.0\n",
      "asttokens                 3.0.0\n",
      "async-lru                 2.0.5\n",
      "attrs                     25.3.0\n",
      "babel                     2.17.0\n",
      "beautifulsoup4            4.13.4\n",
      "bleach                    6.2.0\n",
      "blinker                   1.9.0\n",
      "branca                    0.8.1\n",
      "cachetools                6.2.0\n",
      "certifi                   2025.8.3\n",
      "cffi                      1.17.1\n",
      "charset-normalizer        3.4.3\n",
      "click                     8.2.1\n",
      "colorama                  0.4.6\n",
      "comm                      0.2.3\n",
      "contourpy                 1.3.3\n",
      "cycler                    0.12.1\n",
      "debugpy                   1.8.16\n",
      "decorator                 5.2.1\n",
      "defusedxml                0.7.1\n",
      "et_xmlfile                2.0.0\n",
      "executing                 2.2.0\n",
      "fastjsonschema            2.21.2\n",
      "folium                    0.20.0\n",
      "fonttools                 4.59.1\n",
      "fqdn                      1.5.1\n",
      "gitdb                     4.0.12\n",
      "GitPython                 3.1.45\n",
      "greenlet                  3.2.4\n",
      "h11                       0.16.0\n",
      "httpcore                  1.0.9\n",
      "httpx                     0.28.1\n",
      "idna                      3.10\n",
      "ipykernel                 6.30.1\n",
      "ipython                   9.4.0\n",
      "ipython_pygments_lexers   1.1.1\n",
      "ipywidgets                8.1.7\n",
      "isoduration               20.11.0\n",
      "jedi                      0.19.2\n",
      "Jinja2                    3.1.6\n",
      "json5                     0.12.1\n",
      "jsonpointer               3.0.0\n",
      "jsonschema                4.25.0\n",
      "jsonschema-specifications 2025.4.1\n",
      "jupyter                   1.1.1\n",
      "jupyter_client            8.6.3\n",
      "jupyter-console           6.6.3\n",
      "jupyter_core              5.8.1\n",
      "jupyter-events            0.12.0\n",
      "jupyter-lsp               2.2.6\n",
      "jupyter_server            2.16.0\n",
      "jupyter_server_terminals  0.5.3\n",
      "jupyterlab                4.4.6\n",
      "jupyterlab_pygments       0.3.0\n",
      "jupyterlab_server         2.27.3\n",
      "jupyterlab_widgets        3.0.15\n",
      "kiwisolver                1.4.9\n",
      "lark                      1.2.2\n",
      "MarkupSafe                3.0.2\n",
      "matplotlib                3.10.5\n",
      "matplotlib-inline         0.1.7\n",
      "mistune                   3.1.3\n",
      "mysql-connector-python    9.4.0\n",
      "narwhals                  2.2.0\n",
      "nbclient                  0.10.2\n",
      "nbconvert                 7.16.6\n",
      "nbformat                  5.10.4\n",
      "nest-asyncio              1.6.0\n",
      "notebook                  7.4.5\n",
      "notebook_shim             0.2.4\n",
      "npm                       0.1.1\n",
      "numpy                     2.3.2\n",
      "openpyxl                  3.1.5\n",
      "optional-django           0.1.0\n",
      "outcome                   1.3.0.post0\n",
      "overrides                 7.7.0\n",
      "packaging                 25.0\n",
      "pandas                    2.3.2\n",
      "pandocfilters             1.5.1\n",
      "parso                     0.8.4\n",
      "pillow                    11.3.0\n",
      "pip                       25.1\n",
      "platformdirs              4.3.8\n",
      "plotly                    6.3.0\n",
      "prometheus_client         0.22.1\n",
      "prompt_toolkit            3.0.51\n",
      "protobuf                  6.32.0\n",
      "psutil                    7.0.0\n",
      "pure_eval                 0.2.3\n",
      "pyarrow                   21.0.0\n",
      "pycparser                 2.22\n",
      "pydeck                    0.9.1\n",
      "Pygments                  2.19.2\n",
      "PyMySQL                   1.1.2\n",
      "pyparsing                 3.2.3\n",
      "PySocks                   1.7.1\n",
      "python-dateutil           2.9.0.post0\n",
      "python-dotenv             1.1.1\n",
      "python-json-logger        3.3.0\n",
      "pytz                      2025.2\n",
      "pywin32                   311\n",
      "pywinpty                  3.0.0\n",
      "PyYAML                    6.0.2\n",
      "pyzmq                     27.0.1\n",
      "referencing               0.36.2\n",
      "requests                  2.32.4\n",
      "rfc3339-validator         0.1.4\n",
      "rfc3986-validator         0.1.1\n",
      "rfc3987-syntax            1.1.0\n",
      "rpds-py                   0.27.0\n",
      "selenium                  4.35.0\n",
      "Send2Trash                1.8.3\n",
      "setuptools                78.1.1\n",
      "six                       1.17.0\n",
      "smmap                     5.0.2\n",
      "sniffio                   1.3.1\n",
      "sortedcontainers          2.4.0\n",
      "soupsieve                 2.7\n",
      "SQLAlchemy                2.0.43\n",
      "stack-data                0.6.3\n",
      "streamlit                 1.48.1\n",
      "streamlit-folium          0.25.1\n",
      "tenacity                  9.1.2\n",
      "terminado                 0.18.1\n",
      "tinycss2                  1.4.0\n",
      "toml                      0.10.2\n",
      "tornado                   6.5.2\n",
      "traitlets                 5.14.3\n",
      "trio                      0.30.0\n",
      "trio-websocket            0.12.2\n",
      "types-python-dateutil     2.9.0.20250809\n",
      "typing_extensions         4.14.1\n",
      "tzdata                    2025.2\n",
      "uri-template              1.3.0\n",
      "urllib3                   2.5.0\n",
      "watchdog                  6.0.0\n",
      "wcwidth                   0.2.13\n",
      "webcolors                 24.11.1\n",
      "webencodings              0.5.1\n",
      "websocket-client          1.8.0\n",
      "wheel                     0.45.1\n",
      "widgetsnbextension        4.0.14\n",
      "wsproto                   1.2.0\n",
      "xyzservices               2025.4.0\n"
     ]
    }
   ],
   "source": [
    "!pip list"
   ]
  },
  {
   "cell_type": "markdown",
   "id": "d8b8923c",
   "metadata": {},
   "source": [
    "---"
   ]
  },
  {
   "cell_type": "markdown",
   "id": "883f2614",
   "metadata": {},
   "source": [
    "### ndarray 다차원 배열 생성"
   ]
  },
  {
   "cell_type": "code",
   "execution_count": 1,
   "id": "37cc76ac",
   "metadata": {},
   "outputs": [],
   "source": [
    "import numpy as np"
   ]
  },
  {
   "cell_type": "code",
   "execution_count": 29,
   "id": "5a5b8b5e",
   "metadata": {},
   "outputs": [
    {
     "name": "stdout",
     "output_type": "stream",
     "text": [
      "[[10 20]\n",
      " [30 40]] <class 'numpy.ndarray'>\n"
     ]
    },
    {
     "ename": "NameError",
     "evalue": "name 'today_arr1d' is not defined",
     "output_type": "error",
     "traceback": [
      "\u001b[31m---------------------------------------------------------------------------\u001b[39m",
      "\u001b[31mNameError\u001b[39m                                 Traceback (most recent call last)",
      "\u001b[36mCell\u001b[39m\u001b[36m \u001b[39m\u001b[32mIn[29]\u001b[39m\u001b[32m, line 7\u001b[39m\n\u001b[32m      5\u001b[39m \u001b[38;5;28mprint\u001b[39m(arr, \u001b[38;5;28mtype\u001b[39m(arr)) \u001b[38;5;66;03m# 배열 형태로 출력 ndarray -> number dimension array\u001b[39;00m\n\u001b[32m      6\u001b[39m                       \u001b[38;5;66;03m# 배열의 요소는 모두 같은 자료형이어야 함, Tab 공백으로 구분\u001b[39;00m\n\u001b[32m----> \u001b[39m\u001b[32m7\u001b[39m \u001b[38;5;28mprint\u001b[39m(\u001b[43mtoday_arr1d\u001b[49m, \u001b[38;5;28mtype\u001b[39m(today_arr1d)) \u001b[38;5;66;03m# 리스트 형태로 출력, 여러 요소를 , 구분자로 구분\u001b[39;00m\n\u001b[32m      9\u001b[39m \u001b[38;5;66;03m# 2차원 배열\u001b[39;00m\n\u001b[32m     10\u001b[39m arr2d = np.array([[\u001b[32m1\u001b[39m, \u001b[32m2\u001b[39m, \u001b[32m3\u001b[39m], [\u001b[32m4\u001b[39m, \u001b[32m5\u001b[39m, \u001b[32m6\u001b[39m]])\n",
      "\u001b[31mNameError\u001b[39m: name 'today_arr1d' is not defined"
     ]
    }
   ],
   "source": [
    "# 1차원 배열\n",
    "arr1d = np.array([2025, 9, 5, 11, 20])\n",
    "today_arr = [2025, 9, 5, 11, 20]\n",
    "\n",
    "print(arr, type(arr)) # 배열 형태로 출력 ndarray -> number dimension array\n",
    "                      # 배열의 요소는 모두 같은 자료형이어야 함, Tab 공백으로 구분\n",
    "print(today_arr1d, type(today_arr1d)) # 리스트 형태로 출력, 여러 요소를 , 구분자로 구분\n",
    "\n",
    "# 2차원 배열\n",
    "arr2d = np.array([[1, 2, 3], [4, 5, 6]])\n",
    "print(arr2d, type(arr2d))\n"
   ]
  },
  {
   "cell_type": "code",
   "execution_count": null,
   "id": "e1838ce7",
   "metadata": {},
   "outputs": [
    {
     "name": "stdout",
     "output_type": "stream",
     "text": [
      "[1 2 3 4 5] <class 'numpy.ndarray'>\n",
      "[1 2 3 4 5] <class 'numpy.ndarray'>\n",
      "[0 1 2 3 4 5 6 7 8 9] <class 'numpy.ndarray'>\n",
      "Hello, World! <class 'numpy.ndarray'>\n"
     ]
    }
   ],
   "source": [
    "arr = np.array((1, 2, 3, 4, 5))\n",
    "print(arr, type(arr))\n",
    "\n",
    "arr = np.array([1, 2, 3, 4, 5])\n",
    "print(arr, type(arr))\n",
    "\n",
    "# 인자로 list, tuple, dict, set 등의 자료형을 사용할 수 있음\n",
    "arr = np.array(range(10))\n",
    "print(arr, type(arr))\n",
    "\n",
    "# 인자로 문자열을 사용할 수 있음\n",
    "arr = np.array(\"Hello, World!\")\n",
    "print(arr, type(arr))\n"
   ]
  },
  {
   "cell_type": "code",
   "execution_count": null,
   "id": "69b58eef",
   "metadata": {},
   "outputs": [
    {
     "name": "stdout",
     "output_type": "stream",
     "text": [
      "(5,)\n",
      "1\n",
      "5\n",
      "int64\n",
      "8\n",
      "40\n"
     ]
    }
   ],
   "source": [
    "arr = np.array([2025, 9, 5, 11, 20])\n",
    "\n",
    "# 1차원 배열\n",
    "# ndarray 속성\n",
    "print(arr.shape)    # 형태 tuple 형태로 반환 (1차원 배열의 경우 요소 개수만을 반환)\n",
    "                    # 1차원 배열일 경우 (5,) -> 뒤에 , 가 붙는 이유는 1차원 배열이기 때문\n",
    "print(arr.ndim)     # 차원 수, 깊이 반환\n",
    "print(arr.size)     # 요소 개수 반환\n",
    "print(arr.dtype)    # 요소 자료형 반환\n",
    "print(arr.itemsize) # 요소 크기 반환\n",
    "print(arr.nbytes)   # 배열 전체 크기 반환"
   ]
  },
  {
   "cell_type": "code",
   "execution_count": null,
   "id": "1f9d5cf5",
   "metadata": {},
   "outputs": [
    {
     "name": "stdout",
     "output_type": "stream",
     "text": [
      "[[1 2 3]\n",
      " [4 5 6]]\n",
      "[[1, 2, 3], [4, 5, 6]]\n",
      "<class 'list'>\n",
      "--------------------------------\n",
      "(2, 3)\n",
      "2\n",
      "6\n",
      "int64\n",
      "8\n",
      "48\n",
      "2\n"
     ]
    }
   ],
   "source": [
    "arr_2d = np.array([[1, 2, 3], [4, 5, 6]])\n",
    "print(arr_2d)\n",
    "print([[1, 2, 3], [4, 5, 6]])\n",
    "print(type([[1, 2, 3], [4, 5, 6]]))\n",
    "print(\"--------------------------------\")\n",
    "print(arr_2d.shape)    # 형태 tuple 형태로 반환 (행, 열) # 2차원 배열일 경우 (2, 3)\n",
    "print(arr_2d.ndim)     # 차원 수, 깊이 반환\n",
    "print(arr_2d.size)     # 요소 개수 반환 -> 행 * 열 6 출력\n",
    "print(arr_2d.dtype)    # 요소 자료형 반환 -> int64 출력, 64비트 정수형\n",
    "print(arr_2d.itemsize) # 요소 크기 반환 -> 8 출력, 4바이트 정수형, (8byte = 1bit)\n",
    "print(arr_2d.nbytes)   # 배열 전체 크기 반환\n",
    "\n",
    "index_result = arr_2d[0, 1] # 0행 1열 요소 반환\n",
    "print(index_result)\n",
    "\n"
   ]
  },
  {
   "cell_type": "code",
   "execution_count": null,
   "id": "2dabaca0",
   "metadata": {},
   "outputs": [
    {
     "name": "stdout",
     "output_type": "stream",
     "text": [
      "int64\n",
      "float64\n",
      "bool\n",
      "<U9\n",
      "[ 1.234  3.456  9.876 10.   ]\n"
     ]
    }
   ],
   "source": [
    "arr_int = np.array([2025, 9, 5])\n",
    "print(arr_int.dtype) # int64(8byte)\n",
    "\n",
    "arr_float = np.array([1.234, 3.456, 9.876, 10], dtype=float) # 10은 10.0으로 저장\n",
    "print(arr_float.dtype) # float64 \n",
    "\n",
    "arr_bool = np.array([True, False, True], dtype=bool)\n",
    "print(arr_bool.dtype) # bool\n",
    "\n",
    "arr_str = np.array([\"Hello\", \"World\", \"numpy-lib\", \"great\"], dtype=str)\n",
    "print(arr_str.dtype) # <U9 -> 9개의 문자열 배열 : 유니코드 9글자까지 저장 가능한 문자열\n",
    "\n",
    "print(arr_float)\n",
    "\n"
   ]
  },
  {
   "cell_type": "code",
   "execution_count": null,
   "id": "7c221d47",
   "metadata": {},
   "outputs": [
    {
     "name": "stdout",
     "output_type": "stream",
     "text": [
      "['1.234' '3.456' '9.876' '9' '10']\n",
      "[ 1  3  9  9 10]\n",
      "['1.234' '3.456' '9.876' '9' '10']\n",
      "--------------------------------\n",
      "[ 1.234  3.456  9.876  9.    10.   ] <class 'numpy.ndarray'> float64\n",
      "[ 1.234  3.456  9.876  9.    10.   ] <class 'numpy.ndarray'> float64\n",
      "[ 1  3  9  9 10] <class 'numpy.ndarray'> int64\n",
      "['1.234' '3.456' '9.876' '9' '10'] <class 'numpy.ndarray'> <U5\n",
      "['1.234' '3.456' '9.876' '9' '10'] <class 'numpy.ndarray'> <U5\n"
     ]
    }
   ],
   "source": [
    "# 형변환\n",
    "arr1 = np.array([1.234, 3.456, 9.876, 9, 10])\n",
    "arr2 = np.array([1.234, 3.456, 9.876, 9, 10], dtype=float)\n",
    "arr3 = np.array([1.234, 3.456, 9.876, 9, 10], dtype=int)\n",
    "arr4 = np.array([1.234, 3.456, 9.876, 9, 10], dtype=str)\n",
    "arr5 = arr4\n",
    "print(arr5)\n",
    "# arr5는 문자열(str) 타입의 numpy 배열입니다. \n",
    "# 이 배열을 astype(int)로 정수형으로 변환하려고 하면,\n",
    "# 문자열 원소 중 '1.234'와 같이 소수점이 포함된 문자열은 정수로 바로 변환할 수 없기 때문에\n",
    "# ValueError가 발생합니다.\n",
    "# 예를 들어, int('1.234')는 파이썬에서 허용되지 않습니다.\n",
    "# \n",
    "# astype() 함수는 새로운 배열을 반환하며, 원본 배열(arr5)은 변하지 않습니다.\n",
    "# 이런 방식을 out-of-place(아웃 오브 플레이스) 변환이라고 하며,\n",
    "# 원본 배열 자체를 변경하는 in-place(인플레이스) 변환과는 다릅니다.\n",
    "# numpy에서 astype()은 항상 새로운 배열을 반환하므로, 원본 배열은 그대로 유지됩니다.\n",
    "# \n",
    "# 만약 문자열 배열을 정수형으로 변환하려면, 먼저 실수(float)로 변환한 뒤 정수로 변환해야 합니다.\n",
    "# 예시:\n",
    "arr6 = arr5.astype(float).astype(int)\n",
    "print(arr6)\n",
    "print(arr5)\n",
    "print(\"--------------------------------\")\n",
    "\n",
    "print(arr1, type(arr1), arr1.dtype)\n",
    "print(arr2, type(arr2), arr2.dtype)\n",
    "print(arr3, type(arr3), arr3.dtype)\n",
    "print(arr4, type(arr4), arr4.dtype)\n",
    "print(arr5, type(arr5), arr5.dtype)"
   ]
  },
  {
   "cell_type": "markdown",
   "id": "b8661118",
   "metadata": {},
   "source": [
    "##### Python list와 ndarray의 차이\n",
    "- ndarray는 동일한 자료형만 저장 가능\n",
    "- ndarry는 다차원인 경우, 중첩 배열은 동일한 크기만 허용\n",
    "- 형태/길이를 확인하는 방법의 차이\n",
    "    - Python list : len()\n",
    "    - ndarray: ndarray.shape, ndarray.ndim, ndarray.size"
   ]
  },
  {
   "cell_type": "code",
   "execution_count": null,
   "id": "a256a615",
   "metadata": {},
   "outputs": [
    {
     "name": "stdout",
     "output_type": "stream",
     "text": [
      "[2025, 9, 5, 'numpy', True]\n",
      "[[1, 2, 3], [4, 5], [6]]\n",
      "3\n",
      "[1, 2, 3]\n",
      "--------------------------------\n",
      "[1, 2, 3, 4, 5, 6]\n",
      "6\n",
      "1\n"
     ]
    }
   ],
   "source": [
    "my_list = [2025, 9, 5, 'numpy', True]\n",
    "print(my_list) # [2025, 9, 5, 'numpy', True]\n",
    "# 파이썬 리스트는 다양한 자료형을 혼합해서 저장할 수 있음\n",
    "\n",
    "my_list = [[1, 2, 3], [4, 5], [6]]\n",
    "my_list2= [1, 2, 3, 4, 5, 6]\n",
    "print(my_list) # [[1, 2, 3], [4, 5], [6]]\n",
    "print(len(my_list)) # 3\n",
    "print(my_list[0]) # [1, 2, 3]\n",
    "print(\"--------------------------------\")\n",
    "print(my_list2) # [1, 2, 3, 4, 5, 6]\n",
    "print(len(my_list2)) # 6\n",
    "print(my_list2[0]) # 1\n"
   ]
  },
  {
   "cell_type": "code",
   "execution_count": null,
   "id": "d6ec4181",
   "metadata": {},
   "outputs": [
    {
     "name": "stdout",
     "output_type": "stream",
     "text": [
      "[['1' '2' '3']\n",
      " ['4' '5' '']\n",
      " ['6' '' '']]\n",
      "(3, 3)\n",
      "[[ 1.  2.  3.]\n",
      " [ 4.  5. nan]\n",
      " [ 6. nan nan]]\n",
      "(3, 3)\n",
      "['2025' '9' '5' 'numpy' 'True']\n",
      "(5,)\n",
      "1\n",
      "5\n",
      "<U21\n",
      "84\n",
      "420\n"
     ]
    }
   ],
   "source": [
    "arr = np.array([2025, 9, 5, 'numpy', True])\n",
    "# arr = np.array([[1, 2, 3], [4, 5], [6]]) # 중첩 배열은 동일한 크기만 허용\n",
    "# ValueError: setting an array element with a sequence. The requested array has an inhomogeneous shape after 1 dimensions.\n",
    "# 3x3 행렬로 만들고, 값이 없는 곳은 빈 값('') 또는 np.nan 등으로 채울 수 있습니다.\n",
    "# 예시 1: 빈 문자열로 채우기\n",
    "arr_3x3 = np.array([\n",
    "    [1, 2, 3],\n",
    "    [4, 5, ''],\n",
    "    [6, '', '']\n",
    "])\n",
    "print(arr_3x3)\n",
    "print(arr_3x3.shape)  # (3, 3) -> 3x3 행렬\n",
    "\n",
    "# 예시 2: np.nan으로 채우기 (실수형 배열이어야 함)\n",
    "arr_3x3_nan = np.array([\n",
    "    [1, 2, 3],\n",
    "    [4, 5, np.nan],\n",
    "    [6, np.nan, np.nan]\n",
    "], dtype=float)\n",
    "print(arr_3x3_nan)\n",
    "print(arr_3x3_nan.shape)  # (3, 3)\n",
    "\n",
    "\n",
    "\n",
    "print(arr) # ['2025' '9' '5' 'numpy' 'True'] -> 모두 문자열로 저장\n",
    "print(arr.shape) # (5,) -> 1차원 배열\n",
    "print(arr.ndim) # 1 -> 차원 수\n",
    "print(arr.size) # 5 -> 요소 개수\n",
    "print(arr.dtype) # <U21 -> 21개의 문자열 배열 : 유니코드 21글자까지 저장 가능한 문자열\n",
    "print(arr.itemsize) # 84 -> 요소 크기\n",
    "print(arr.nbytes) # 420 -> 배열 전체 크기\n"
   ]
  },
  {
   "cell_type": "markdown",
   "id": "12e733fd",
   "metadata": {},
   "source": [
    "##### 특정 수로 초기화된 ndarray 생성"
   ]
  },
  {
   "cell_type": "code",
   "execution_count": null,
   "id": "77598298",
   "metadata": {},
   "outputs": [
    {
     "name": "stdout",
     "output_type": "stream",
     "text": [
      "[[0. 0. 0.]\n",
      " [0. 0. 0.]\n",
      " [0. 0. 0.]] float64\n",
      "[[0 0 0]\n",
      " [0 0 0]\n",
      " [0 0 0]] int64\n",
      "[[1. 1.]\n",
      " [1. 1.]\n",
      " [1. 1.]\n",
      " [1. 1.]\n",
      " [1. 1.]] float64\n",
      "[[9.]\n",
      " [9.]\n",
      " [9.]\n",
      " [9.]] float64\n",
      "[7 7 7 7] int64\n"
     ]
    }
   ],
   "source": [
    "# zeros\n",
    "# arr = np.zeros()\n",
    "# TypeError: zeros() missing required argument 'shape' (pos 0)\n",
    "arr = np.zeros((3,3)) # shape 전달달\n",
    "print(arr, arr.dtype)\n",
    "arr1 = np.zeros((3,3)).astype(int)\n",
    "print(arr1, arr1.dtype)\n",
    "\n",
    "# ones\n",
    "arr = np.ones((5,2))\n",
    "print(arr, arr.dtype)\n",
    "\n",
    "# full\n",
    "# arr = np.full((4,1))\n",
    "# TypeError: full() missing 1 required positional argument: 'fill_value'\n",
    "arr = np.full((4,1),9.0) # shape, fill_value\n",
    "print(arr, arr.dtype)\n",
    "\n",
    "arr = np.full((4,),7) # shape, fill_value\n",
    "print(arr, arr.dtype)"
   ]
  },
  {
   "cell_type": "code",
   "execution_count": 49,
   "id": "e5010c96",
   "metadata": {},
   "outputs": [
    {
     "name": "stdout",
     "output_type": "stream",
     "text": [
      "(2, 2)\n",
      "[[0 0]\n",
      " [0 0]]\n",
      "[[1 1]\n",
      " [1 1]]\n",
      "[[9 9]\n",
      " [9 9]]\n"
     ]
    }
   ],
   "source": [
    "arr = np.array([[10, 20], [30, 40]])\n",
    "print(arr.shape)\n",
    "\n",
    "# 원본 ndarray 가 있을때 똑.같.은. shape colume by row 를 따와서 채워준다.\n",
    "# zeros_like\n",
    "print(np.zeros_like(arr))\n",
    "\n",
    "# ones_like\n",
    "print(np.ones_like(arr))\n",
    "\n",
    "# full_liked\n",
    "print(np.full_like(arr, 9))"
   ]
  },
  {
   "cell_type": "markdown",
   "id": "7c9ad2e0",
   "metadata": {},
   "source": [
    "#### 수열 생성\n",
    "- np.arange(start, end, step)\n",
    "    - start : 시작하는 숫자\n",
    "    - end : 끝나는 숫자 + 1\n",
    "    - step: start~end 증가하는 간격"
   ]
  },
  {
   "cell_type": "code",
   "execution_count": 50,
   "id": "65303c25",
   "metadata": {},
   "outputs": [
    {
     "name": "stdout",
     "output_type": "stream",
     "text": [
      "[1.  2.3 3.6 4.9 6.2 7.5 8.8]\n",
      "<class 'numpy.ndarray'>\n",
      "float64\n",
      "7\n",
      "(7,)\n",
      "[0 1 2 3 4 5 6 7 8 9]\n"
     ]
    }
   ],
   "source": [
    "arr = np.arange(1, 10, 1.3)\n",
    "print(arr, type(arr), arr.dtype, arr.size, arr.shape, sep=\"\\n\")\n",
    "arr = np.arange(10)\n",
    "print(arr)"
   ]
  },
  {
   "cell_type": "markdown",
   "id": "3ed791c7",
   "metadata": {},
   "source": [
    "- np.linsapce(start, end, num)\n",
    "    - start : 시작하는 숫자\n",
    "    - end : 끝나는 숫자(포함)\n",
    "    - num : 결과로 만들어진 수열의 요소 갯수\n",
    "\n",
    "    - start 이상 end 이하의 범위에서 num의 갯수 만큼 요소를 만들어라."
   ]
  },
  {
   "cell_type": "code",
   "execution_count": 51,
   "id": "9a447a6d",
   "metadata": {},
   "outputs": [
    {
     "name": "stdout",
     "output_type": "stream",
     "text": [
      "[ 0.   2.5  5.   7.5 10. ]\n",
      "[ 0.          3.33333333  6.66666667 10.        ]\n"
     ]
    }
   ],
   "source": [
    "arr = np.linspace(0, 10, 5)\n",
    "print(arr)\n",
    "\n",
    "arr = np.linspace(0, 10, 4)\n",
    "print(arr)"
   ]
  },
  {
   "cell_type": "code",
   "execution_count": 53,
   "id": "c74dc71f",
   "metadata": {},
   "outputs": [
    {
     "name": "stdout",
     "output_type": "stream",
     "text": [
      "[ 0.          0.20408163  0.40816327  0.6122449   0.81632653  1.02040816\n",
      "  1.2244898   1.42857143  1.63265306  1.83673469  2.04081633  2.24489796\n",
      "  2.44897959  2.65306122  2.85714286  3.06122449  3.26530612  3.46938776\n",
      "  3.67346939  3.87755102  4.08163265  4.28571429  4.48979592  4.69387755\n",
      "  4.89795918  5.10204082  5.30612245  5.51020408  5.71428571  5.91836735\n",
      "  6.12244898  6.32653061  6.53061224  6.73469388  6.93877551  7.14285714\n",
      "  7.34693878  7.55102041  7.75510204  7.95918367  8.16326531  8.36734694\n",
      "  8.57142857  8.7755102   8.97959184  9.18367347  9.3877551   9.59183673\n",
      "  9.79591837 10.        ]\n"
     ]
    }
   ],
   "source": [
    "arr = np.linspace(0, 10)\n",
    "print(arr) # 기본적으로 50의 num을 갖는다. 50개 요소로 나뉜다."
   ]
  },
  {
   "cell_type": "code",
   "execution_count": 54,
   "id": "8cc4b398",
   "metadata": {},
   "outputs": [
    {
     "ename": "TypeError",
     "evalue": "linspace() missing 1 required positional argument: 'stop'",
     "output_type": "error",
     "traceback": [
      "\u001b[31m---------------------------------------------------------------------------\u001b[39m",
      "\u001b[31mTypeError\u001b[39m                                 Traceback (most recent call last)",
      "\u001b[36mCell\u001b[39m\u001b[36m \u001b[39m\u001b[32mIn[54]\u001b[39m\u001b[32m, line 1\u001b[39m\n\u001b[32m----> \u001b[39m\u001b[32m1\u001b[39m arr = \u001b[43mnp\u001b[49m\u001b[43m.\u001b[49m\u001b[43mlinspace\u001b[49m\u001b[43m(\u001b[49m\u001b[32;43m10\u001b[39;49m\u001b[43m)\u001b[49m\n\u001b[32m      2\u001b[39m \u001b[38;5;28mprint\u001b[39m(arr)\n",
      "\u001b[31mTypeError\u001b[39m: linspace() missing 1 required positional argument: 'stop'"
     ]
    }
   ],
   "source": [
    "arr = np.linspace(10)\n",
    "print(arr)"
   ]
  },
  {
   "cell_type": "markdown",
   "id": "92859310",
   "metadata": {},
   "source": [
    "- np.logspace(start_exp, end_exp, num, base)\n",
    "    - start_exp: 시작 지수\n",
    "    - end_exp: 끝 지수\n",
    "    - num: 결과로 만들어진 수열의 요소 갯수\n",
    "    - base: 밑 (기본값 = 10)"
   ]
  },
  {
   "cell_type": "code",
   "execution_count": null,
   "id": "ea2e3f35",
   "metadata": {},
   "outputs": [],
   "source": [
    "# np.logspace() 함수는 로그 스케일(지수적으로 증가하는)로 숫자 배열을 생성할 때 사용합니다.\n",
    "# 예를 들어, 10^0 부터 10^3까지 4개의 값을 생성해보겠습니다.\n",
    "\n",
    "arr = np.logspace(0, 3, 4)\n",
    "print(arr)  # [   1.   10.  100. 1000.]\n",
    "\n",
    "# 위 결과는 10의 0제곱(1), 1제곱(10), 2제곱(100), 3제곱(1000)으로 이루어진 배열입니다.\n",
    "# base 파라미터를 2로 바꾸면 2의 거듭제곱 배열이 생성됩니다.\n",
    "\n",
    "arr2 = np.logspace(1, 4, 4, base=2)\n",
    "print(arr2)  # [ 2.  4.  8. 16.]\n",
    "\n",
    "# logspace는 데이터가 지수적으로 증가하거나 감소하는 경우에 유용하게 사용됩니다.\n"
   ]
  },
  {
   "cell_type": "markdown",
   "id": "4a28c83d",
   "metadata": {},
   "source": [
    "- [참고] 지수 | 로그 \n",
    "    - 지수 : 거듭제곱 $a^x=b$에서 x\n",
    "    - 밑 : 거듭제곱될 수 $a^x=b$에서 a\n",
    "    - 로그 : 밑과 거듭제곱 결과로부터 지수를 반환 $log_a{b} = x$\n",
    "    - 자연로그 : 밑이 자연상수e (2.718...)인 로그\n",
    "    - 상용로그 : 밑이 10인 로그\n"
   ]
  },
  {
   "cell_type": "code",
   "execution_count": 55,
   "id": "d82fa0c0",
   "metadata": {},
   "outputs": [
    {
     "name": "stdout",
     "output_type": "stream",
     "text": [
      "[  10.           46.41588834  215.443469   1000.        ]\n"
     ]
    }
   ],
   "source": [
    "arr = np.logspace(1, 3, 4)\n",
    "print(arr)"
   ]
  },
  {
   "cell_type": "markdown",
   "id": "54ee5d8b",
   "metadata": {},
   "source": [
    "### **[실습] 다양한 방법으로 배열 생성**\n",
    "\n",
    "<aside>\n",
    "❓\n",
    "\n",
    "NumPy를 사용하여 다음과 같은 배열을 생성해 보세요.\n",
    "\n",
    "1. 크기가 4x3인 모든 값이 0인 배열\n",
    "2. 크기가 3x3인 모든 값이 1인 배열\n",
    "3. 0에서 20까지 5씩 증가하는 값으로 구성된 배열\n",
    "4. 0과 1 사이의 4개의 등간격 값을 가진 배열\n",
    "5. *크기가 2x2인 정규 분포로 구성된 배열*\n",
    "</aside>"
   ]
  },
  {
   "cell_type": "code",
   "execution_count": null,
   "id": "a3c07360",
   "metadata": {},
   "outputs": [
    {
     "name": "stdout",
     "output_type": "stream",
     "text": [
      "[[0. 0. 0.]\n",
      " [0. 0. 0.]\n",
      " [0. 0. 0.]\n",
      " [0. 0. 0.]]\n"
     ]
    }
   ],
   "source": [
    "arr = np.zeros((4,3))\n",
    "print(arr)"
   ]
  },
  {
   "cell_type": "code",
   "execution_count": 58,
   "id": "f1a1d544",
   "metadata": {},
   "outputs": [
    {
     "name": "stdout",
     "output_type": "stream",
     "text": [
      "[[1. 1. 1.]\n",
      " [1. 1. 1.]\n",
      " [1. 1. 1.]]\n"
     ]
    }
   ],
   "source": [
    "arr = np.ones((3,3))\n",
    "print(arr)"
   ]
  },
  {
   "cell_type": "code",
   "execution_count": 62,
   "id": "29d4a121",
   "metadata": {},
   "outputs": [
    {
     "name": "stdout",
     "output_type": "stream",
     "text": [
      "[ 0  5 10 15 20]\n"
     ]
    }
   ],
   "source": [
    "arr = np.arange(0, 21, 5)\n",
    "print(arr)"
   ]
  },
  {
   "cell_type": "code",
   "execution_count": 4,
   "id": "cf65bbbd",
   "metadata": {},
   "outputs": [
    {
     "name": "stdout",
     "output_type": "stream",
     "text": [
      "[0.         0.33333333 0.66666667 1.        ]\n"
     ]
    }
   ],
   "source": [
    "arr = np.linspace(0, 1, 4)\n",
    "print(arr)"
   ]
  },
  {
   "cell_type": "code",
   "execution_count": null,
   "id": "b939e7ec",
   "metadata": {},
   "outputs": [
    {
     "name": "stdout",
     "output_type": "stream",
     "text": [
      "[[ 0.09163759 -0.50206589]\n",
      " [ 0.45693152 -0.98241954]]\n"
     ]
    }
   ],
   "source": [
    "# 크기가 2x2인 정규 분포로 구성된 배열을 만들기 위해서는 numpy의 random 모듈에서 randn 함수를 사용하면 됩니다.\n",
    "# np.random.randn(2, 2)는 평균이 0이고 표준편차가 1인 정규 분포를 따르는 2x2 배열을 생성합니다.\n",
    "# 정규 분포는 데이터가 평균을 중심으로 좌우 대칭의 종 모양(벨 커브)을 이루는 확률 분포입니다.\n",
    "# 평균을 기준으로 데이터가 퍼져 있으며, 평균에서 멀어질수록 값이 나올 확률이 낮아집니다.\n",
    "# 통계, 자연과학, 머신러닝 등 다양한 분야에서 널리 사용됩니다.\n",
    "\n",
    "# 평균과 표준 편차를 가지고 있는 배열\n",
    "# 예시:\n",
    "\n",
    "arr = np.random.randn(2, 2) # randn : 표준정규분포를 만들어내는 함수\n",
    "print(arr)"
   ]
  },
  {
   "cell_type": "code",
   "execution_count": 59,
   "id": "08ba9668",
   "metadata": {},
   "outputs": [
    {
     "name": "stdout",
     "output_type": "stream",
     "text": [
      "[[ 0.48236702 -0.26710532]\n",
      " [-0.74572476  1.01939308]]\n",
      "[[3.45589252 3.69079067]\n",
      " [4.65984146 2.75201939]]\n"
     ]
    }
   ],
   "source": [
    "arr = np.random.normal(loc=0, scale=1, size=(2, 2))\n",
    "print(arr)\n",
    "# np.random.normal 함수는 정규분포(가우시안 분포)를 따르는 난수를 생성할 때 사용합니다.\n",
    "# 이 함수는 평균(loc), 표준편차(scale), 그리고 생성할 배열의 크기(size)를 인자로 받습니다.\n",
    "# np.random.randn 함수가 평균 0, 표준편차 1인 '표준정규분포'에서 난수를 생성하는 것과 달리,\n",
    "# np.random.normal은 평균과 표준편차를 직접 지정할 수 있어 다양한 정규분포를 만들 수 있습니다.\n",
    "# 예를 들어, 평균이 3이고 표준편차가 2인 2x2 배열을 만들고 싶다면 다음과 같이 작성합니다.\n",
    "# loc는 \"location\"의 약어로, np.random.normal 함수에서 정규분포의 \"평균\"을 의미합니다.\n",
    "# 즉, loc=3이면 평균이 3인 정규분포에서 난수를 생성합니다.\n",
    "\n",
    "arr = np.random.normal(loc=3, scale=2, size=(2, 2))\n",
    "print(arr)\n"
   ]
  },
  {
   "cell_type": "markdown",
   "id": "af670201",
   "metadata": {},
   "source": [
    "---"
   ]
  },
  {
   "cell_type": "markdown",
   "id": "79e61d5a",
   "metadata": {},
   "source": [
    "### ndarray indexing & \n",
    "#### n차원 배열을 가지고 인덱싱, 슬라이싱 배워보기"
   ]
  },
  {
   "cell_type": "code",
   "execution_count": 32,
   "id": "ee5baf50",
   "metadata": {},
   "outputs": [
    {
     "name": "stdout",
     "output_type": "stream",
     "text": [
      "[ 1  2  3  4  5  6  7  8  9 10]\n",
      "2 4 10\n",
      "10 6\n"
     ]
    }
   ],
   "source": [
    "# 1차원 배열 인덱싱\n",
    "arr = np.arange(1, 11)\n",
    "print(arr)\n",
    "print(arr[1], arr[3], arr[9])\n",
    "# print(arr[1], arr[3], arr[10])\n",
    "# IndexError: index 10 is out of bounds for axis 0 with size 10\n",
    "print(arr[-1], arr[-5])"
   ]
  },
  {
   "cell_type": "code",
   "execution_count": 59,
   "id": "64a6c8b7",
   "metadata": {},
   "outputs": [
    {
     "name": "stdout",
     "output_type": "stream",
     "text": [
      "[[10 20 30]\n",
      " [40 50 60]]\n",
      "(2, 3)\n",
      "[40 50 60]\n",
      "50\n",
      "-------------------------------\n",
      "10\n",
      "20\n",
      "30\n"
     ]
    }
   ],
   "source": [
    "# 2차원 배열 인덱싱\n",
    "arr_2d = np.array([[10, 20, 30], [40, 50 , 60]])\n",
    "print(arr_2d, arr_2d.shape, sep='\\n')\n",
    "print(arr_2d[1], arr_2d[1][1], sep='\\n')\n",
    "print(\"-------------------------------\")\n",
    "print(arr_2d[0][0])\n",
    "print(arr_2d[0, 1])\n",
    "print(arr_2d[(0,2)])"
   ]
  },
  {
   "cell_type": "code",
   "execution_count": 63,
   "id": "3672c20b",
   "metadata": {},
   "outputs": [
    {
     "name": "stdout",
     "output_type": "stream",
     "text": [
      "[[11 22 33]\n",
      " [44 55 66]\n",
      " [77 88 99]]\n",
      "44\n",
      "88\n",
      "88\n"
     ]
    }
   ],
   "source": [
    "arr = np.array([[11, 22, 33], [44, 55, 66], [77, 88, 99]])\n",
    "\n",
    "print(arr)\n",
    "print(arr[(1,0)]) # 44\n",
    "print(arr[2,1]) # 88\n",
    "print(arr[(-1, -2)]) # 88 (음수 인덱싱 활용용)"
   ]
  },
  {
   "cell_type": "code",
   "execution_count": 75,
   "id": "d87606ca",
   "metadata": {},
   "outputs": [
    {
     "name": "stdout",
     "output_type": "stream",
     "text": [
      "[ 1  2  3  4  5  6  7  8  9 10]\n",
      "[3 4 5 6 7]\n",
      "[1 3 5 7 9]\n",
      "[ 5  6  7  8  9 10]\n",
      "[1 2 3 4 5 6 7]\n",
      "[10  9  8  7  6  5  4  3  2  1]\n"
     ]
    }
   ],
   "source": [
    "arr = np.arange(1,11)\n",
    "print(arr)\n",
    "print(arr[2:-3])    # [3 4 5 6 7]\n",
    "print(arr[:10:2])    # [1 3 5 7 9]\n",
    "print(arr[4:])    # [5 6 7 8 9 10]\n",
    "print(arr[:-3])    # [1 2 3 4 5 6 7]\n",
    "print(arr[::-1])    # [10 9 8 7 6 5 4 3 2 1]"
   ]
  },
  {
   "cell_type": "code",
   "execution_count": 19,
   "id": "f178daa8",
   "metadata": {},
   "outputs": [
    {
     "name": "stdout",
     "output_type": "stream",
     "text": [
      "[[10 20 30]\n",
      " [40 50 60]\n",
      " [70 80 90]]\n",
      "------------\n",
      "[[20]\n",
      " [50]]\n",
      "------------\n",
      "[[10 20 30]\n",
      " [40 50 60]]\n",
      "------------\n",
      "[[20 30]\n",
      " [50 60]\n",
      " [80 90]]\n",
      "------------\n",
      "[[20 30]\n",
      " [50 60]]\n",
      "------------\n",
      "[[10]\n",
      " [40]] (2, 1)\n",
      "------------\n",
      "[10 40] (2,)\n",
      "[20 50] (2,)\n",
      "[30 60] (2,)\n"
     ]
    }
   ],
   "source": [
    "# 2차원 배열 슬라이싱\n",
    "arr = np.array([[10, 20, 30], [40, 50, 60], [70, 80, 90]])\n",
    "print(arr)\n",
    "print(\"------------\")\n",
    "print(arr[0:2, 1:2]) # [행 슬라이싱, 열 슬라이싱]\n",
    "\n",
    "print(\"------------\")\n",
    "print(arr[0:2,:]) # print(arr[:2]) -> 행 슬라이싱만 적어줘도 됨\n",
    "# 1\n",
    "# [[10 20 30]\n",
    "#  [40 50 60]]\n",
    "print(\"------------\")\n",
    "print(arr[:, 1: ])\n",
    "# 2\n",
    "# [[20 30]\n",
    "#  [50 60]\n",
    "#  [80 90]]\n",
    "print(\"------------\")\n",
    "print(arr[:2, 1:])\n",
    "# 3\n",
    "# [[20 30]\n",
    "#  [50 60]]\n",
    "\n",
    "# 슬라이싱 = shape 유지 (차원 유지)\n",
    "print(\"------------\")\n",
    "print(arr[:-1, 0:1], arr[:-1, 0:1].shape)\n",
    "# index 접근 -> 값을 꺼내서 반환 (차원 제거)\n",
    "print(\"------------\")\n",
    "print(arr[:-1, 0], arr[:-1, 0].shape)\n",
    "print(arr[:-1, 1], arr[:-1, 1].shape)\n",
    "print(arr[:-1, 2], arr[:-1, 2].shape)"
   ]
  },
  {
   "cell_type": "code",
   "execution_count": null,
   "id": "0854ddb8",
   "metadata": {},
   "outputs": [
    {
     "name": "stdout",
     "output_type": "stream",
     "text": [
      "[ 5 10 15 20 25 30]\n",
      "[10 20 30]\n",
      "[10 20 30]\n"
     ]
    }
   ],
   "source": [
    "# 1차원 배열  fancy indexing\n",
    "\n",
    "# 인덱싱 : 인덱스를 하나 지정해서 그 인덱스에 접근하는 것(가져오는 것)\n",
    "# fancy 인덱싱 : 정수 배열을 사용해서 여러 인덱스에 있는 값을 한번에 추출출\n",
    "\n",
    "arr = np.arange(5, 31, 5)\n",
    "print(arr)\n",
    "# print(arr[1, 3, 5])\n",
    "# IndexError: too many indices for array: array is 1-dimensional, but 3 were indexed\n",
    "print(arr[[1,3,5]]) # list 로 넘겨줘야한다.\n",
    "\n",
    "indicies = [1, 3, 5]\n",
    "print(arr[indicies])"
   ]
  },
  {
   "cell_type": "code",
   "execution_count": 39,
   "id": "37d20846",
   "metadata": {},
   "outputs": [
    {
     "name": "stdout",
     "output_type": "stream",
     "text": [
      "[10 35]\n",
      "---------\n",
      "[10 35]\n",
      "[25 55]\n",
      "[25 55]\n",
      "---------\n",
      "[35 35]\n",
      "[15 55]\n"
     ]
    }
   ],
   "source": [
    "# 2차원 배열 fancy indexing\n",
    "arr = np.array([[5, 10, 15, 20],\n",
    "                [25, 30, 35, 40],\n",
    "                [45, 50, 55, 60]\n",
    "                ])\n",
    "# [10 35]\n",
    "indices1 = [0, 1] # 1행 2열\n",
    "indices2 = [1, 2] # 2행 3열\n",
    "\n",
    "print(arr[indices1, indices2])\n",
    "print(\"---------\")\n",
    "print(arr[[0, 1],[1, 2]])\n",
    "\n",
    "# [25 55]\n",
    "indices3 = [1, 2]\n",
    "indices4 = [0, 2]\n",
    "print(arr[indices3, indices4])\n",
    "print(arr[[1, 2], [0, 2]])\n",
    "print(\"---------\")\n",
    "# 왜 결과가 35, 35가 나올까요?\n",
    "# arr[[1][0], [2,2]]에서 [1][0]은 1입니다. 즉, arr[1, [2,2]]와 동일하게 동작합니다.\n",
    "# 즉, 1행의 2열, 1행의 2열(두 번) 값을 가져오므로 [35 35]가 출력됩니다.\n",
    "print(arr[[1][0], [2,2]]) \n",
    "print(arr[[0,2],[2,2]])"
   ]
  },
  {
   "cell_type": "code",
   "execution_count": null,
   "id": "4b85ed8e",
   "metadata": {},
   "outputs": [],
   "source": [
    "# fancy indexing(팬시 인덱싱)은 정수 배열(리스트, numpy 배열 등)을 사용하여 여러 위치의 값을 한 번에 추출할 수 있는 방법입니다.\n",
    "# 2차원 배열에서 fancy indexing을 사용하면, 각 인덱스 쌍에 해당하는 원소를 한 번에 가져올 수 있습니다.\n",
    "\n",
    "# 예제: 아래와 같이 arr이 있을 때,\n",
    "# arr = np.array([[5, 10, 15, 20],\n",
    "#                 [25, 30, 35, 40],\n",
    "#                 [45, 50, 55, 60]])\n",
    "# arr[[1, 2], [0, 2]]는 (1,0) 위치와 (2,2) 위치의 값을 가져옵니다.\n",
    "\n",
    "print(\"fancy indexing 예제:\")\n",
    "print(\"arr =\\n\", arr)\n",
    "print(\"arr[[1, 2], [0, 2]] =\", arr[[1, 2], [0, 2]])  # [25 55]\n",
    "# (1,0) 위치의 값: 25, (2,2) 위치의 값: 55\n"
   ]
  },
  {
   "cell_type": "code",
   "execution_count": null,
   "id": "9ef4b8bb",
   "metadata": {},
   "outputs": [],
   "source": []
  },
  {
   "cell_type": "code",
   "execution_count": null,
   "id": "e3ca421b",
   "metadata": {},
   "outputs": [],
   "source": [
    "# 실무에서 fancy indexing은 다음과 같은 상황에서 자주 사용됩니다.\n",
    "# - 대용량 데이터에서 조건에 맞는 여러 행/열을 한 번에 추출할 때\n",
    "# - 데이터 전처리 과정에서 결측치, 이상치 등 특정 인덱스의 값을 빠르게 선택/수정할 때\n",
    "# - 이미지, 시계열 등 다차원 데이터에서 복잡한 위치의 값을 효율적으로 추출할 때\n",
    "\n",
    "# 예를 들어, 고객 데이터에서 VIP 고객의 인덱스만 모아 해당 고객의 정보만 추출하거나,\n",
    "# 센서 데이터에서 이상치로 판별된 인덱스만 골라내어 분석할 때 유용합니다.\n",
    "\n",
    "# 딥러닝/머신러닝/AI 학습자에게:\n",
    "# fancy indexing은 numpy, pandas 등에서 데이터셋을 다룰 때 매우 자주 사용됩니다.\n",
    "# 예를 들어, 미니배치 학습 시 무작위로 샘플 인덱스를 뽑아 데이터를 추출하거나,\n",
    "# 특정 클래스에 해당하는 데이터만 골라내어 분석할 때 필수적입니다.\n",
    "# 또한, 신경망의 파라미터 업데이트, 마스킹, 샘플링 등 다양한 곳에서 활용됩니다.\n",
    "\n",
    "# 실습을 많이 해보면서 fancy indexing에 익숙해지면, 데이터 처리 속도와 코드 효율성이 크게 향상됩니다!"
   ]
  },
  {
   "cell_type": "code",
   "execution_count": 20,
   "id": "5f84f9ed",
   "metadata": {},
   "outputs": [
    {
     "name": "stdout",
     "output_type": "stream",
     "text": [
      "[1 5]\n"
     ]
    }
   ],
   "source": [
    "# boolean indexing\n",
    "arr = np.arange(1, 6) # [1 2 3 4 5]\n",
    "                      #  T F F F T\n",
    "bools = [True, False, False, False, True]\n",
    "print(arr[bools])"
   ]
  },
  {
   "cell_type": "code",
   "execution_count": 21,
   "id": "83df4cd9",
   "metadata": {},
   "outputs": [
    {
     "name": "stdout",
     "output_type": "stream",
     "text": [
      "[12 15 18 21 24 27]\n",
      "[ 6 12 18 24]\n"
     ]
    }
   ],
   "source": [
    "# 2차원 배열 boolean indexing\n",
    "arr = np.array([\n",
    "               [3, 6, 9],\n",
    "               [12, 15, 18],\n",
    "               [21, 24, 27]\n",
    "               ])\n",
    "\n",
    "print(arr[arr > 10])\n",
    "print(arr[arr % 2 == 0])"
   ]
  },
  {
   "cell_type": "code",
   "execution_count": 44,
   "id": "4ae4bce7",
   "metadata": {},
   "outputs": [
    {
     "name": "stdout",
     "output_type": "stream",
     "text": [
      "문제 1: [ 2  4  6  8 10 12 14 16 18 20]\n"
     ]
    }
   ],
   "source": [
    "# 핵심 문제 5개\n",
    "\n",
    "# 1. 1부터 20까지의 정수를 원소로 갖는 1차원 numpy 배열 arr1을 생성하고, 짝수만 출력하세요.\n",
    "arr1 = np.arange(1, 21)\n",
    "print(\"문제 1:\", arr1[arr1 % 2 == 0])"
   ]
  },
  {
   "cell_type": "code",
   "execution_count": 50,
   "id": "158b56b4",
   "metadata": {},
   "outputs": [
    {
     "name": "stdout",
     "output_type": "stream",
     "text": [
      "문제 2:\n",
      " [[7 7 7 7]\n",
      " [7 7 7 7]\n",
      " [7 7 7 7]]\n"
     ]
    }
   ],
   "source": [
    "# 2. 3행 4열의 0으로 채워진 numpy 배열 arr2를 만들고, 모든 원소를 7로 바꾼 후 출력하세요.\n",
    "arr2 = np.zeros((3, 4), dtype=int)\n",
    "# arr2[:] = 7\n",
    "arr2 = np.full_like(arr2, 7)\n",
    "print(\"문제 2:\\n\", arr2)"
   ]
  },
  {
   "cell_type": "code",
   "execution_count": 51,
   "id": "bfabee97",
   "metadata": {},
   "outputs": [
    {
     "name": "stdout",
     "output_type": "stream",
     "text": [
      "문제 3: [10 15 20]\n"
     ]
    }
   ],
   "source": [
    "# 3. 1차원 배열 arr3 = np.array([5, 10, 15, 20, 25])에서 인덱스 1~3까지의 값을 슬라이싱하여 출력하세요.\n",
    "arr3 = np.array([5, 10, 15, 20, 25])\n",
    "print(\"문제 3:\", arr3[1:4])"
   ]
  },
  {
   "cell_type": "code",
   "execution_count": 57,
   "id": "174faca3",
   "metadata": {},
   "outputs": [
    {
     "name": "stdout",
     "output_type": "stream",
     "text": [
      "[[1 2 3]\n",
      " [4 5 6]\n",
      " [7 8 9]] \n",
      "shape : (3, 3)\n",
      "문제 4 - 첫 번째 행: [1 2 3]\n",
      "문제 4 - 첫 번째 행: [1 2 3]\n",
      "문제 4 - 마지막 열: [3 6 9]\n"
     ]
    }
   ],
   "source": [
    "# 4. 2차원 배열 arr4 = np.array([[1,2,3],[4,5,6],[7,8,9]])에서 첫 번째 행과 마지막 열을 각각 출력하세요.\n",
    "arr4 = np.array([[1,2,3],[4,5,6],[7,8,9]])\n",
    "print(arr4, \"\\nshape :\", arr4.shape)\n",
    "print(\"문제 4 - 첫 번째 행:\", arr4[0])\n",
    "print(\"문제 4 - 첫 번째 행:\", arr4[0, :])\n",
    "print(\"문제 4 - 마지막 열:\", arr4[:, -1])"
   ]
  },
  {
   "cell_type": "code",
   "execution_count": 64,
   "id": "a9bd11a8",
   "metadata": {},
   "outputs": [
    {
     "name": "stdout",
     "output_type": "stream",
     "text": [
      "[ 0.37802979 -0.5745406  -1.90284994 -0.6444643  -0.18707857]\n",
      "[[ 0.05426694 -0.34587542 -0.89936575 -1.49877186 -0.70151821]]\n"
     ]
    }
   ],
   "source": [
    "# 5. 평균이 0, 표준편차가 1인 정규분포에서 난수 5개로 이루어진 1차원 배열 arr5를 생성하고, 평균과 표준편차를 출력하세요.\n",
    "arr5 = np.random.randn(5)\n",
    "arr6 = np.random.normal(loc=0, scale=1, size=(1,5))\n",
    "print(arr5)\n",
    "print(arr6)\n",
    "\n",
    "# print(\"문제 5 - 배열:\", arr5)\n",
    "# print(\"문제 5 - 평균:\", arr5.mean())\n",
    "# print(\"문제 5 - 표준편차:\", arr5.std())\n"
   ]
  },
  {
   "cell_type": "code",
   "execution_count": 43,
   "id": "d27e50c4",
   "metadata": {},
   "outputs": [
    {
     "name": "stdout",
     "output_type": "stream",
     "text": [
      "[ 1  2  3  4  5  6  7  8  9 10 11 12 13 14 15 16 17 18 19 20]\n",
      "[False  True False  True False  True False  True False  True False  True\n",
      " False  True False  True False  True False  True]\n",
      "[ 2  4  6  8 10 12 14 16 18 20]\n",
      "[]\n",
      "[]\n"
     ]
    }
   ],
   "source": [
    "arr = np.arange(1,21)\n",
    "print(arr)\n",
    "print(arr % 2 == 0)\n",
    "# 왜 print(arr[False, True, ..., False, True])는 안 될까?\n",
    "# arr의 길이(20)와 불리언 리스트의 길이(20)가 정확히 일치하면 동작하지만,\n",
    "# 실수로 길이가 다르면 에러가 발생함. \n",
    "# arr[arr % 2 == 0]은 arr의 각 원소마다 조건을 적용해서 True/False 배열을 자동으로 만들어주기 때문에 더 안전하고 편리함.\n",
    "print(arr[arr % 2 == 0])  # arr[False, True, ..., False, True]와 같은 결과를 얻을 수 있음\n",
    "print(arr[False, True, False, True, False, True, False, True, False, True, False, True,\n",
    " False, True, False, True, False, True, False, True])\n",
    "\n",
    "# 올바르게 20개의 bool 자료 결과 값을 넣었는데 왜 빈 [] 가 나오는거지?\n",
    "# → arr[False, True, ...]에서 bool 리스트를 여러 줄에 걸쳐 쓸 때, \n",
    "#   줄바꿈 뒤에 콤마(,)가 빠지면 Python이 한 줄로 인식하지 않고 \n",
    "#   두 번째 줄부터는 새로운 인자로 처리해서 결과가 달라집니다.\n",
    "#   즉, 아래처럼 콤마가 빠지면 의도한 대로 동작하지 않습니다.\n",
    "#   반드시 각 줄 끝에 콤마(,)를 붙여야 합니다.\n",
    "\n",
    "# 잘못된 예시 (줄바꿈 뒤 콤마 없음 → 빈 배열 출력)\n",
    "# print(arr[False, True, False, True, False, True, False, True, False, True, False, True\n",
    "#  False, True, False, True, False, True, False, True])  # 빈 배열 출력\n",
    "\n",
    "# 올바른 예시 (각 줄 끝에 콤마 추가)\n",
    "print(arr[\n",
    "    False, True, False, True, False, True, False, True, False, True,\n",
    "    False, True, False, True, False, True, False, True, False, True\n",
    "])  # 짝수만 출력됨"
   ]
  },
  {
   "cell_type": "code",
   "execution_count": null,
   "id": "7995a057",
   "metadata": {},
   "outputs": [],
   "source": [
    "- np.all(): (조건식) -> and 와 비슷한 연산\n",
    "- ndarray의 모든 요소가 조건을 만족할 때 True 반환\n",
    "- np.any(): (조건식) -> or 와 비슷한 연산\n",
    "- ndarray의 모든 요소 중 하나라도 조건을 만족할 때 True 반환환"
   ]
  },
  {
   "cell_type": "code",
   "execution_count": 68,
   "id": "c509176a",
   "metadata": {},
   "outputs": [
    {
     "name": "stdout",
     "output_type": "stream",
     "text": [
      "모든 수가 양수는 아닙니다.\n"
     ]
    }
   ],
   "source": [
    "arr = np.array([10, 20, 30, 40, -50])\n",
    "\n",
    "is_all_positive = np.all(arr > 0)\n",
    "\n",
    "if is_all_positive:\n",
    "    print(\"모든 수는 양수입니다\")\n",
    "else:\n",
    "    print(\"모든 수가 양수는 아닙니다.\")\n"
   ]
  },
  {
   "cell_type": "code",
   "execution_count": 69,
   "id": "1f643fc8",
   "metadata": {},
   "outputs": [
    {
     "name": "stdout",
     "output_type": "stream",
     "text": [
      "양수가 포함되어 있습니다.\n"
     ]
    }
   ],
   "source": [
    "has_positive = np.any(arr > 0)\n",
    "\n",
    "if has_positive:\n",
    "    print('양수가 포함되어 있습니다.')\n",
    "else:\n",
    "    print('모든 수가 음수입니다.')"
   ]
  }
 ],
 "metadata": {
  "kernelspec": {
   "display_name": "piptest_env",
   "language": "python",
   "name": "python3"
  },
  "language_info": {
   "codemirror_mode": {
    "name": "ipython",
    "version": 3
   },
   "file_extension": ".py",
   "mimetype": "text/x-python",
   "name": "python",
   "nbconvert_exporter": "python",
   "pygments_lexer": "ipython3",
   "version": "3.12.11"
  }
 },
 "nbformat": 4,
 "nbformat_minor": 5
}
