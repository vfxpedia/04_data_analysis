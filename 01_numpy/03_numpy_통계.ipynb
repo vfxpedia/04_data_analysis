{
 "cells": [
  {
   "cell_type": "markdown",
   "id": "f020278d",
   "metadata": {},
   "source": [
    "### 통계 관련 numpy"
   ]
  },
  {
   "cell_type": "code",
   "execution_count": 1,
   "id": "a7a41d8b",
   "metadata": {},
   "outputs": [],
   "source": [
    "import numpy as np"
   ]
  },
  {
   "cell_type": "markdown",
   "id": "004b6bff",
   "metadata": {},
   "source": [
    "##### 중심 경향 측도\n",
    "- 평균, 중간값, 최빈값...\n"
   ]
  },
  {
   "cell_type": "code",
   "execution_count": 43,
   "id": "2cb9edaf",
   "metadata": {},
   "outputs": [],
   "source": [
    "n = \"\\n---------------------------------------------------------------------------------------------\\n\""
   ]
  },
  {
   "cell_type": "code",
   "execution_count": 22,
   "id": "cea78aa2",
   "metadata": {},
   "outputs": [],
   "source": [
    "height = np.array([160, 170, 180, 150, 155, 165, 175, 185, 180, 175, 170, 173, 164, 189, 175])"
   ]
  },
  {
   "cell_type": "code",
   "execution_count": 23,
   "id": "345e849c",
   "metadata": {},
   "outputs": [
    {
     "name": "stdout",
     "output_type": "stream",
     "text": [
      "171.06666666666666 \n",
      "----------------------------------------------------------------------------------------------\n"
     ]
    }
   ],
   "source": [
    "# 평균값\n",
    "print(np.mean(height), n)"
   ]
  },
  {
   "cell_type": "code",
   "execution_count": 24,
   "id": "ed4fd8c6",
   "metadata": {},
   "outputs": [
    {
     "name": "stdout",
     "output_type": "stream",
     "text": [
      "[150 155 160 164 165 170 170 173 175 175 175 180 180 185 189] \n",
      "----------------------------------------------------------------------------------------------\n",
      "173.0 \n",
      "----------------------------------------------------------------------------------------------\n"
     ]
    }
   ],
   "source": [
    "# 중위값\n",
    "print(np.sort(height), n)\n",
    "print(np.median(height), n)\n",
    "\n",
    "# 표준 편차가 크지 않나 = 평균과 중위값이 비슷하다"
   ]
  },
  {
   "cell_type": "code",
   "execution_count": 39,
   "id": "7902817a",
   "metadata": {},
   "outputs": [
    {
     "name": "stdout",
     "output_type": "stream",
     "text": [
      "[150 155 160 164 165 170 173 175 180 185 189] [1 1 1 1 1 2 1 3 2 1 1] \n",
      "----------------------------------------------------------------------------------------------\n",
      "[False False False False False False False  True False False False]\n",
      "[175]\n"
     ]
    }
   ],
   "source": [
    "# 최빈값\n",
    "values, count = np.unique(height, return_counts=True)\n",
    "print(values, count, n)\n",
    "# [150 155 160 164 165 170 173 175 180 185 189] [1 1 1 1 1 2 1 3 2 1 1] \n",
    "max_count = np.max(count)\n",
    "print(count == max_count)\n",
    "print(values[count == max_count])\n",
    "# boolean 인덱싱으로 최빈값 출력"
   ]
  },
  {
   "cell_type": "markdown",
   "id": "100ba7a0",
   "metadata": {},
   "source": [
    "---\n",
    "### 산포 측도"
   ]
  },
  {
   "cell_type": "code",
   "execution_count": 44,
   "id": "8dccf940",
   "metadata": {},
   "outputs": [
    {
     "name": "stdout",
     "output_type": "stream",
     "text": [
      "109.26222222222223 \n",
      "---------------------------------------------------------------------------------------------\n",
      " 109.26222222222223 \n",
      "---------------------------------------------------------------------------------------------\n",
      "\n",
      "10.452857132010474 \n",
      "---------------------------------------------------------------------------------------------\n",
      " 10.452857132010474 \n",
      "---------------------------------------------------------------------------------------------\n",
      "\n"
     ]
    }
   ],
   "source": [
    "# 분산 (variance)\n",
    "# (값 - 평균)^2 의 평균\n",
    "var1 = np.mean(np.square(height - np.mean(height)))\n",
    "var2 = np.var(height)\n",
    "print(var1, n, var2, n)\n",
    "\n",
    "# 분산의 제곱근\n",
    "var3 = np.sqrt(np.mean((height - np.mean(height))**2))\n",
    "var4 = np.std(height)\n",
    "print(var3, n, var4, n)\n"
   ]
  },
  {
   "cell_type": "code",
   "execution_count": 46,
   "id": "b08e0f4f",
   "metadata": {},
   "outputs": [
    {
     "name": "stdout",
     "output_type": "stream",
     "text": [
      "10.452857132010474 \n",
      "---------------------------------------------------------------------------------------------\n",
      " 10.452857132010474 \n",
      "---------------------------------------------------------------------------------------------\n",
      "\n"
     ]
    }
   ],
   "source": [
    "# 표준 편차 (standard deviation)\n",
    "std1 = np.sqrt(var1) # np.sqrt(np.mean(np.square(height - np.mean(height))))\n",
    "std2 = np.std(height)\n",
    "print(std1, n, std2, n)"
   ]
  },
  {
   "cell_type": "code",
   "execution_count": 47,
   "id": "68d5e75a",
   "metadata": {},
   "outputs": [
    {
     "name": "stdout",
     "output_type": "stream",
     "text": [
      "39 \n",
      "---------------------------------------------------------------------------------------------\n",
      " 39 \n",
      "---------------------------------------------------------------------------------------------\n",
      "\n"
     ]
    }
   ],
   "source": [
    "# 범위 (range)\n",
    "range1 = np.max(height) - np.min(height)\n",
    "range2 = np.ptp(height)\n",
    "\n",
    "print(range1, n, range2, n)"
   ]
  },
  {
   "cell_type": "code",
   "execution_count": null,
   "id": "611b7d92",
   "metadata": {},
   "outputs": [],
   "source": [
    "\n",
    "\n",
    "# 표준 편차 (standard deviation)\n",
    "# 범위 (range)\n",
    "# 사분위 범위 (quartile range)\n",
    "# 최소값 (minimum)\n",
    "# 최대값 (maximum)\n"
   ]
  },
  {
   "cell_type": "markdown",
   "id": "95675156",
   "metadata": {},
   "source": [
    "---\n",
    "#### 확률 분포"
   ]
  },
  {
   "cell_type": "code",
   "execution_count": 48,
   "id": "95cfe445",
   "metadata": {},
   "outputs": [],
   "source": [
    "import matplotlib.pyplot as plt"
   ]
  },
  {
   "cell_type": "code",
   "execution_count": 98,
   "id": "87683976",
   "metadata": {},
   "outputs": [
    {
     "data": {
      "text/plain": [
       "-0.9893266496407108"
      ]
     },
     "execution_count": 98,
     "metadata": {},
     "output_type": "execute_result"
    }
   ],
   "source": [
    "# 정규분포\n",
    "# np.random.randn(shape) # 평균 0, 표준편차 1인 난수 출력 함수 = 정규분포\n",
    "np.random.randn()\n"
   ]
  },
  {
   "cell_type": "code",
   "execution_count": 141,
   "id": "86546d3b",
   "metadata": {},
   "outputs": [
    {
     "data": {
      "image/png": "[encoded data removed]",
      "text/plain": [
       "<Figure size 640x480 with 1 Axes>"
      ]
     },
     "metadata": {},
     "output_type": "display_data"
    }
   ],
   "source": [
    "arr = np.random.randn(100000) # 100000개의 난수 생성\n",
    "plt.hist(arr, bins=500) # 히스토그램 그래프 출력, bins는 구간 수\n",
    "# plt.hist(arr)\n",
    "plt.show() # 정규분포 그래프 출력력"
   ]
  },
  {
   "cell_type": "code",
   "execution_count": 167,
   "id": "2a14ed89",
   "metadata": {},
   "outputs": [
    {
     "data": {
      "image/png": "[encoded data removed]",
      "text/plain": [
       "<Figure size 640x480 with 1 Axes>"
      ]
     },
     "metadata": {},
     "output_type": "display_data"
    },
    {
     "name": "stdout",
     "output_type": "stream",
     "text": [
      "mean(평균) 10.038441794205632 \n",
      "---------------------------------------------------------------------------------------------\n",
      "\n",
      "var(분산) 1.0007219185505705 \n",
      "---------------------------------------------------------------------------------------------\n",
      "\n",
      "std(표준편차) 1.0003608941529905 \n",
      "---------------------------------------------------------------------------------------------\n",
      "\n"
     ]
    }
   ],
   "source": [
    "# np.random.normal(loc, scale, size)\n",
    "# - loc : 평균\n",
    "# - scale : 표준편차\n",
    "# - size : 생성할 난수의 개수, shape\n",
    "arr2 = np.random.normal(10, 1, 1000)\n",
    "# arr2 = np.random.normal(10, 1, (10, 100)) # 10행 100열의 난수 생성\n",
    "\n",
    "plt.hist(arr2, bins=30)\n",
    "plt.show()\n",
    "print(\"mean(평균)\", np.mean(arr2), n)\n",
    "print(\"var(분산)\", np.var(arr2), n)\n",
    "print(\"std(표준편차)\", np.std(arr2), n)\n",
    "\n",
    "\n",
    "\n"
   ]
  },
  {
   "cell_type": "code",
   "execution_count": 178,
   "id": "be6ab4f5",
   "metadata": {},
   "outputs": [
    {
     "name": "stdout",
     "output_type": "stream",
     "text": [
      "[6.72143761e-01 6.11783103e-01 8.45930298e-01 4.65641772e-01\n",
      " 6.09207890e-01 7.11010558e-01 6.80927358e-01 9.86147751e-01\n",
      " 1.87020762e-01 5.94284116e-01 1.43325475e-02 2.34511660e-01\n",
      " 4.11580408e-01 2.96511367e-01 7.95735783e-01 9.80266667e-01\n",
      " 7.47780855e-01 5.59623015e-01 7.70086785e-01 9.84249032e-02\n",
      " 6.56817510e-01 1.72034002e-01 4.34711133e-01 2.61889295e-01\n",
      " 2.82766885e-01 2.74345803e-01 9.57164232e-01 3.60356019e-01\n",
      " 9.23867998e-01 1.72597113e-01 6.08394221e-01 1.27813772e-02\n",
      " 5.10205574e-01 7.27982937e-01 7.46310152e-01 6.60423423e-01\n",
      " 7.95066609e-02 6.23254257e-01 5.31448536e-01 5.60800437e-01\n",
      " 9.78653950e-01 8.89978375e-01 7.38945547e-01 2.25055788e-01\n",
      " 4.45500174e-01 1.69439307e-01 4.66737045e-01 7.58998250e-01\n",
      " 3.08818940e-01 3.48402818e-01 7.46574900e-01 7.10067148e-01\n",
      " 1.11278751e-02 7.83853165e-01 7.19391199e-01 9.28775879e-01\n",
      " 2.13731246e-01 6.66513420e-01 3.00184812e-01 6.21544271e-01\n",
      " 9.20769698e-01 4.07421261e-01 3.65643058e-01 7.38074126e-02\n",
      " 7.61110414e-01 9.43517079e-01 1.77525105e-01 8.24272138e-01\n",
      " 9.97144777e-01 7.78471966e-01 9.46058567e-01 6.34075389e-01\n",
      " 7.47121636e-01 5.52993618e-01 5.16135787e-01 9.73395913e-01\n",
      " 1.45569444e-01 7.33864489e-01 8.18943018e-02 4.70549303e-01\n",
      " 5.10784820e-01 6.52685541e-01 7.04599564e-01 1.93828344e-01\n",
      " 6.15691479e-01 8.10923060e-01 6.73626078e-01 8.63623239e-01\n",
      " 7.35196677e-03 7.94398253e-01 3.07386953e-01 5.04785154e-01\n",
      " 6.99435675e-01 3.64754537e-01 9.51069823e-01 4.17254583e-01\n",
      " 7.29591763e-01 7.19965153e-01 6.58098903e-01 8.91102942e-02\n",
      " 1.40555902e-01 1.16424128e-01 6.81484685e-01 3.32349469e-01\n",
      " 5.40114026e-01 8.23602777e-01 1.50710548e-01 6.74044481e-01\n",
      " 8.55569298e-01 4.24632354e-01 5.25285894e-02 4.52580840e-02\n",
      " 5.60408528e-01 6.81315300e-01 5.89228953e-01 9.87606403e-01\n",
      " 7.91656178e-01 7.88476241e-02 6.74615915e-01 7.89000829e-01\n",
      " 6.53176239e-01 7.75461653e-01 9.88934837e-01 1.10150589e-01\n",
      " 6.72788268e-01 7.28482424e-01 8.88722405e-01 2.29814514e-01\n",
      " 4.29837952e-01 7.35500044e-01 1.96650436e-02 8.94156508e-01\n",
      " 3.81964862e-01 9.40573239e-01 8.81175550e-01 6.67178250e-01\n",
      " 7.10099719e-01 6.58986445e-01 3.49966303e-01 4.27531060e-01\n",
      " 3.51049171e-01 1.86520343e-01 2.79040710e-01 7.46412221e-01\n",
      " 7.75026510e-01 7.86989872e-01 6.80108653e-01 4.26505465e-01\n",
      " 9.14022780e-01 4.94047505e-01 5.66911827e-01 8.57453969e-01\n",
      " 4.25518556e-01 8.91782238e-02 6.27948538e-01 6.43062156e-01\n",
      " 2.11482745e-01 3.70421705e-01 1.21736759e-01 1.25072032e-01\n",
      " 7.58297722e-01 2.13813783e-01 2.45331917e-01 7.44510648e-01\n",
      " 9.17148232e-01 8.93095243e-01 6.66149668e-01 4.69067813e-01\n",
      " 1.99438635e-01 4.53236654e-01 8.87438095e-02 5.93867849e-01\n",
      " 9.89297406e-01 2.06701230e-01 1.89712734e-01 8.76552801e-01\n",
      " 7.51609987e-01 6.55120191e-01 1.47564463e-01 8.73087506e-01\n",
      " 1.76094583e-01 7.48698829e-01 2.21735126e-01 9.89060539e-01\n",
      " 6.41254522e-02 8.20089890e-01 2.52639557e-01 2.32691469e-01\n",
      " 1.16618215e-01 9.84697388e-02 5.25752865e-01 1.31099768e-01\n",
      " 6.88855869e-01 2.91836528e-01 9.44154440e-01 4.67923657e-01\n",
      " 7.88713594e-01 1.20598056e-01 1.61968842e-01 6.71800296e-01\n",
      " 1.51515935e-01 7.00926882e-01 7.60278730e-01 3.82944378e-01\n",
      " 8.10364203e-01 9.15484654e-01 3.45986459e-01 9.18528832e-01\n",
      " 7.42722254e-01 1.15408717e-01 2.68026899e-01 9.72194452e-02\n",
      " 8.04498840e-02 6.66307155e-01 1.03122132e-01 5.10582982e-01\n",
      " 1.99721263e-01 1.54823180e-01 1.52897875e-01 8.06276710e-02\n",
      " 1.04028004e-01 4.21201374e-01 1.54263037e-01 1.90389293e-01\n",
      " 5.28471953e-01 9.02134552e-01 7.96609724e-01 2.67372691e-01\n",
      " 2.31572624e-01 5.78169814e-01 7.11951089e-01 4.51738678e-01\n",
      " 2.06081723e-01 9.67689040e-03 2.93821273e-01 3.20156383e-01\n",
      " 4.20834121e-01 7.48598246e-01 5.42716948e-01 4.18321631e-01\n",
      " 5.32649544e-01 7.53895450e-01 7.19997333e-01 8.11445430e-01\n",
      " 4.80713195e-01 2.83987017e-01 9.63774355e-01 1.11836671e-01\n",
      " 6.60765914e-01 5.35691521e-01 9.31081046e-01 2.34193759e-01\n",
      " 6.82148418e-01 4.93283755e-01 3.57435921e-01 7.45419655e-01\n",
      " 1.89116884e-02 2.14032753e-01 7.68267675e-01 2.48211909e-01\n",
      " 1.16748656e-01 3.08698635e-01 7.09897528e-01 8.22401274e-01\n",
      " 1.76462464e-01 7.54698986e-01 1.35165142e-02 7.28443325e-02\n",
      " 7.94805309e-01 3.02006869e-01 9.24611255e-01 9.60328822e-01\n",
      " 9.41633657e-02 7.38897923e-01 6.97681216e-01 4.54233029e-01\n",
      " 2.12189606e-01 1.18757870e-01 6.92704978e-01 5.60988863e-01\n",
      " 2.15667670e-01 1.19375146e-01 7.39356438e-01 5.86293989e-01\n",
      " 2.86851490e-01 7.59561626e-01 2.51830369e-02 2.30745127e-01\n",
      " 4.75437824e-01 1.75993079e-01 2.28655373e-01 4.52596077e-02\n",
      " 2.97639741e-02 4.80769282e-01 9.08388492e-01 7.92500109e-01\n",
      " 3.24440546e-01 9.42011953e-01 6.63735948e-01 7.71532182e-02\n",
      " 2.56409396e-01 5.70584382e-01 5.69778005e-01 4.02119919e-01\n",
      " 9.61711984e-01 9.04562912e-04 3.06740570e-01 4.07512807e-02\n",
      " 5.23706467e-01 9.61357881e-01 3.41442780e-01 2.60430824e-01\n",
      " 3.06992279e-01 1.16677732e-01 4.69731423e-01 7.69579670e-01\n",
      " 8.44601772e-01 2.05673453e-01 6.73008016e-01 6.11930478e-01\n",
      " 2.01709337e-01 2.31722376e-01 3.83531430e-01 2.26447241e-02\n",
      " 7.86532716e-01 9.78827426e-01 9.81544733e-01 8.71842051e-01\n",
      " 3.23232301e-02 1.80547506e-02 5.91365735e-02 9.47583699e-01\n",
      " 9.41040288e-01 6.84458700e-01 4.79778627e-01 1.12468188e-01\n",
      " 7.41622256e-01 2.81505249e-01 8.27982951e-01 2.46809164e-01\n",
      " 2.32056577e-01 5.07217065e-03 8.98177549e-01 5.10367739e-01\n",
      " 6.09521724e-01 2.54494309e-01 7.00070838e-01 8.61962538e-01\n",
      " 6.93284735e-01 3.34938949e-01 4.93934362e-01 7.48972103e-01\n",
      " 3.39956455e-01 1.62588381e-01 1.96532031e-01 1.34196920e-01\n",
      " 7.63880571e-01 6.13851080e-01 8.32884361e-01 2.72193875e-01\n",
      " 7.86064511e-01 4.99568002e-01 2.18708299e-01 5.16471912e-01\n",
      " 8.91032958e-02 2.51182740e-01 9.47521749e-02 1.78846077e-01\n",
      " 4.79801405e-01 9.83200553e-01 5.37483854e-01 9.19653558e-01\n",
      " 7.51526468e-01 3.72865721e-01 9.99474608e-01 3.71574065e-01\n",
      " 2.60599304e-01 5.91944057e-01 6.79719084e-01 3.96411088e-01\n",
      " 4.09186674e-01 1.71502122e-01 6.60228686e-01 2.21819959e-01\n",
      " 2.10418151e-01 5.34580096e-01 9.82998637e-01 5.77158804e-01\n",
      " 5.84054578e-01 8.75844284e-02 4.44190202e-01 9.83406005e-02\n",
      " 1.30143939e-01 2.75716258e-01 6.20128073e-01 9.70907472e-01\n",
      " 4.38250557e-01 4.01607237e-01 5.35235529e-01 9.23802724e-01\n",
      " 1.61061164e-01 3.94016697e-01 4.56755125e-01 2.60458410e-01\n",
      " 3.41344722e-01 5.99460893e-01 9.90908315e-01 5.97548968e-01\n",
      " 3.71860194e-01 4.00407372e-01 2.68241645e-02 8.46194861e-01\n",
      " 3.04609492e-01 1.35770651e-02 8.18448558e-01 7.15038918e-01\n",
      " 1.92556918e-01 5.42749811e-02 5.57380002e-01 5.73765616e-01\n",
      " 4.54729583e-01 8.55338498e-01 4.95166726e-01 7.88913537e-01\n",
      " 9.35471245e-01 6.70269739e-01 2.38690344e-01 6.59821625e-01\n",
      " 7.16927467e-01 9.78657814e-01 5.23250321e-01 7.23416781e-01\n",
      " 1.73118158e-01 1.62414667e-01 6.91174753e-01 3.33980497e-01\n",
      " 8.07648392e-01 8.33996530e-01 4.15246715e-01 1.89591577e-01\n",
      " 8.27499455e-01 7.66038989e-01 7.74459811e-01 3.59129236e-01\n",
      " 8.51235451e-01 8.86175054e-01 5.71196297e-01 9.10138196e-01\n",
      " 4.65510732e-01 4.59511133e-01 3.29602233e-01 2.53322421e-01\n",
      " 7.67931597e-01 5.36824159e-01 4.01315962e-01 8.85489049e-01\n",
      " 8.38659601e-01 8.01570383e-01 4.61446779e-01 8.01185533e-01\n",
      " 9.18916548e-01 2.32019684e-01 2.20705812e-01 9.35126581e-02\n",
      " 2.98533902e-01 5.82035172e-01 9.62312802e-01 6.31929553e-01\n",
      " 9.35084588e-01 9.24751388e-01 2.24226525e-01 9.81833295e-01\n",
      " 3.88606720e-01 6.45368326e-01 3.01937894e-01 9.68043208e-02\n",
      " 7.58954698e-01 1.71912390e-01 3.42274741e-01 3.87682968e-01\n",
      " 3.56774024e-01 7.84610468e-01 5.56686405e-01 8.40022040e-01\n",
      " 9.84493145e-01 4.79127963e-01 4.88663159e-01 7.13307944e-02\n",
      " 2.41952388e-01 6.78059420e-01 8.68362032e-01 6.35842834e-01\n",
      " 4.43535090e-01 6.76794236e-01 7.25037940e-01 9.92574627e-01\n",
      " 1.56780983e-01 5.11469808e-01 9.25267101e-01 4.53599495e-01\n",
      " 6.41175052e-01 2.38960063e-01 9.16056037e-01 3.85754623e-02\n",
      " 7.35293651e-01 1.88123696e-01 4.98429726e-01 6.46730157e-01\n",
      " 4.56111376e-01 4.65381405e-01 8.80231461e-01 4.55890093e-01\n",
      " 1.09043644e-01 3.17142567e-01 5.03632904e-01 3.57242308e-01\n",
      " 4.39450484e-02 8.94013286e-02 2.45930483e-01 7.87069536e-01\n",
      " 4.85525502e-01 2.53795153e-02 5.78410056e-01 6.03626433e-01\n",
      " 9.79322409e-01 5.98627033e-01 1.53373098e-01 2.18007826e-01\n",
      " 7.93995167e-02 4.17197351e-01 2.85854881e-01 3.60220223e-01\n",
      " 7.19826788e-01 8.92306163e-01 9.17416039e-01 2.08118456e-01\n",
      " 1.88514279e-01 9.56102769e-02 5.86177629e-01 2.88960047e-01\n",
      " 1.04467549e-01 8.21002834e-01 6.93943981e-01 6.66631813e-01\n",
      " 4.10998150e-01 8.87425593e-01 9.06044374e-01 8.01609463e-02\n",
      " 9.31232536e-01 2.32834893e-01 7.39045907e-01 9.23310262e-02\n",
      " 8.25879067e-01 8.25578161e-01 4.93716472e-01 8.31617445e-01\n",
      " 3.19590441e-01 9.73711261e-01 1.73523734e-02 6.26792692e-01\n",
      " 8.61159041e-03 2.81726472e-01 1.30900005e-01 4.36420933e-01\n",
      " 4.12534515e-01 9.51393350e-01 5.65074898e-01 4.88448738e-01\n",
      " 2.05742229e-01 6.84306025e-02 7.40854509e-02 9.96374714e-01\n",
      " 8.19300575e-01 3.55742039e-01 1.47398351e-02 2.27062474e-01\n",
      " 3.25977898e-01 2.91454984e-01 6.12547400e-01 2.22780496e-01\n",
      " 3.29779946e-01 6.14831386e-01 1.38765154e-01 2.70487004e-01\n",
      " 1.11185019e-01 6.36502984e-01 9.47707131e-01 4.41472118e-01\n",
      " 4.87050177e-01 6.24961866e-01 3.89686506e-01 4.10089930e-01\n",
      " 8.17321048e-01 4.79861094e-01 6.20788019e-01 1.73349719e-01\n",
      " 6.64389792e-01 5.51355341e-01 9.73821887e-01 1.41332422e-01\n",
      " 8.33537843e-02 4.51307112e-01 4.40692188e-01 1.17906058e-01\n",
      " 3.63518609e-01 4.71292200e-01 6.06794854e-01 2.17925840e-01\n",
      " 5.33860223e-01 8.65320677e-01 4.61808482e-01 8.66692806e-01\n",
      " 4.49720726e-01 4.38390774e-01 1.28526478e-02 9.84001542e-01\n",
      " 3.67499194e-01 7.27884927e-01 2.43318590e-01 9.70587167e-01\n",
      " 7.29325332e-01 3.28009087e-01 5.11253912e-01 8.03503659e-01\n",
      " 7.76530072e-01 9.55049014e-01 4.75340453e-01 2.58995780e-02\n",
      " 8.82954230e-01 8.98816054e-01 7.68044331e-01 1.66685806e-01\n",
      " 7.83524416e-01 8.97802781e-01 7.67033016e-01 1.23163342e-01\n",
      " 8.34106054e-01 1.25430087e-01 4.75497093e-01 1.66649696e-01\n",
      " 6.28776993e-02 5.39376512e-01 8.19039390e-01 9.58768042e-01\n",
      " 8.06148958e-01 8.02401318e-01 1.19970372e-01 8.95054143e-01\n",
      " 4.11550897e-01 7.11111814e-01 8.11876777e-01 2.86274950e-01\n",
      " 7.32457255e-01 3.74301775e-01 2.73357472e-01 8.75523288e-02\n",
      " 9.81340284e-01 6.29615625e-01 9.83481902e-01 9.90096745e-01\n",
      " 1.50614688e-01 7.26751298e-01 4.10852289e-01 4.81283353e-01\n",
      " 6.20279911e-01 7.09698002e-01 3.28992433e-01 4.16986556e-01\n",
      " 9.66342642e-01 4.22871447e-01 7.76174659e-01 1.11450275e-01\n",
      " 1.59805679e-01 2.12893522e-01 8.56685560e-01 9.26190968e-01\n",
      " 9.97837832e-01 1.54501252e-02 8.50178439e-02 6.58069150e-01\n",
      " 4.11965296e-01 5.22391275e-01 8.17451490e-01 8.84460615e-01\n",
      " 2.23227032e-01 1.18592647e-01 9.18914332e-01 5.40364253e-01\n",
      " 1.81066551e-01 3.64519469e-01 4.63809712e-01 2.23900908e-01\n",
      " 6.24433831e-01 3.45004863e-01 9.62239061e-02 7.53160678e-01\n",
      " 5.71905571e-01 9.40308830e-01 2.82822016e-01 5.63580246e-01\n",
      " 1.51597846e-01 7.24853398e-01 5.32992092e-01 9.13019495e-01\n",
      " 1.47597274e-01 6.11584920e-01 4.32118467e-01 7.24930301e-01\n",
      " 9.58046495e-01 7.96824164e-01 9.59670940e-01 8.81459977e-02\n",
      " 2.10899503e-01 2.53954663e-01 3.44537318e-01 2.86228935e-01\n",
      " 3.08354068e-01 3.49106272e-01 2.90736286e-01 2.98552942e-01\n",
      " 5.73750316e-01 5.89176881e-01 4.04470177e-01 5.04637557e-01\n",
      " 4.33967501e-01 9.62798003e-02 6.89790068e-01 8.11777499e-01\n",
      " 7.16106085e-01 7.48016567e-02 6.18113064e-01 7.29303233e-01\n",
      " 5.80926786e-01 3.66694085e-01 9.32328983e-01 3.50835312e-01\n",
      " 9.94719253e-01 4.01639731e-01 7.16513494e-01 5.86263062e-01\n",
      " 8.90525155e-01 7.04054065e-01 3.41321019e-01 2.57699682e-01\n",
      " 5.24995511e-01 6.69636146e-01 5.34550081e-01 8.56643244e-02\n",
      " 6.77621771e-01 5.85994699e-01 6.07342065e-01 6.74499081e-01\n",
      " 5.69746933e-01 9.18845522e-01 6.83126952e-01 2.25461259e-01\n",
      " 6.93002661e-01 7.67820189e-01 6.25774919e-01 2.75412429e-01\n",
      " 2.51724370e-01 1.90992388e-01 3.38815691e-01 8.72528437e-01\n",
      " 3.37336355e-02 9.10644519e-01 1.54783250e-01 6.31858659e-02\n",
      " 4.95079536e-01 4.62833461e-01 9.92662499e-01 5.64861656e-01\n",
      " 9.75248660e-01 5.13565443e-01 2.65846199e-01 3.80886951e-01\n",
      " 4.87136943e-01 5.32906933e-01 3.94327215e-01 5.39084749e-01\n",
      " 5.17558057e-01 4.74208487e-01 4.48660456e-01 5.49555953e-01\n",
      " 9.60533854e-01 2.79952291e-02 7.74050679e-01 6.93854364e-01\n",
      " 3.66451933e-01 6.90791842e-01 8.85242611e-01 8.86065104e-01\n",
      " 1.66091863e-01 3.09488916e-01 2.48654748e-01 7.76322096e-01\n",
      " 4.93769698e-01 9.59516670e-01 9.02188047e-01 3.26030237e-01\n",
      " 1.29274022e-01 8.82796888e-01 8.01304254e-01 9.47372450e-01\n",
      " 1.04514371e-01 8.76206003e-01 7.03820557e-01 2.28958304e-01\n",
      " 7.61616503e-01 7.86129487e-01 7.05725435e-01 1.98302738e-01\n",
      " 2.78765911e-01 6.13777764e-01 9.50604349e-01 7.47441540e-02\n",
      " 2.63792940e-02 1.30781567e-01 3.93441199e-01 1.01671155e-01\n",
      " 7.98701178e-01 1.88596828e-01 8.98667787e-01 2.07468759e-01\n",
      " 8.26746646e-01 1.89855869e-02 4.63286076e-01 6.44303613e-01\n",
      " 5.88220892e-01 2.42960991e-02 5.65894583e-02 3.40465355e-02\n",
      " 4.98816163e-02 5.12313837e-01 9.16973812e-01 1.58988285e-02\n",
      " 1.52974998e-02 6.84740083e-01 2.25083328e-02 9.19582029e-01\n",
      " 4.68000891e-01 3.73170206e-01 5.13542361e-01 8.09959100e-01\n",
      " 5.10601848e-01 5.57585911e-01 4.87923113e-01 1.18096347e-01\n",
      " 5.73269332e-01 7.67264555e-01 8.64118519e-01 4.37954837e-01\n",
      " 7.98838722e-01 1.68352272e-01 8.23518791e-01 1.86764343e-01\n",
      " 8.12783335e-01 8.55544503e-01 6.16709721e-01 5.79367518e-01\n",
      " 8.48432833e-01 7.38418641e-01 5.90430914e-02 5.48203666e-01\n",
      " 6.54561267e-01 6.24120984e-01 1.98531924e-01 6.70408679e-01\n",
      " 3.15119242e-02 2.45712644e-01 7.90764353e-01 5.65409079e-01\n",
      " 4.14643511e-01 8.15862537e-01 4.67734345e-01 6.06613337e-01\n",
      " 9.23889745e-01 3.60793531e-02 3.98607769e-01 2.46809427e-01\n",
      " 1.04119826e-01 9.93469326e-02 7.97452344e-01 1.20876269e-01\n",
      " 6.38352270e-01 5.20116432e-01 6.15136518e-01 9.83137594e-01\n",
      " 6.23156632e-01 9.41285715e-01 5.27870146e-01 4.34319865e-01\n",
      " 1.36869797e-01 8.52438894e-01 8.47374405e-01 2.35664498e-01\n",
      " 4.62426679e-01 1.67851190e-01 4.57540741e-01 8.80064052e-01\n",
      " 1.82489074e-01 9.10537616e-01 9.93930661e-01 7.31777394e-02\n",
      " 3.73775838e-01 8.18279894e-01 1.26630032e-01 1.39820484e-01\n",
      " 7.11258283e-01 7.16919102e-01 9.15094173e-01 3.58820514e-01\n",
      " 7.18735930e-01 1.84296964e-01 2.17318215e-01 6.39803944e-01\n",
      " 1.39507593e-01 8.81878037e-01 8.99162053e-01 4.73952654e-01\n",
      " 5.39259413e-01 7.92303144e-01 7.92396092e-01 7.10043358e-01\n",
      " 6.17251128e-01 4.17220632e-01 7.79091602e-01 9.25820351e-01\n",
      " 1.47804660e-01 6.82568026e-01 3.06986113e-01 2.79530794e-01\n",
      " 6.55115964e-01 2.06600147e-01 3.57244444e-01 8.18485612e-01\n",
      " 4.57404239e-02 7.44258744e-01 6.77369680e-01 1.88463222e-01\n",
      " 9.55964695e-01 3.48733415e-01 5.48847153e-01 6.33982240e-02\n",
      " 9.18467462e-01 3.88240425e-01 8.18161677e-01 1.21032224e-01\n",
      " 8.61171764e-01 4.43705176e-01 7.14963985e-01 2.77373135e-01\n",
      " 3.77766965e-01 9.34638908e-01 2.24268124e-01 2.84637751e-01\n",
      " 5.30104979e-01 3.59091627e-01 9.55320383e-01 3.37422315e-01\n",
      " 5.28524403e-01 8.17694693e-01 9.12686823e-01 2.43546471e-01\n",
      " 3.99841769e-01 8.77695012e-01 9.45633084e-01 8.48866929e-01\n",
      " 3.01363044e-01 9.42953994e-02 1.47802635e-01 6.34709102e-01\n",
      " 2.34485934e-01 5.54718551e-01 1.76890272e-01 8.04673741e-01\n",
      " 4.43798700e-01 9.05607349e-01 3.52988245e-01 2.25244714e-01\n",
      " 7.22959842e-01 1.66559713e-01 8.47498776e-01 8.40088389e-02\n",
      " 4.20552979e-01 9.43039083e-01 8.41479147e-01 8.18118588e-01\n",
      " 7.13500126e-01 7.92203922e-01 5.97754979e-01 4.87660821e-01\n",
      " 2.82235689e-01 1.65276742e-01 4.37160207e-01 7.45024666e-01\n",
      " 6.42524186e-01 1.00767555e-01 8.89519521e-01 9.17653556e-01] \n",
      "---------------------------------------------------------------------------------------------\n",
      "\n",
      "[[0.06639618 0.20789918 0.34829359 0.55488956 0.61262086 0.66837629\n",
      "  0.92818032 0.27110173 0.35959145 0.14129791]\n",
      " [0.54452938 0.90111051 0.43687875 0.25479977 0.46551025 0.45225693\n",
      "  0.24428242 0.98454879 0.17658366 0.29278138]] \n",
      "---------------------------------------------------------------------------------------------\n",
      "\n"
     ]
    },
    {
     "data": {
      "image/png": "[encoded data removed]",
      "text/plain": [
       "<Figure size 640x480 with 1 Axes>"
      ]
     },
     "metadata": {},
     "output_type": "display_data"
    }
   ],
   "source": [
    "# 균등분포\n",
    "# np.random.rand(num)\n",
    "# - 0.0 이상 1.0 미만의 균등분포 난수 생성\n",
    "# - num : 생성할 난수의 개수, shape\n",
    "\n",
    "arr = np.random.rand(1000)\n",
    "arr2 = np.random.rand(2, 10)\n",
    "print(arr, n)\n",
    "print(arr2, n)\n",
    "plt.hist(arr, bins=100)\n",
    "plt.hist(arr2, bins=100)\n",
    "plt.show()\n"
   ]
  },
  {
   "cell_type": "code",
   "execution_count": null,
   "id": "d6030ef4",
   "metadata": {},
   "outputs": [],
   "source": []
  },
  {
   "cell_type": "code",
   "execution_count": 184,
   "id": "1dc9a959",
   "metadata": {},
   "outputs": [
    {
     "name": "stdout",
     "output_type": "stream",
     "text": [
      "[[45 48 65 ... 88 47 89]\n",
      " [82 38 26 ... 20 15 40]\n",
      " [33 66 10 ...  6 39 18]\n",
      " ...\n",
      " [52 60 45 ... 75 86 40]\n",
      " [95 87  1 ... 37 84 45]\n",
      " [82 71  7 ...  3 38 72]] \n",
      "---------------------------------------------------------------------------------------------\n",
      "\n"
     ]
    },
    {
     "data": {
      "image/png": "[encoded data removed]",
      "text/plain": [
       "<Figure size 640x480 with 1 Axes>"
      ]
     },
     "metadata": {},
     "output_type": "display_data"
    }
   ],
   "source": [
    "np.random.seed(0) # -> seed 값 고정, 난수 계산 시작값 seed 고정\n",
    "# 정수 균등분포\n",
    "# np.random.randint(start, end, size)\n",
    "# - start : 시작값 이상\n",
    "# - end : 끝값 미만\n",
    "# - size : 생성할 난수의 개수, shape\n",
    "# arr = np.random.randint(1, 100, 1000)\n",
    "arr = np.random.randint(1, 100, (100, 20))\n",
    "print(arr, n)\n",
    "plt.hist(arr, bins=100)\n",
    "plt.show()\n"
   ]
  },
  {
   "cell_type": "code",
   "execution_count": 169,
   "id": "600cd0c5",
   "metadata": {},
   "outputs": [
    {
     "data": {
      "image/png": "[encoded data removed]",
      "text/plain": [
       "<Figure size 640x480 with 1 Axes>"
      ]
     },
     "metadata": {},
     "output_type": "display_data"
    }
   ],
   "source": [
    "# 균등분포\n",
    "# np.random.uniform(low, high, size)\n",
    "# - low : 최소값\n",
    "# - high : 최대값\n",
    "# - size : 생성할 난수의 개수, shape\n",
    "arr3 = np.random.uniform(0, 1, 1000)\n",
    "plt.hist(arr3, bins=100)\n",
    "plt.show()"
   ]
  },
  {
   "cell_type": "code",
   "execution_count": null,
   "id": "357c32eb",
   "metadata": {},
   "outputs": [],
   "source": []
  }
 ],
 "metadata": {
  "kernelspec": {
   "display_name": "pystudy_env",
   "language": "python",
   "name": "python3"
  },
  "language_info": {
   "codemirror_mode": {
    "name": "ipython",
    "version": 3
   },
   "file_extension": ".py",
   "mimetype": "text/x-python",
   "name": "python",
   "nbconvert_exporter": "python",
   "pygments_lexer": "ipython3",
   "version": "3.12.11"
  }
 },
 "nbformat": 4,
 "nbformat_minor": 5
}
