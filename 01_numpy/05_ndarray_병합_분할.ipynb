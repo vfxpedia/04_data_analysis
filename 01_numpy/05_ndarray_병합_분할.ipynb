{
 "cells": [
  {
   "cell_type": "markdown",
   "id": "4e578fba",
   "metadata": {},
   "source": [
    "### ndarray 병합 및 분할"
   ]
  },
  {
   "cell_type": "code",
   "execution_count": 1,
   "id": "2e2c75e6",
   "metadata": {},
   "outputs": [],
   "source": [
    "import numpy as np"
   ]
  },
  {
   "cell_type": "code",
   "execution_count": 2,
   "id": "68b4db4e",
   "metadata": {},
   "outputs": [],
   "source": [
    "n= \"\\n-----------------------------------------------------------------------------\\n\""
   ]
  },
  {
   "cell_type": "code",
   "execution_count": null,
   "id": "1b35bbf9",
   "metadata": {},
   "outputs": [],
   "source": [
    "# ndarray 는 만들때 길이가 정해진다 ?\n",
    "# 고정길이 배열\n",
    "# 겉보기엔 추가되고 삭제가 된 것 같지만, 존재하던 ndarray는 요소가 추가된 것이 아니라,\n",
    "# 새로운 배열이 생성되고 반환한다. (원본 배열은 그대로 유지된다.)"
   ]
  },
  {
   "cell_type": "markdown",
   "id": "9f21edb6",
   "metadata": {},
   "source": [
    "##### ndarray 요소 추가 및 삭제\n",
    "- ndarray는 고정 길이 배열이므로 크기 변경이 불가하다. == 요소를 추가할 수 없다."
   ]
  },
  {
   "cell_type": "code",
   "execution_count": null,
   "id": "41cc2934",
   "metadata": {},
   "outputs": [
    {
     "name": "stdout",
     "output_type": "stream",
     "text": [
      "[10 20 30]\n"
     ]
    }
   ],
   "source": [
    "arr = np.array([10, 20, 30])\n",
    "\n",
    "np.append(arr, 40) # 마지막에 40 추가\n",
    "np.insert(arr, 1, 15) # 원본 배열, 삽입할 위치 인덱스, 삽입할 요소소\n",
    "# 1번 인덱스에 15 추가\n",
    "\n",
    "print(arr) # 원본 배열은 그대로 유지된다."
   ]
  },
  {
   "cell_type": "code",
   "execution_count": 5,
   "id": "8a96ff67",
   "metadata": {},
   "outputs": [
    {
     "name": "stdout",
     "output_type": "stream",
     "text": [
      "[10 20 30] \n",
      "-----------------------------------------------------------------------------\n",
      "\n",
      "[10 20 30 40] \n",
      "-----------------------------------------------------------------------------\n",
      "\n",
      "[10 15 20 30] \n",
      "-----------------------------------------------------------------------------\n",
      "\n",
      "False [10 15 20 30]\n"
     ]
    }
   ],
   "source": [
    "arr = np.array([10, 20, 30])\n",
    "\n",
    "arr1 = np.append(arr, 40) # 마지막에 40 추가\n",
    "arr2 = np.insert(arr, 1, 15) # 원본 배열, 삽입할 위치 인덱스, 삽입할 요소소\n",
    "# 1번 인덱스에 15 추가\n",
    "\n",
    "print(arr, n)\n",
    "print(arr1, n)\n",
    "print(arr2, n)\n",
    "print(arr2 is arr, arr2)\n",
    "\n",
    "\n"
   ]
  }
 ],
 "metadata": {
  "kernelspec": {
   "display_name": "pystudy_env",
   "language": "python",
   "name": "python3"
  },
  "language_info": {
   "codemirror_mode": {
    "name": "ipython",
    "version": 3
   },
   "file_extension": ".py",
   "mimetype": "text/x-python",
   "name": "python",
   "nbconvert_exporter": "python",
   "pygments_lexer": "ipython3",
   "version": "3.12.11"
  }
 },
 "nbformat": 4,
 "nbformat_minor": 5
}
