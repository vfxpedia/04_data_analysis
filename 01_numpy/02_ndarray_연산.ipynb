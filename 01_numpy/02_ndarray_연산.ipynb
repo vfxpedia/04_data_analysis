{
 "cells": [
  {
   "cell_type": "markdown",
   "id": "5e54e82a",
   "metadata": {},
   "source": [
    "### ndarray_연산"
   ]
  },
  {
   "cell_type": "code",
   "execution_count": 1,
   "id": "0bb46fcc",
   "metadata": {},
   "outputs": [],
   "source": [
    "import numpy as np"
   ]
  },
  {
   "cell_type": "markdown",
   "id": "272d12a6",
   "metadata": {},
   "source": [
    "#### 기본 연산"
   ]
  },
  {
   "cell_type": "code",
   "execution_count": 5,
   "id": "3e3c6e8b",
   "metadata": {},
   "outputs": [],
   "source": [
    "n = \"\\n--------------------------------\\n\""
   ]
  },
  {
   "cell_type": "code",
   "execution_count": null,
   "id": "4e81881e",
   "metadata": {},
   "outputs": [],
   "source": [
    "# ndarray의 reshape() 메서드\n",
    "# 1차원 배열을 여러 개의 행과 열로 재배열하는 메서드\n",
    "# 주의할 점 : 배열의 총 요소 수와 재배열할 행과 열의 곱이 같아야 한다."
   ]
  },
  {
   "cell_type": "code",
   "execution_count": 7,
   "id": "e7eb7f32",
   "metadata": {},
   "outputs": [
    {
     "name": "stdout",
     "output_type": "stream",
     "text": [
      "[[1 2 3]\n",
      " [4 5 6]\n",
      " [7 8 9]] \n",
      "--------------------------------\n",
      " (3, 3) \n",
      "--------------------------------\n",
      "\n"
     ]
    },
    {
     "data": {
      "text/plain": [
       "array([[1, 2, 3],\n",
       "       [4, 5, 6],\n",
       "       [7, 8, 9]])"
      ]
     },
     "execution_count": 7,
     "metadata": {},
     "output_type": "execute_result"
    }
   ],
   "source": [
    "arr_a = np.arange(1, 10).reshape(3, 3)\n",
    "print(arr_a, n, arr_a.shape, n)\n",
    "arr_a"
   ]
  },
  {
   "cell_type": "code",
   "execution_count": 9,
   "id": "3d1ca9a5",
   "metadata": {},
   "outputs": [
    {
     "name": "stdout",
     "output_type": "stream",
     "text": [
      "[[1 2 3]\n",
      " [4 5 6]\n",
      " [7 8 9]] \n",
      "--------------------------------\n",
      " (3, 3) \n",
      "--------------------------------\n",
      "\n",
      "[[3 3 3]\n",
      " [3 3 3]\n",
      " [3 3 3]] \n",
      "--------------------------------\n",
      " (3, 3) \n",
      "--------------------------------\n",
      "\n"
     ]
    }
   ],
   "source": [
    "arr_b = np.full_like(arr_a, 3)\n",
    "print(arr_a, n, arr_a.shape, n)\n",
    "print(arr_b, n, arr_b.shape, n)"
   ]
  },
  {
   "cell_type": "code",
   "execution_count": 20,
   "id": "f6dde702",
   "metadata": {},
   "outputs": [
    {
     "name": "stdout",
     "output_type": "stream",
     "text": [
      "[[ 4  5  6]\n",
      " [ 7  8  9]\n",
      " [10 11 12]] \n",
      "--------------------------------\n",
      "\n",
      "[[ 4  5  6]\n",
      " [ 7  8  9]\n",
      " [10 11 12]]\n"
     ]
    }
   ],
   "source": [
    "# 덧셈\n",
    "print(arr_a + arr_b, n)\n",
    "print(np.add(arr_a, arr_b))"
   ]
  },
  {
   "cell_type": "code",
   "execution_count": 21,
   "id": "6c34d9e4",
   "metadata": {},
   "outputs": [
    {
     "name": "stdout",
     "output_type": "stream",
     "text": [
      "[[-2 -1  0]\n",
      " [ 1  2  3]\n",
      " [ 4  5  6]] \n",
      "--------------------------------\n",
      "\n",
      "[[-2 -1  0]\n",
      " [ 1  2  3]\n",
      " [ 4  5  6]]\n"
     ]
    }
   ],
   "source": [
    "# 뺄셈\n",
    "print(arr_a - arr_b, n)\n",
    "print(np.subtract(arr_a, arr_b))"
   ]
  },
  {
   "cell_type": "code",
   "execution_count": 22,
   "id": "911aae04",
   "metadata": {},
   "outputs": [
    {
     "name": "stdout",
     "output_type": "stream",
     "text": [
      "[[ 3  6  9]\n",
      " [12 15 18]\n",
      " [21 24 27]] \n",
      "--------------------------------\n",
      "\n",
      "[[ 3  6  9]\n",
      " [12 15 18]\n",
      " [21 24 27]]\n"
     ]
    }
   ],
   "source": [
    "# 곱셈\n",
    "print(arr_a * arr_b, n)\n",
    "print(np.multiply(arr_a, arr_b))"
   ]
  },
  {
   "cell_type": "code",
   "execution_count": null,
   "id": "5a039a25",
   "metadata": {},
   "outputs": [
    {
     "name": "stdout",
     "output_type": "stream",
     "text": [
      "[[0.33333333 0.66666667 1.        ]\n",
      " [1.33333333 1.66666667 2.        ]\n",
      " [2.33333333 2.66666667 3.        ]] \n",
      "--------------------------------\n",
      " [[0 0 1]\n",
      " [1 1 2]\n",
      " [2 2 3]] \n",
      "--------------------------------\n",
      "\n",
      "[[0.33333333 0.66666667 1.        ]\n",
      " [1.33333333 1.66666667 2.        ]\n",
      " [2.33333333 2.66666667 3.        ]]\n"
     ]
    }
   ],
   "source": [
    "# 나눗셈\n",
    "print(arr_a / arr_b, n, (arr_a / arr_b).astype(int), n)\n",
    "print(np.divide(arr_a, arr_b))"
   ]
  },
  {
   "cell_type": "code",
   "execution_count": 30,
   "id": "d7d7f888",
   "metadata": {},
   "outputs": [
    {
     "name": "stdout",
     "output_type": "stream",
     "text": [
      "[[1 2 3]\n",
      " [4 5 6]\n",
      " [7 8 9]] \n",
      "--------------------------------\n",
      " [[3 3 3]\n",
      " [3 3 3]\n",
      " [3 3 3]] \n",
      "--------------------------------\n",
      "\n",
      "[[  1   8  27]\n",
      " [ 64 125 216]\n",
      " [343 512 729]] \n",
      "--------------------------------\n",
      "\n",
      "[[  1   8  27]\n",
      " [ 64 125 216]\n",
      " [343 512 729]] \n",
      "--------------------------------\n",
      "\n",
      "[[1.         1.41421356 1.73205081]\n",
      " [2.         2.23606798 2.44948974]\n",
      " [2.64575131 2.82842712 3.        ]] \n",
      "--------------------------------\n",
      "\n",
      "[[ 1  4  9]\n",
      " [16 25 36]\n",
      " [49 64 81]] \n",
      "--------------------------------\n",
      "\n",
      "[[2.71828183e+00 7.38905610e+00 2.00855369e+01]\n",
      " [5.45981500e+01 1.48413159e+02 4.03428793e+02]\n",
      " [1.09663316e+03 2.98095799e+03 8.10308393e+03]] \n",
      "--------------------------------\n",
      "\n",
      "[[0.         0.69314718 1.09861229]\n",
      " [1.38629436 1.60943791 1.79175947]\n",
      " [1.94591015 2.07944154 2.19722458]] \n",
      "--------------------------------\n",
      "\n",
      "[[0.         0.30103    0.47712125]\n",
      " [0.60205999 0.69897    0.77815125]\n",
      " [0.84509804 0.90308999 0.95424251]] \n",
      "--------------------------------\n",
      "\n"
     ]
    }
   ],
   "source": [
    "# 특수연산 1 : 거듭제곱\n",
    "print(arr_a, n, arr_b, n)\n",
    "print(arr_a ** arr_b, n)\n",
    "print(np.power(arr_a, arr_b), n) # 거듭제곱(power, 제곱 연산) np.power(base, exponent)\n",
    "print(np.sqrt(arr_a), n) # 제곱근\n",
    "print(np.square(arr_a), n) # 제곱\n",
    "\n",
    "print(np.exp(arr_a), n) # 지수함수\n",
    "print(np.log(arr_a), n) # 자연로그\n",
    "print(np.log10(arr_a), n) # 상용로그"
   ]
  },
  {
   "cell_type": "code",
   "execution_count": 26,
   "id": "416906da",
   "metadata": {},
   "outputs": [
    {
     "name": "stdout",
     "output_type": "stream",
     "text": [
      "[[0 0 1]\n",
      " [1 1 2]\n",
      " [2 2 3]] \n",
      "--------------------------------\n",
      "\n",
      "[[0 0 1]\n",
      " [1 1 2]\n",
      " [2 2 3]]\n"
     ]
    }
   ],
   "source": [
    "# 특수연산 2: 몫\n",
    "print(arr_a // arr_b, n)\n",
    "print(np.floor_divide(arr_a, arr_b))"
   ]
  },
  {
   "cell_type": "code",
   "execution_count": 27,
   "id": "0cbf339c",
   "metadata": {},
   "outputs": [
    {
     "name": "stdout",
     "output_type": "stream",
     "text": [
      "[[1 2 0]\n",
      " [1 2 0]\n",
      " [1 2 0]] \n",
      "--------------------------------\n",
      "\n",
      "[[1 2 0]\n",
      " [1 2 0]\n",
      " [1 2 0]] \n",
      "--------------------------------\n",
      "\n"
     ]
    }
   ],
   "source": [
    "# 특수연산 3 : 나머지\n",
    "print(arr_a % arr_b, n)\n",
    "print(np.mod(arr_a, arr_b), n)"
   ]
  },
  {
   "cell_type": "markdown",
   "id": "2562031f",
   "metadata": {},
   "source": [
    "### **[실습] 데이터를 기반으로 배열 연산 수행**\n",
    "\n",
    "다음과 같은 과일 판매량 데이터가 있습니다. 각 과일의 1분기와 2분기 판매량이 주어졌을 때, NumPy 배열을 사용하여 아래 문제를 해결하세요.\n",
    "\n",
    "1. 1분기와 2분기의 과일별 총 판매량을 구하세요.\n",
    "2. 과일별 평균 판매량을 구하세요.\n",
    "\n",
    "- **데이터**:\n",
    "    - 1분기 판매량: `[200, 340, 150, 400]` (사과, 배, 오렌지, 바나나)\n",
    "    - 2분기 판매량: `[220, 300, 180, 420]` (사과, 배, 오렌지, 바나나)\n"
   ]
  },
  {
   "cell_type": "code",
   "execution_count": 38,
   "id": "61a99a92",
   "metadata": {},
   "outputs": [
    {
     "name": "stdout",
     "output_type": "stream",
     "text": [
      "1, 2분기 총 판매량 :  [420 640 330 820] \n",
      "--------------------------------\n",
      "\n",
      "과일 별 평균 판매량 : [210 320 165 410] \n",
      "--------------------------------\n",
      "\n"
     ]
    }
   ],
   "source": [
    "arr_1 = np.array([200, 340, 150, 400])\n",
    "arr_2 = np.array([220, 300, 180, 420])\n",
    "arr_add = np.add(arr_1, arr_2)\n",
    "\n",
    "print(\"1, 2분기 총 판매량 : \", arr_add, n)\n",
    "print(\"과일 별 평균 판매량 :\", (arr_add / 2).astype(int), n)\n"
   ]
  },
  {
   "cell_type": "markdown",
   "id": "69bc7c77",
   "metadata": {},
   "source": [
    "### **[실습 1] 기본 산술 연산**\n",
    "\n",
    "\n",
    "다음 두 배열을 사용하여 각각의 요소별로 덧셈, 뺄셈, 곱셈, 나눗셈을 수행하세요.\n",
    "\n",
    "\n",
    "```python\n",
    "arr1 = np.array([10, 20, 30, 40])\n",
    "arr2 = np.array([1, 2, 3, 4])\n",
    "```"
   ]
  },
  {
   "cell_type": "code",
   "execution_count": 40,
   "id": "bed3f5eb",
   "metadata": {},
   "outputs": [
    {
     "name": "stdout",
     "output_type": "stream",
     "text": [
      "덧셈 :  [11 22 33 44] \n",
      "--------------------------------\n",
      "\n",
      "뺄셈 :  [ 9 18 27 36] \n",
      "--------------------------------\n",
      "\n",
      "곱셈 :  [ 10  40  90 160] \n",
      "--------------------------------\n",
      "\n",
      "나눗셈 :  [10. 10. 10. 10.] \n",
      "--------------------------------\n",
      "\n"
     ]
    }
   ],
   "source": [
    "arr1 = np.array([10, 20, 30, 40])\n",
    "arr2 = np.array([1, 2, 3, 4])\n",
    "\n",
    "arr_add = np.add(arr1, arr2)\n",
    "arr_sub = np.subtract(arr1, arr2)\n",
    "arr_mul = np.multiply(arr1, arr2)\n",
    "arr_div = np.divide(arr1, arr2)\n",
    "\n",
    "print(\"덧셈 : \", arr_add, n)\n",
    "print(\"뺄셈 : \", arr_sub, n)\n",
    "print(\"곱셈 : \", arr_mul, n)\n",
    "print(\"나눗셈 : \", arr_div, n)\n",
    "\n",
    "\n"
   ]
  },
  {
   "cell_type": "markdown",
   "id": "bde580e2",
   "metadata": {},
   "source": [
    "##### broadcasting 연산\n",
    "\n",
    "- 두 배열의 shape이 다르면 broadcasting 연산을 수행한다.\n",
    "- shape이 작은 쪽이 큰 쪽에 맞춰 확장한다.\n",
    "> 조건\n",
    ">- 두 배열의 행 또는 열이 일치해야 확장 가능하다. \n",
    ">   - **(확장에 대한 요소를 정할 수 있기 때문이다. 중요)**\n",
    ">- 크기가 1인 경우 무조건 확장 가능하다.\n",
    ">- shape이 다른 경우 마지막 축부터 차원이 동일한지 비교한다."
   ]
  },
  {
   "cell_type": "code",
   "execution_count": null,
   "id": "b24ee9f8",
   "metadata": {},
   "outputs": [
    {
     "name": "stdout",
     "output_type": "stream",
     "text": [
      "[[1 2 3]\n",
      " [4 5 6]\n",
      " [7 8 9]] \n",
      "--------------------------------\n",
      "\n",
      "[[ 5 10 15]\n",
      " [20 25 30]\n",
      " [35 40 45]] \n",
      "--------------------------------\n",
      "\n",
      "[[ 5 10 15]\n",
      " [20 25 30]\n",
      " [35 40 45]] \n",
      "--------------------------------\n",
      "\n",
      "[5] \n",
      "--------------------------------\n",
      "\n",
      "[[ 5 10 15]\n",
      " [20 25 30]\n",
      " [35 40 45]] \n",
      "--------------------------------\n",
      "\n"
     ]
    }
   ],
   "source": [
    "arr_a = np.arange(1, 10).reshape(3, 3)\n",
    "\n",
    "result_arr1 = arr_a * np.array([[5, 5, 5], [5, 5, 5], [5, 5, 5]]) # shape (3, 3) ndim 2\n",
    "# 같은 shape의 배열끼리 연산 시 같은 요소의 위치별 각 요소별로 연산 수행\n",
    "\n",
    "result_arr2 = arr_a * np.array([5, 5, 5]) # shape (3,) ndim 1\n",
    "# 배열의 행과 열의 개수가 다른 경우 브로드캐스팅 연산 수행\n",
    "# (3, 3)\n",
    "# 1단계 : (3,) -> 차원을 맞춰준다 (1, 3) -> 브로드캐스팅 연산 수행\n",
    "# 2단계 : (1, 3) -> 축을 보니 3, 3 동일\n",
    "# 3단계 : (3, 3) -> 차원을 보니 3, 1 -> 3, 3 형태로 변환\n",
    "\n",
    "result_arr3 = np.array([5]) # shape (1,) ndim 0\n",
    "# 1단계 : (1,) -> 차원을 맞춰준다 (1, 1) -> 브로드캐스팅 연산 수행\n",
    "# 2단계 : (1, 1) -> 축을 보니 3, 1 다름 -> (1, 3) 형태로 변환\n",
    "# 3단계 : (1, 3) -> 차원을 보니 3, 1 다름 -> (3, 3) 형태로 변환\n",
    "\n",
    "result_arr4 = arr_a * 5 # 5 : scalar값 , shape (3, 3), ndim 0\n",
    "# \n",
    "\n",
    "\n",
    "print(arr_a, n)\n",
    "print(result_arr1, n)\n",
    "print(result_arr2, n)\n",
    "print(result_arr3, n)\n",
    "print(result_arr4, n)\n",
    "\n",
    "# 1 : 차원을 맞춰라\n",
    "# 2 : 축을 보니 같으면 넘어가고 다르면 형태를 맞춰라\n",
    "# 3 : 차원을 보니 같으면 넘어가고 다르면 형태를 맞춰라\n"
   ]
  },
  {
   "cell_type": "code",
   "execution_count": null,
   "id": "742b00b0",
   "metadata": {},
   "outputs": [
    {
     "name": "stdout",
     "output_type": "stream",
     "text": [
      "[[ 6 12 18]\n",
      " [ 9 15 21]]\n"
     ]
    }
   ],
   "source": [
    "arr1 = np.array([[1, 2, 3], [4, 5, 6]]) # shape (2, 3) ndim 2\n",
    "arr2 = np.array([5, 10, 15]) # shape (3,) ndim 1\n",
    "\n",
    "print(arr1 + arr2) # shape (2, 3) ndim 2\n",
    "# 1단계 : (3,) -> 차원을 맞춰준다 (1, 3) -> 브로드캐스팅 연산 수행\n",
    "# 2단계 : (1, 3) -> 축을 보니 3, 3 동일\n",
    "# 3단계 : (2, 3) -> 차원을 보니 2, 1 -> (2, 3) 형태로 변환\n",
    "\n",
    "\n",
    "\n"
   ]
  },
  {
   "cell_type": "code",
   "execution_count": 47,
   "id": "17b8af74",
   "metadata": {},
   "outputs": [
    {
     "name": "stdout",
     "output_type": "stream",
     "text": [
      "[[101 102 103]\n",
      " [204 205 206]]\n"
     ]
    }
   ],
   "source": [
    "arr1 = np.array([[1, 2, 3], [4, 5, 6]]) # shape (2, 3) ndim 2\n",
    "arr2 = np.array([[100], [200]]) # shape (2, 1) ndim 2\n",
    "\n",
    "print(arr1 + arr2) # shape (2, 3) ndim 2\n",
    "# 1단계 : 차원은 동일\n",
    "# 2단계 : 축을 보니 3, 1 다름 -> (2, 3) 형태로 변환\n",
    "# [[100]   -> [[100 100 100]\n",
    "#  [200]]   -> [200 200 200]]\n"
   ]
  },
  {
   "cell_type": "code",
   "execution_count": 48,
   "id": "7b270732",
   "metadata": {},
   "outputs": [
    {
     "name": "stdout",
     "output_type": "stream",
     "text": [
      "[[5 6 7]\n",
      " [6 7 8]\n",
      " [7 8 9]]\n"
     ]
    },
    {
     "data": {
      "text/plain": [
       "'\\n(3, )          (1, 3)        (3, 3)\\n[1, 2, 3]      [[1, 2, 3]]   [[1, 2, 3],\\n                              [1, 2, 3],\\n                              [1, 2, 3]]\\n\\n(3, 1)             (3, 3)\\n[[4], [5], [6]] -> [[4, 4, 4],\\n                    [5, 5, 5],\\n                    [6, 6, 6]]\\n'"
      ]
     },
     "execution_count": 48,
     "metadata": {},
     "output_type": "execute_result"
    }
   ],
   "source": [
    "arr1 = np.array([1, 2, 3]) # shape (3,) ndim 1\n",
    "arr2 = np.array([[4], [5], [6]]) # shape (3, 1) ndim 2\n",
    "\n",
    "print(arr1 + arr2) # shape (3, 1) ndim 2\n",
    "'''\n",
    "(3, )          (1, 3)        (3, 3)\n",
    "[1, 2, 3]      [[1, 2, 3]]   [[1, 2, 3],\n",
    "                              [1, 2, 3],\n",
    "                              [1, 2, 3]]\n",
    "\n",
    "(3, 1)             (3, 3)\n",
    "[[4], [5], [6]] -> [[4, 4, 4],\n",
    "                    [5, 5, 5],\n",
    "                    [6, 6, 6]]\n",
    "'''\n",
    "\n",
    "\n"
   ]
  },
  {
   "cell_type": "code",
   "execution_count": null,
   "id": "d1a79276",
   "metadata": {},
   "outputs": [
    {
     "ename": "ValueError",
     "evalue": "operands could not be broadcast together with shapes (2,3) (2,) ",
     "output_type": "error",
     "traceback": [
      "\u001b[31m---------------------------------------------------------------------------\u001b[39m",
      "\u001b[31mValueError\u001b[39m                                Traceback (most recent call last)",
      "\u001b[36mCell\u001b[39m\u001b[36m \u001b[39m\u001b[32mIn[49]\u001b[39m\u001b[32m, line 4\u001b[39m\n\u001b[32m      1\u001b[39m arr1 = np.array([[\u001b[32m1\u001b[39m, \u001b[32m2\u001b[39m, \u001b[32m3\u001b[39m], [\u001b[32m1\u001b[39m, \u001b[32m2\u001b[39m, \u001b[32m3\u001b[39m]]) \u001b[38;5;66;03m# shape (2, 3) ndim 2\u001b[39;00m\n\u001b[32m      2\u001b[39m arr2 = np.array([\u001b[32m1\u001b[39m, \u001b[32m2\u001b[39m]) \u001b[38;5;66;03m# shape (2,) ndim 1\u001b[39;00m\n\u001b[32m----> \u001b[39m\u001b[32m4\u001b[39m \u001b[38;5;28mprint\u001b[39m(\u001b[43marr1\u001b[49m\u001b[43m \u001b[49m\u001b[43m+\u001b[49m\u001b[43m \u001b[49m\u001b[43marr2\u001b[49m) \u001b[38;5;66;03m# shape (2, 3) ndim 2\u001b[39;00m\n",
      "\u001b[31mValueError\u001b[39m: operands could not be broadcast together with shapes (2,3) (2,) "
     ]
    }
   ],
   "source": [
    "arr1 = np.array([[1, 2, 3], [1, 2, 3]]) # shape (2, 3) ndim 2\n",
    "arr2 = np.array([1, 2]) # shape (2,) ndim 1\n",
    "# 행, 열 개수가 다르면 브로드캐스팅 연산 불가\n",
    "print(arr1 + arr2) # ValueError: operands could not be broadcast together with shapes (2,3) (2,) "
   ]
  },
  {
   "cell_type": "markdown",
   "id": "3e9e0d8d",
   "metadata": {},
   "source": [
    "##### 행렬 곱셈\n",
    "\n",
    "- 점곱연산 (Dot Product / 내적)\n",
    "    - 두 행렬 A, B의 곱셈은 첫 번째 행렬 A의 행과 두번째 행렬 B의 열 간의 곱셈을 수행한다. \n",
    "    - ***첫 번째 행렬 A의 열의 수*와 *두번째 행렬 B의 행의 수*가 같아야 한다.** **(중요)**\n",
    "    - 연산 결과의 shape은 (첫 번재 행렬 A의 행수, 두번째 행렬 B의 열수)이다."
   ]
  },
  {
   "cell_type": "code",
   "execution_count": null,
   "id": "e3193110",
   "metadata": {},
   "outputs": [],
   "source": [
    "[[1, 2],        [[5, 6],\n",
    "[3, 4]]          [7, 8]]\n",
    "\n",
    "[[1*5 + 2*7, 1*6 + 2*8],\n",
    "[3*5 + 4*7, 3*6 + 4*8]]\n",
    "\n",
    "-> 점곱 연산 결과 : [[19, 20], [43, 46]]\n",
    "-> 앞에 있는 행의 수와 뒤에 있는 열의 수가 같아야 점곱 연산 가능"
   ]
  },
  {
   "cell_type": "code",
   "execution_count": null,
   "id": "73edc132",
   "metadata": {},
   "outputs": [
    {
     "name": "stdout",
     "output_type": "stream",
     "text": [
      "[[ 5 12]\n",
      " [21 32]] \n",
      "--------------------------------\n",
      "\n",
      " arr1.shape :  (2, 2) \n",
      "--------------------------------\n",
      " arr2.shape :  (2, 2) \n",
      "--------------------------------\n",
      " arr1 * arr2.shape :  (2, 2) \n",
      "--------------------------------\n",
      "\n",
      "[[19 22]\n",
      " [43 50]] \n",
      "--------------------------------\n",
      "\n",
      " np.dot(arr1, arr2).shape :  (2, 2) \n",
      "--------------------------------\n",
      "\n"
     ]
    }
   ],
   "source": [
    "arr1 = np.array([[1, 2],\n",
    "                 [3, 4]])\n",
    "arr2 = np.array([[5, 6],\n",
    "                 [7, 8]])\n",
    "\n",
    "print(arr1 * arr2, n) # 요소별 곱셈\n",
    "print(\" arr1.shape : \", arr1.shape, n, \"arr2.shape : \", arr2.shape, n, \"arr1 * arr2.shape : \", (arr1 * arr2).shape, n)\n",
    "\n",
    "print(np.dot(arr1, arr2), n) # 행렬 곱셈\n",
    "print(\" np.dot(arr1, arr2).shape : \", np.dot(arr1, arr2).shape, n) # 행렬 곱셈 결과의 shape\n",
    "\n",
    "# numpy 배열의 행렬 곱셈 .dot() 메서드 사용"
   ]
  },
  {
   "cell_type": "code",
   "execution_count": null,
   "id": "add134ee",
   "metadata": {},
   "outputs": [
    {
     "name": "stdout",
     "output_type": "stream",
     "text": [
      " arr3.shape :  (2, 3) \n",
      "--------------------------------\n",
      " arr4.shape :  (3, 2) \n",
      "--------------------------------\n",
      " np.dot(arr3, arr4).shape :  (2, 2) \n",
      "--------------------------------\n",
      "\n",
      "[[ 58  64]\n",
      " [139 154]] \n",
      "--------------------------------\n",
      "\n",
      "연산 결과의 shape은 (첫번째 행렬의 행수, 두번째 행렬의 열수)이다.\n",
      "내적 연산과 broadcasting 연산의 차이점, 다르다는 점을 확인하자 \n",
      "--------------------------------\n",
      "\n",
      "[[ 39  54  69]\n",
      " [ 49  68  87]\n",
      " [ 59  82 105]] \n",
      "--------------------------------\n",
      "\n"
     ]
    }
   ],
   "source": [
    "arr3 = np.array([[1, 2, 3], [4, 5, 6]]) # shape (2, 3) ndim 2\n",
    "arr4 = np.array([[7, 8], [9, 10], [11, 12]]) # shape (3, 2) ndim 2\n",
    "\n",
    "print(\" arr3.shape : \", arr3.shape, n, \"arr4.shape : \", arr4.shape, n, \"np.dot(arr3, arr4).shape : \", np.dot(arr3, arr4).shape, n)\n",
    "\n",
    "print(np.dot(arr3, arr4), n)\n",
    "\n",
    "print(\"연산 결과의 shape은 (첫번째 행렬의 행수, 두번째 행렬의 열수)이다.\")\n",
    "print(\"내적 연산과 broadcasting 연산의 차이점, 다르다는 점을 확인하자\", n)\n",
    "\n",
    "# np.dot(arr3, arr4) -> (2, 3) * (3, 2) -> (2, 2)\n",
    "# np.dot(arr4, arr3) -> (3, 2) * (2, 3) -> (3, 3)\n",
    "\n",
    "print(np.dot(arr4, arr3), n)"
   ]
  },
  {
   "cell_type": "code",
   "execution_count": null,
   "id": "2ea5f32b",
   "metadata": {},
   "outputs": [],
   "source": [
    "# Quiz! shape으로만 결과 판단하기!\n",
    "\n",
    "# (100, 2000) (20000, 100) : (100, 100)\n",
    "# (20000, 100) (100, 20000) : (20000, 20000)\n",
    "# (100, 20000) (100, 20000) : (100, 20000) -> 내적 연산 불가\n",
    "# 첫 번째 행렬 A의 열의 수와 두번째 행렬 B의 행의 수가 같아야 내적 연산 가능\n",
    "\n",
    "\n",
    "# 내적 연산 결과의 shape은 (첫번째 행렬의 행수, 두번째 행렬의 열수)이다."
   ]
  },
  {
   "cell_type": "code",
   "execution_count": 75,
   "id": "49c9758b",
   "metadata": {},
   "outputs": [
    {
     "name": "stdout",
     "output_type": "stream",
     "text": [
      "[[1 2 3]\n",
      " [4 5 6]] \n",
      "--------------------------------\n",
      "\n",
      "[[1 4]\n",
      " [2 5]\n",
      " [3 6]] \n",
      "--------------------------------\n",
      "\n",
      "[[14 32]\n",
      " [32 77]] \n",
      "--------------------------------\n",
      "\n",
      "[[14 32]\n",
      " [32 77]] \n",
      "--------------------------------\n",
      "\n"
     ]
    }
   ],
   "source": [
    "# 백터 내적 연산 결과의 shape은 (1, )이다.\n",
    "# 백터는 내적 연산이 되지 않는다.\n",
    "\n",
    "arr = np.array([[1, 2, 3], [4, 5, 6]]) # shape (2, 3) ndim 2\n",
    "\n",
    "# @ -> matmul() 연산과 같다. = dot() 연산과 같다. 내적 연산\n",
    "# print(arr @ arr)\n",
    "# ValueError: matmul: Input operand 1 has a mismatch in its core dimension 0, with gufunc signature (n?,k),(k,m?)->(n?,m?) (size 2 is different from 3)\n",
    "\n",
    "# matmul() = dot() 연산과 같다.\n",
    "# (2, 3) @ (2, 3) -> (2, 3) -> 내적 연산 불가\n",
    "# (3, 2) @ (2, 3) -> (3, 3) -> 내적 연산 가능\n",
    "\n",
    "# .T\n",
    "print(arr, n)\n",
    "print(arr.T, n) # arr.T = arr의 전치행렬  (행-열을 교환)\n",
    "print(arr @ arr.T, n) # 내적 연산 결과의 shape은 (첫번째 행렬의 행수, 두번째 행렬의 열수)이다.\n",
    "# arr @ arr.T -> (2, 3) @ (3, 2) -> (2, 2) -> 내적 연산 가능\n",
    "\n",
    "# matmul()\n",
    "print(np.matmul(arr, arr.T), n)\n",
    "\n",
    "\n"
   ]
  },
  {
   "cell_type": "markdown",
   "id": "a789ea5d",
   "metadata": {},
   "source": [
    "---\n",
    "### 연산 함수 및 집계 함수"
   ]
  },
  {
   "cell_type": "code",
   "execution_count": 87,
   "id": "f38d99dc",
   "metadata": {},
   "outputs": [],
   "source": [
    "arr_negative = np.array([[-1, -2], [-100, -200]])\n",
    "arr_float = np.array([[1.234, 5.678], [7.89, 10.123]])\n",
    "arr = np.arange(1, 7).reshape(2, 3)"
   ]
  },
  {
   "cell_type": "code",
   "execution_count": 88,
   "id": "6ade1f13",
   "metadata": {},
   "outputs": [
    {
     "name": "stdout",
     "output_type": "stream",
     "text": [
      "[[  1   2]\n",
      " [100 200]] \n",
      "--------------------------------\n",
      "\n"
     ]
    }
   ],
   "source": [
    "# 절대값\n",
    "print(np.abs(arr_negative), n) # 절대값, 결과 : [[1 2], [100 200]]\n",
    "\n",
    "# # 제곱\n",
    "# np.square(arr_negative)\n",
    "# np.square(arr_float)\n",
    "\n",
    "# # 제곱근\n",
    "# np.sqrt(arr_negative)\n",
    "# np.sqrt(arr_float)\n",
    "\n",
    "# # 제곱근\n",
    "# np.sqrt(arr_negative)\n",
    "# np.sqrt(arr_float)"
   ]
  },
  {
   "cell_type": "code",
   "execution_count": null,
   "id": "129efd92",
   "metadata": {},
   "outputs": [
    {
     "name": "stdout",
     "output_type": "stream",
     "text": [
      "[[ 2.  6.]\n",
      " [ 8. 11.]] \n",
      "--------------------------------\n",
      "\n",
      "[[ 1.  5.]\n",
      " [ 7. 10.]] \n",
      "--------------------------------\n",
      "\n",
      "[[ 1.  6.]\n",
      " [ 8. 10.]] \n",
      "--------------------------------\n",
      "\n",
      "[[ 1.23  5.68]\n",
      " [ 7.89 10.12]] \n",
      "--------------------------------\n",
      "\n"
     ]
    }
   ],
   "source": [
    "# 올림/ 반올림\n",
    "print(np.ceil(arr_float), n)# 올림, 결과 : [[2. 6.], [8. 11.]]\n",
    "print(np.round(arr_float), n) # 반올림, 결과 : [[1. 6.], [8. 10.]]\n",
    "print(np.round(arr_float, 2), n) # 소수점 둘째자리에서 반올림\n",
    "# 결과 : [[1.23 5.68], [7.89 10.12]]\n"
   ]
  },
  {
   "cell_type": "code",
   "execution_count": null,
   "id": "6f6f3dbc",
   "metadata": {},
   "outputs": [
    {
     "name": "stdout",
     "output_type": "stream",
     "text": [
      "[[ 1. -6.]\n",
      " [-8. 10.]] \n",
      "--------------------------------\n",
      "\n",
      "[[ 1. -5.]\n",
      " [-7. 10.]] \n",
      "--------------------------------\n",
      "\n"
     ]
    }
   ],
   "source": [
    "arr_float = np.array([[1.234, -5.678], [-7.89, 10.123]])\n",
    "\n",
    "# 내림 (지정된 수보다 작은 최대 정수수)\n",
    "print(np.floor(arr_float), n)\n",
    "\n",
    "# 버림 (절삭)\n",
    "print(np.trunc(arr_float), n)"
   ]
  },
  {
   "cell_type": "code",
   "execution_count": null,
   "id": "b504d536",
   "metadata": {},
   "outputs": [
    {
     "name": "stdout",
     "output_type": "stream",
     "text": [
      "[[7 1 2]\n",
      " [8 3 5]] \n",
      "--------------------------------\n",
      "\n",
      "8 \n",
      "--------------------------------\n",
      "\n",
      "1 \n",
      "--------------------------------\n",
      "\n",
      "[8 3 5] \n",
      "--------------------------------\n",
      "\n",
      "[7 8] \n",
      "--------------------------------\n",
      "\n",
      "[7 1 2] \n",
      "--------------------------------\n",
      "\n",
      "[1 3] \n",
      "--------------------------------\n",
      "\n",
      "26 \n",
      "--------------------------------\n",
      "\n",
      "4.333333333333333 \n",
      "--------------------------------\n",
      "\n",
      "4.0 \n",
      "--------------------------------\n",
      "\n"
     ]
    }
   ],
   "source": [
    "# 최대값 / 최소값\n",
    "arr = np.array([[7, 1, 2], [8, 3, 5]])\n",
    "\n",
    "print(arr, n) # shape (2, 3) ndim 2\n",
    "print(np.max(arr), n)\n",
    "print(np.min(arr), n)\n",
    "\n",
    "print(np.max(arr, axis=0), n) # 행 단위 최대값\n",
    "print(np.max(arr, axis=1), n) # 열 단위 최대값\n",
    "\n",
    "print(np.min(arr, axis=0), n) # 행 단위 최소값\n",
    "print(np.min(arr, axis=1), n) # 열 단위 최소값\n",
    "\n",
    "\n"
   ]
  },
  {
   "cell_type": "code",
   "execution_count": 109,
   "id": "21690ce7",
   "metadata": {},
   "outputs": [
    {
     "name": "stdout",
     "output_type": "stream",
     "text": [
      "[[1 2 3]\n",
      " [4 5 6]] \n",
      "--------------------------------\n",
      "\n",
      "21 \n",
      "--------------------------------\n",
      "\n",
      "21 \n",
      "--------------------------------\n",
      "\n",
      "[5 7 9] \n",
      "--------------------------------\n",
      "\n",
      "[ 6 15] \n",
      "--------------------------------\n",
      "\n"
     ]
    }
   ],
   "source": [
    "arr = np.array([[1, 2, 3], [4, 5, 6]])\n",
    "print(arr, n)\n",
    "# 합계\n",
    "print(np.sum(arr), n)\n",
    "print(arr.sum(), n)\n",
    "\n",
    "print(arr.sum(axis=0), n) # 행 단위 합계\n",
    "print(arr.sum(axis=1), n) # 열 단위 합계"
   ]
  },
  {
   "cell_type": "code",
   "execution_count": 112,
   "id": "6eea181f",
   "metadata": {},
   "outputs": [
    {
     "name": "stdout",
     "output_type": "stream",
     "text": [
      "[[1 2 3]\n",
      " [4 5 6]]\n",
      "3.5 \n",
      "--------------------------------\n",
      "\n",
      "3.5 \n",
      "--------------------------------\n",
      "\n",
      "3.5 \n",
      "--------------------------------\n",
      "\n",
      "[2.5 3.5 4.5] \n",
      "--------------------------------\n",
      "\n",
      "[2. 5.] \n",
      "--------------------------------\n",
      "\n",
      "3.5 \n",
      "--------------------------------\n",
      "\n",
      "2.9166666666666665 \n",
      "--------------------------------\n",
      "\n",
      "1.707825127659933 \n",
      "--------------------------------\n",
      "\n",
      "6 \n",
      "--------------------------------\n",
      "\n"
     ]
    },
    {
     "ename": "ValueError",
     "evalue": "object too deep for desired array",
     "output_type": "error",
     "traceback": [
      "\u001b[31m---------------------------------------------------------------------------\u001b[39m",
      "\u001b[31mValueError\u001b[39m                                Traceback (most recent call last)",
      "\u001b[36mCell\u001b[39m\u001b[36m \u001b[39m\u001b[32mIn[112]\u001b[39m\u001b[32m, line 25\u001b[39m\n\u001b[32m     22\u001b[39m \u001b[38;5;28mprint\u001b[39m(np.max(arr), n)\n\u001b[32m     24\u001b[39m \u001b[38;5;66;03m# 최빈값\u001b[39;00m\n\u001b[32m---> \u001b[39m\u001b[32m25\u001b[39m \u001b[38;5;28mprint\u001b[39m(\u001b[43mnp\u001b[49m\u001b[43m.\u001b[49m\u001b[43mbincount\u001b[49m\u001b[43m(\u001b[49m\u001b[43marr\u001b[49m\u001b[43m)\u001b[49m, n)\n",
      "\u001b[31mValueError\u001b[39m: object too deep for desired array"
     ]
    }
   ],
   "source": [
    "print(arr)\n",
    "\n",
    "# 평균\n",
    "print(np.average(arr), n)\n",
    "\n",
    "print(np.mean(arr), n)\n",
    "print(arr.mean(), n)\n",
    "\n",
    "print(arr.mean(axis=0), n) # 행 단위 평균\n",
    "print(arr.mean(axis=1), n) # 열 단위 평균\n",
    "\n",
    "# 중앙값\n",
    "print(np.median(arr), n)\n",
    "\n",
    "# 분산\n",
    "print(np.var(arr), n)\n",
    "\n",
    "# 표준편차\n",
    "print(np.std(arr), n)\n",
    "\n",
    "# 최대값\n",
    "print(np.max(arr), n)\n",
    "\n",
    "# 최빈값\n",
    "print(np.bincount(arr), n)\n",
    "\n",
    "\n"
   ]
  },
  {
   "cell_type": "code",
   "execution_count": 115,
   "id": "8def7d5d",
   "metadata": {},
   "outputs": [
    {
     "name": "stdout",
     "output_type": "stream",
     "text": [
      "[[1 5 2]\n",
      " [7 4 9]] \n",
      "--------------------------------\n",
      "\n",
      "9 \n",
      "--------------------------------\n",
      "\n",
      "1 \n",
      "--------------------------------\n",
      "\n",
      "[7 5 9] \n",
      "--------------------------------\n",
      "\n",
      "[5 9] \n",
      "--------------------------------\n",
      "\n",
      "[1 4 2] \n",
      "--------------------------------\n",
      "\n",
      "[1 4] \n",
      "--------------------------------\n",
      "\n"
     ]
    }
   ],
   "source": [
    "# 최대값/ 최소값\n",
    "\n",
    "arr = np.array([[1, 5, 2],\n",
    "                [7, 4, 9]])\n",
    "\n",
    "print(arr, n)\n",
    "print(np.max(arr), n)\n",
    "print(np.min(arr), n)\n",
    "print(np.max(arr, axis=0), n) # 행 단위 최대값\n",
    "print(np.max(arr, axis=1), n) # 열 단위 최대값\n",
    "print(np.min(arr, axis=0), n) # 행 단위 최소값\n",
    "print(np.min(arr, axis=1), n) # 열 단위 최소값"
   ]
  },
  {
   "cell_type": "code",
   "execution_count": null,
   "id": "4b6b4781",
   "metadata": {},
   "outputs": [],
   "source": []
  }
 ],
 "metadata": {
  "kernelspec": {
   "display_name": "pystudy_env",
   "language": "python",
   "name": "python3"
  },
  "language_info": {
   "codemirror_mode": {
    "name": "ipython",
    "version": 3
   },
   "file_extension": ".py",
   "mimetype": "text/x-python",
   "name": "python",
   "nbconvert_exporter": "python",
   "pygments_lexer": "ipython3",
   "version": "3.12.11"
  }
 },
 "nbformat": 4,
 "nbformat_minor": 5
}
